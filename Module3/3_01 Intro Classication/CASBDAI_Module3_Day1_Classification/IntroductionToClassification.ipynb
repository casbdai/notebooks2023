{
 "cells": [
  {
   "cell_type": "markdown",
   "metadata": {
    "id": "-u9in3e0XVXn",
    "pycharm": {
     "name": "#%% md\n"
    }
   },
   "source": [
    "# Hands On - Predicting Customer Churn - Introduction to Classification"
   ]
  },
  {
   "cell_type": "markdown",
   "metadata": {
    "id": "4NA2JhnVX6ZL",
    "pycharm": {
     "name": "#%% md\n"
    }
   },
   "source": [
    "# Import & Prepare Data"
   ]
  },
  {
   "cell_type": "code",
   "execution_count": null,
   "metadata": {
    "id": "KTcyOOect_tE",
    "pycharm": {
     "name": "#%%\n"
    }
   },
   "outputs": [],
   "source": [
    "import pandas as _____\n",
    "churn = pd._____(\"https://raw.githubusercontent.com/casbdai/datasets/main/churn.csv\")"
   ]
  },
  {
   "cell_type": "markdown",
   "metadata": {
    "id": "94kjRIcJoy53",
    "pycharm": {
     "name": "#%% md\n"
    }
   },
   "source": [
    "## Check Structure of Data"
   ]
  },
  {
   "cell_type": "code",
   "execution_count": null,
   "metadata": {
    "id": "e3rakrkKpE0m",
    "pycharm": {
     "name": "#%%\n"
    }
   },
   "outputs": [],
   "source": [
    "churn._____()"
   ]
  },
  {
   "cell_type": "markdown",
   "metadata": {
    "id": "66scpIgU4yiD",
    "pycharm": {
     "name": "#%% md\n"
    }
   },
   "source": [
    "\n",
    "\n",
    "*   No missing data\n",
    "*   23 Features\n",
    "* Some features are objects (text data). We need to transform them because scikit-learn cannot work with them\n",
    "\n"
   ]
  },
  {
   "cell_type": "code",
   "execution_count": null,
   "metadata": {
    "id": "oHWHGAZIR9p5",
    "pycharm": {
     "name": "#%%\n"
    }
   },
   "outputs": [],
   "source": [
    "churn.head()"
   ]
  },
  {
   "cell_type": "markdown",
   "metadata": {
    "id": "6SGlLhLneurF",
    "pycharm": {
     "name": "#%% md\n"
    }
   },
   "source": [
    "## Separate Features and Labels"
   ]
  },
  {
   "cell_type": "code",
   "execution_count": null,
   "metadata": {
    "id": "-vkKVc94wLU0",
    "pycharm": {
     "name": "#%%\n"
    }
   },
   "outputs": [],
   "source": [
    "X = ______.drop(_____,axis=_) # Features\n",
    "y = churn[\"churn\"] # Target variable"
   ]
  },
  {
   "cell_type": "code",
   "execution_count": null,
   "metadata": {
    "id": "3zBHmkB6YNZI",
    "pycharm": {
     "name": "#%%\n"
    }
   },
   "outputs": [],
   "source": [
    "y"
   ]
  },
  {
   "cell_type": "code",
   "execution_count": null,
   "metadata": {
    "id": "z4imhqkuYJBG",
    "pycharm": {
     "name": "#%%\n"
    }
   },
   "outputs": [],
   "source": [
    "X.info()"
   ]
  },
  {
   "cell_type": "markdown",
   "metadata": {
    "id": "RGGSu_imfIpc",
    "pycharm": {
     "name": "#%% md\n"
    }
   },
   "source": [
    "## Recode pandas \"objects\""
   ]
  },
  {
   "cell_type": "markdown",
   "metadata": {
    "id": "Ppw-RjFPfVX8",
    "pycharm": {
     "name": "#%% md\n"
    }
   },
   "source": [
    "\"Objects\" in Pandas are textual variables. Sklearn cannot work with them. We have to recode them"
   ]
  },
  {
   "cell_type": "code",
   "execution_count": null,
   "metadata": {
    "id": "9JhLfcWvZ9lm",
    "pycharm": {
     "name": "#%%\n"
    }
   },
   "outputs": [],
   "source": [
    "churn[\"occupation\"].unique() #unique returns the unique values for a variable"
   ]
  },
  {
   "cell_type": "markdown",
   "metadata": {
    "id": "9s6IdoX4ekB4",
    "pycharm": {
     "name": "#%% md\n"
    }
   },
   "source": [
    "### One-hot encoding"
   ]
  },
  {
   "cell_type": "code",
   "execution_count": null,
   "metadata": {
    "id": "Eb1BczLycIPf",
    "pycharm": {
     "name": "#%%\n"
    }
   },
   "outputs": [],
   "source": [
    "X_onehot = __.get_dummies(_, drop_first = ____)\n",
    "X_onehot.head()"
   ]
  },
  {
   "cell_type": "markdown",
   "metadata": {
    "id": "BiaGHntKpSN2",
    "pycharm": {
     "name": "#%% md\n"
    }
   },
   "source": [
    "Check out feature \"customer_suspended\". Due to the onehot encoding there is now a \"customer_suspended_Yes\" and a \"customer_suspended_No\" version. Of course, both variables contain the same information."
   ]
  },
  {
   "cell_type": "markdown",
   "metadata": {
    "id": "S_Z7kWHvgDe8",
    "pycharm": {
     "name": "#%% md\n"
    }
   },
   "source": [
    "### Dummy coding"
   ]
  },
  {
   "cell_type": "code",
   "execution_count": null,
   "metadata": {
    "id": "zUIEXuxdfz52",
    "pycharm": {
     "name": "#%%\n"
    }
   },
   "outputs": [],
   "source": [
    "X = __.get_dummies(_, ______ = True)\n",
    "_.head()"
   ]
  },
  {
   "cell_type": "markdown",
   "metadata": {
    "id": "qXK1vSvc5K_B",
    "pycharm": {
     "name": "#%% md\n"
    }
   },
   "source": [
    "Adding the argument \"drop_first = True\" deletes the redundant features.\n",
    "\n",
    "Some algorithms have problems with dealing with the redundant information (e.g. linear models). Thus, dummy coding is a safer bet without loosing any information (= preferred choice)\n",
    "\n",
    "Bet we now have a bigger number of features\n",
    "\n"
   ]
  },
  {
   "cell_type": "code",
   "execution_count": null,
   "metadata": {
    "id": "AhDcbhix5s0d",
    "pycharm": {
     "name": "#%%\n"
    }
   },
   "outputs": [],
   "source": [
    "X.____()"
   ]
  },
  {
   "cell_type": "markdown",
   "metadata": {
    "id": "_QtZ2WLybmGX",
    "pycharm": {
     "name": "#%% md\n"
    }
   },
   "source": [
    "# Train and Plot a First Decision Tree\n"
   ]
  },
  {
   "cell_type": "markdown",
   "metadata": {
    "id": "cQfA34KbcZTf",
    "pycharm": {
     "name": "#%% md\n"
    }
   },
   "source": [
    "## 1) Import Model Function"
   ]
  },
  {
   "cell_type": "code",
   "execution_count": null,
   "metadata": {
    "id": "ZlGzuIPxgbks",
    "pycharm": {
     "name": "#%%\n"
    }
   },
   "outputs": [],
   "source": [
    "from sklearn.tree import DecisionTreeClassifier"
   ]
  },
  {
   "cell_type": "markdown",
   "metadata": {
    "id": "WSFI5ktSgnW9",
    "pycharm": {
     "name": "#%% md\n"
    }
   },
   "source": [
    "## 2) Instantiate Model"
   ]
  },
  {
   "cell_type": "code",
   "execution_count": null,
   "metadata": {
    "id": "Q7IUHqZvbvDL",
    "pycharm": {
     "name": "#%%\n"
    }
   },
   "outputs": [],
   "source": [
    "tree = ___________(criterion=\"______\", \n",
    "                              _______=2)"
   ]
  },
  {
   "cell_type": "markdown",
   "metadata": {
    "id": "8nYBAfPyb0ML",
    "pycharm": {
     "name": "#%% md\n"
    }
   },
   "source": [
    "Used hyperparameters:\n",
    "\n",
    "* **criterion=\"entropy\":** using informatin gain as measure for splitting\n",
    "* **max_depth:** allowed number of maximum splits\n",
    "\n"
   ]
  },
  {
   "cell_type": "markdown",
   "metadata": {
    "id": "SxevkbVdcmIN",
    "pycharm": {
     "name": "#%% md\n"
    }
   },
   "source": [
    "## 3) Fit Model to Data"
   ]
  },
  {
   "cell_type": "code",
   "execution_count": null,
   "metadata": {
    "id": "BXRMAMAlcreN",
    "pycharm": {
     "name": "#%%\n"
    }
   },
   "outputs": [],
   "source": [
    "tree.____(X,y)"
   ]
  },
  {
   "cell_type": "markdown",
   "metadata": {
    "id": "6KwH6l0UhhnH",
    "pycharm": {
     "name": "#%% md\n"
    }
   },
   "source": [
    "## 4) Make Predictions"
   ]
  },
  {
   "cell_type": "markdown",
   "metadata": {
    "id": "VIRG6bQbxJ__",
    "pycharm": {
     "name": "#%% md\n"
    }
   },
   "source": [
    ".predict() gets the predicted class. Sklearn is using a default threshold of 0.5. Every predicted probability that is higher is set to 1. Eevery predicted propability that is smaller is set to 0."
   ]
  },
  {
   "cell_type": "code",
   "execution_count": null,
   "metadata": {
    "id": "saQbDgIZhuWB",
    "pycharm": {
     "name": "#%%\n"
    }
   },
   "outputs": [],
   "source": [
    "_____.predict(_)"
   ]
  },
  {
   "cell_type": "markdown",
   "metadata": {
    "id": "N-mHF2JsxN_8",
    "pycharm": {
     "name": "#%% md\n"
    }
   },
   "source": [
    "We can also get the predicted probabilities with .preedict_proba(). We get two columents: One for the negative class (remain) and one for the positive class (churn). Both values sum up two 1. \n",
    "\n",
    "The positive class is in the second columm: "
   ]
  },
  {
   "cell_type": "code",
   "execution_count": null,
   "metadata": {
    "id": "vTUigXsbh9tj",
    "pycharm": {
     "name": "#%%\n"
    }
   },
   "outputs": [],
   "source": [
    "_______.predict_proba(_)"
   ]
  },
  {
   "cell_type": "markdown",
   "metadata": {
    "id": "-V3gsABvqOY5",
    "pycharm": {
     "name": "#%% md\n"
    }
   },
   "source": [
    "## Plot Decision Tree"
   ]
  },
  {
   "cell_type": "markdown",
   "metadata": {
    "id": "F9nkuQ-U6Jbs",
    "pycharm": {
     "name": "#%% md\n"
    }
   },
   "source": [
    "The following function can be used to draw a DecistionTreeClassifier Model:"
   ]
  },
  {
   "cell_type": "code",
   "execution_count": null,
   "metadata": {
    "id": "9pkbUothZtHr",
    "pycharm": {
     "name": "#%%\n"
    }
   },
   "outputs": [],
   "source": [
    "def plot_tree_classification(treemodel, X):\n",
    "    from sklearn import tree\n",
    "    import matplotlib.pyplot as plt\n",
    "    fig = plt.figure(figsize=(60,20))\n",
    "    _ = tree.plot_tree(treemodel,filled=True,class_names=['0','1'],feature_names = X.columns,proportion=True,precision=2)"
   ]
  },
  {
   "cell_type": "code",
   "execution_count": null,
   "metadata": {
    "id": "3ZN6soUC1VJv",
    "pycharm": {
     "name": "#%%\n"
    }
   },
   "outputs": [],
   "source": [
    "plot_tree_classification(_____, ___)"
   ]
  },
  {
   "cell_type": "markdown",
   "metadata": {
    "id": "a6oL8Iuvd33s",
    "pycharm": {
     "name": "#%% md\n"
    }
   },
   "source": [
    "## Check out other Hyperparameters - How is the tree affected?\n"
   ]
  },
  {
   "cell_type": "markdown",
   "metadata": {
    "id": "hr6ksWXV6k1s",
    "pycharm": {
     "name": "#%% md\n"
    }
   },
   "source": [
    "Hyperparameters to vary\n",
    "\n",
    "* **max_depth:** allowed number of maximum splits\n",
    "* **min_samples_leaf:** The minimum number of samples required to be at a leaf node. Split will be considered if each child leave has at least min_sample_leaf instances.\n",
    "* **min_samples_split:** The minimum number of instances required to split an internal node. Must be at least 2.\n",
    "\n",
    "\n"
   ]
  },
  {
   "cell_type": "markdown",
   "metadata": {
    "pycharm": {
     "name": "#%% md\n"
    }
   },
   "source": [
    "\n",
    "\n",
    "*  Increasing max_depth: ____\n",
    "*  Increasing min_samples_leaf and min_samples_split: ____\n",
    "\n"
   ]
  },
  {
   "cell_type": "code",
   "execution_count": null,
   "metadata": {
    "pycharm": {
     "name": "#%%\n"
    }
   },
   "outputs": [],
   "source": [
    "tree = DecisionTreeClassifier(criterion=\"entropy\", \n",
    "                              max_depth=___,\n",
    "                              min_samples_split=__,\n",
    "                              min_samples_leaf=___)\n",
    "tree = _____._____(X,y)\n",
    "plot_tree_classification(_____, _____)"
   ]
  },
  {
   "cell_type": "markdown",
   "metadata": {
    "pycharm": {
     "name": "#%% md\n"
    }
   },
   "source": [
    "# Evaluate Accuracy of Classifier"
   ]
  },
  {
   "cell_type": "markdown",
   "metadata": {
    "pycharm": {
     "name": "#%% md\n"
    }
   },
   "source": [
    "## 1) Import Model Functions"
   ]
  },
  {
   "cell_type": "code",
   "execution_count": null,
   "metadata": {
    "pycharm": {
     "name": "#%%\n"
    }
   },
   "outputs": [],
   "source": [
    "from sklearn.tree import DecisionTreeClassifier\n",
    "from sklearn.model_selection import train_test_split\n",
    "from sklearn.metrics import accuracy_score"
   ]
  },
  {
   "cell_type": "markdown",
   "metadata": {
    "pycharm": {
     "name": "#%% md\n"
    }
   },
   "source": [
    "## 2) Instantiate Model"
   ]
  },
  {
   "cell_type": "code",
   "execution_count": null,
   "metadata": {
    "pycharm": {
     "name": "#%%\n"
    }
   },
   "outputs": [],
   "source": [
    "tree_train = _____(criterion=\"entropy\", \n",
    "                                    _____=_____)"
   ]
  },
  {
   "cell_type": "markdown",
   "metadata": {
    "pycharm": {
     "name": "#%% md\n"
    }
   },
   "source": [
    "## 3) Create Test & Training Data\n"
   ]
  },
  {
   "cell_type": "code",
   "execution_count": null,
   "metadata": {
    "pycharm": {
     "name": "#%%\n"
    }
   },
   "outputs": [],
   "source": [
    "_____, _____, _____, _____ = train_test_split(_____, _____, _____=0.3, random_state=1)"
   ]
  },
  {
   "cell_type": "markdown",
   "metadata": {
    "pycharm": {
     "name": "#%% md\n"
    }
   },
   "source": [
    "\n",
    "*   **X:** Features to be split into testing and training data\n",
    "*   **y:** Labels to be split into testing and training data\n",
    "*   **test_size:** proportion of the dataset in the test data; usually ~ 30%\n",
    "*   **random_state:** seed for making results reproducible. Instances are randomly distributed among testing and training data. However, every computer splits randomly in a different fashion. Providing a seed, makes results reproducible because with the same seed, all computers split the data in the same fashion.\n",
    "\n",
    "\n"
   ]
  },
  {
   "cell_type": "markdown",
   "metadata": {
    "pycharm": {
     "name": "#%% md\n"
    }
   },
   "source": [
    "We can use the .shape method to investigate whether data splitting has been succesfull"
   ]
  },
  {
   "cell_type": "code",
   "execution_count": null,
   "metadata": {
    "pycharm": {
     "name": "#%%\n"
    }
   },
   "outputs": [],
   "source": [
    "X.shape #4863 instances and 25 variables in the entire dataset"
   ]
  },
  {
   "cell_type": "code",
   "execution_count": null,
   "metadata": {
    "pycharm": {
     "name": "#%%\n"
    }
   },
   "outputs": [],
   "source": [
    "X_train.shape #3404 instances and 25 variables in the training dataset"
   ]
  },
  {
   "cell_type": "code",
   "execution_count": null,
   "metadata": {
    "pycharm": {
     "name": "#%%\n"
    }
   },
   "outputs": [],
   "source": [
    "X_test.shape #1459 instances and 25 variables in the training dataset"
   ]
  },
  {
   "cell_type": "markdown",
   "metadata": {
    "pycharm": {
     "name": "#%% md\n"
    }
   },
   "source": [
    "## 4) Fit Model to Training Data\n"
   ]
  },
  {
   "cell_type": "code",
   "execution_count": null,
   "metadata": {
    "pycharm": {
     "name": "#%%\n"
    }
   },
   "outputs": [],
   "source": [
    "tree_train._____(_____, _____)"
   ]
  },
  {
   "cell_type": "markdown",
   "metadata": {
    "pycharm": {
     "name": "#%% md\n"
    }
   },
   "source": [
    "## 5) Make Predictions on Testing Data\n"
   ]
  },
  {
   "cell_type": "code",
   "execution_count": null,
   "metadata": {
    "pycharm": {
     "name": "#%%\n"
    }
   },
   "outputs": [],
   "source": [
    "_____ = tree_train._____(_____)\n",
    "y_pred"
   ]
  },
  {
   "cell_type": "markdown",
   "metadata": {
    "pycharm": {
     "name": "#%% md\n"
    }
   },
   "source": [
    "## 6) Score Accuracy"
   ]
  },
  {
   "cell_type": "code",
   "execution_count": null,
   "metadata": {
    "pycharm": {
     "name": "#%%\n"
    }
   },
   "outputs": [],
   "source": [
    "accuracy_score(_____, _____)"
   ]
  },
  {
   "cell_type": "markdown",
   "metadata": {
    "pycharm": {
     "name": "#%% md\n"
    }
   },
   "source": [
    "## Determining \"The Sunshine Spot\""
   ]
  },
  {
   "cell_type": "markdown",
   "metadata": {
    "pycharm": {
     "name": "#%% md\n"
    }
   },
   "source": [
    "Calculate the accuracy of the decision tree for a “max_depth“ of 10, 20, 30, 40, 50!"
   ]
  },
  {
   "cell_type": "code",
   "execution_count": null,
   "metadata": {
    "pycharm": {
     "name": "#%%\n"
    }
   },
   "outputs": [],
   "source": [
    "tree_train = _____(criterion=\"entropy\", max_depth=50, random_state=12)\n",
    "tree_train.fit(_____, _____)\n",
    "y_pred = _____._____(_____)\n",
    "accuracy_score(_____, _____)"
   ]
  },
  {
   "cell_type": "markdown",
   "metadata": {
    "pycharm": {
     "name": "#%% md\n"
    }
   },
   "source": [
    "We provide random_state = 12 such that we all get identical results. The seed (=number) itself does not matter, it just has to be the same!"
   ]
  },
  {
   "cell_type": "markdown",
   "metadata": {
    "pycharm": {
     "name": "#%% md\n"
    }
   },
   "source": [
    "# Evaluating Model Performance the Data Scientist Way"
   ]
  },
  {
   "cell_type": "markdown",
   "metadata": {
    "pycharm": {
     "name": "#%% md\n"
    }
   },
   "source": [
    "## Accuracy Paradox"
   ]
  },
  {
   "cell_type": "code",
   "execution_count": null,
   "metadata": {
    "pycharm": {
     "name": "#%%\n"
    }
   },
   "outputs": [],
   "source": [
    "len(y_test)"
   ]
  },
  {
   "cell_type": "code",
   "execution_count": null,
   "metadata": {
    "pycharm": {
     "name": "#%%\n"
    }
   },
   "outputs": [],
   "source": [
    "accuracy_score(y_test,[0]*1459)"
   ]
  },
  {
   "cell_type": "markdown",
   "metadata": {
    "pycharm": {
     "name": "#%% md\n"
    }
   },
   "source": [
    "## Instantiating a new model at the \"sunshine spot\""
   ]
  },
  {
   "cell_type": "code",
   "execution_count": null,
   "metadata": {
    "pycharm": {
     "name": "#%%\n"
    }
   },
   "outputs": [],
   "source": [
    "tree_educatedguess = DecisionTreeClassifier(criterion=\"entropy\", \n",
    "                              _____=30,\n",
    "                              _____=50,\n",
    "                              _____=12)\n",
    "_____._____(_____, _____)\n",
    "_____ = _____._____(_____)"
   ]
  },
  {
   "cell_type": "markdown",
   "metadata": {
    "pycharm": {
     "name": "#%% md\n"
    }
   },
   "source": [
    "min_samples_leaf=50 is added for didactical reasons to show a specific effect"
   ]
  },
  {
   "cell_type": "markdown",
   "metadata": {
    "pycharm": {
     "name": "#%% md\n"
    }
   },
   "source": [
    "## Get confusion_matrix"
   ]
  },
  {
   "cell_type": "code",
   "execution_count": null,
   "metadata": {
    "pycharm": {
     "name": "#%%\n"
    }
   },
   "outputs": [],
   "source": [
    "from sklearn.metrics import confusion_matrix\n",
    "confusion_matrix(y_test, y_pred)"
   ]
  },
  {
   "cell_type": "markdown",
   "metadata": {
    "pycharm": {
     "name": "#%% md\n"
    }
   },
   "source": [
    "- True Negatives = 696\n",
    "- False Positives = 229\n",
    "- False Negatives = 269\n",
    "- True Positives = 265"
   ]
  },
  {
   "cell_type": "markdown",
   "metadata": {
    "pycharm": {
     "name": "#%% md\n"
    }
   },
   "source": [
    "## Calculating accuracy"
   ]
  },
  {
   "cell_type": "code",
   "execution_count": null,
   "metadata": {
    "pycharm": {
     "name": "#%%\n"
    }
   },
   "outputs": [],
   "source": []
  },
  {
   "cell_type": "markdown",
   "metadata": {
    "pycharm": {
     "name": "#%% md\n"
    }
   },
   "source": [
    "## Calculating Recall / Sensitivity"
   ]
  },
  {
   "cell_type": "markdown",
   "metadata": {
    "pycharm": {
     "name": "#%% md\n"
    }
   },
   "source": [
    "- True Positives / (True Positives + False Negatives) \n",
    "- Recall / Sensitivity = Proportion of churning customers that we can detect!"
   ]
  },
  {
   "cell_type": "code",
   "execution_count": null,
   "metadata": {
    "pycharm": {
     "name": "#%%\n"
    }
   },
   "outputs": [],
   "source": []
  },
  {
   "cell_type": "markdown",
   "metadata": {
    "pycharm": {
     "name": "#%% md\n"
    }
   },
   "source": [
    "## Calculate Precision"
   ]
  },
  {
   "cell_type": "markdown",
   "metadata": {
    "pycharm": {
     "name": "#%% md\n"
    }
   },
   "source": [
    "- True Positives / (True Positives + False Positives)\n",
    "- Precision = If we flag a customer as churning, what is the chance that this is correct? "
   ]
  },
  {
   "cell_type": "code",
   "execution_count": null,
   "metadata": {
    "pycharm": {
     "name": "#%%\n"
    }
   },
   "outputs": [],
   "source": []
  },
  {
   "cell_type": "markdown",
   "metadata": {
    "pycharm": {
     "name": "#%% md\n"
    }
   },
   "source": [
    "## Specificity"
   ]
  },
  {
   "cell_type": "markdown",
   "metadata": {
    "pycharm": {
     "name": "#%% md\n"
    }
   },
   "source": [
    "- True Negatives / (True Negatives + False Positives)\n",
    "- Specificity = Proportion of not churning customers that we can identify\n",
    "- False Alarm = 1 - Specificity"
   ]
  },
  {
   "cell_type": "code",
   "execution_count": null,
   "metadata": {
    "pycharm": {
     "name": "#%%\n"
    }
   },
   "outputs": [],
   "source": []
  },
  {
   "cell_type": "markdown",
   "metadata": {
    "pycharm": {
     "name": "#%% md\n"
    }
   },
   "source": [
    "## Classification Report - Getting it all at once"
   ]
  },
  {
   "cell_type": "code",
   "execution_count": null,
   "metadata": {
    "pycharm": {
     "name": "#%%\n"
    }
   },
   "outputs": [],
   "source": [
    "from sklearn.metrics import classification_report\n",
    "print(classification_report(_____, _____))"
   ]
  },
  {
   "cell_type": "markdown",
   "metadata": {
    "pycharm": {
     "name": "#%% md\n"
    }
   },
   "source": [
    "Additional measures:\n",
    "\n",
    "\n",
    "*   **F1-Score:** (harmonic) mean of precision and recall >> very good measure for \"overall accuracy\" as it balances precision and recall\n",
    "*   **Support:** Number of instances that churn (1) / not churn (0)\n",
    "\n"
   ]
  },
  {
   "cell_type": "markdown",
   "metadata": {
    "pycharm": {
     "name": "#%% md\n"
    }
   },
   "source": [
    "## Variying the threshold for classification\n"
   ]
  },
  {
   "cell_type": "markdown",
   "metadata": {
    "pycharm": {
     "name": "#%% md\n"
    }
   },
   "source": [
    "By default a class probability of > 0.5 determines a customer as churning!\n",
    "\n",
    "using .predict_proba() we can get predicted probabilities and try out own tresholds:"
   ]
  },
  {
   "cell_type": "code",
   "execution_count": null,
   "metadata": {
    "pycharm": {
     "name": "#%%\n"
    }
   },
   "outputs": [],
   "source": [
    "tree_educatedguess.predict_proba(_____)"
   ]
  },
  {
   "cell_type": "code",
   "execution_count": null,
   "metadata": {
    "pycharm": {
     "name": "#%%\n"
    }
   },
   "outputs": [],
   "source": [
    "y_pred =  (tree_educatedguess.predict_proba(_____)[:, 1] > _____).astype(_____)\n",
    "print(classification_report(_____, _____))"
   ]
  },
  {
   "cell_type": "markdown",
   "metadata": {
    "pycharm": {
     "name": "#%% md\n"
    }
   },
   "source": [
    "* This model has lower accuracy\n",
    "* Perfect Recall (all churning customers can be identified)\n",
    "* Low Precision (Only 49% of predictions are correct)\n",
    "\n",
    "The threshold of 0.1 is very low, each customer with probability of churning than > 10% is flagged as churning (a quite optimistic model)"
   ]
  },
  {
   "cell_type": "code",
   "execution_count": null,
   "metadata": {
    "pycharm": {
     "name": "#%%\n"
    }
   },
   "outputs": [],
   "source": [
    "_____ =  (_____.predict_proba(_____)[:, 1] > _____)._____(_____)\n",
    "print(_____(_____, _____))"
   ]
  },
  {
   "cell_type": "markdown",
   "metadata": {
    "pycharm": {
     "name": "#%% md\n"
    }
   },
   "source": [
    "* This model has higher accuracy\n",
    "* Lower Recall (only 30% of churning customers are identified)\n",
    "* Higher Precision (59%)\n",
    "\n",
    "The threshold of 0.7 is quite strict, only customers with probability of churning than > 70% are flagged as churning (a quite conservative model)"
   ]
  },
  {
   "cell_type": "markdown",
   "metadata": {
    "pycharm": {
     "name": "#%% md\n"
    }
   },
   "source": [
    "## ROC and AUC - Model performance independent of threshold"
   ]
  },
  {
   "cell_type": "code",
   "execution_count": null,
   "metadata": {
    "pycharm": {
     "name": "#%%\n"
    }
   },
   "outputs": [],
   "source": [
    "def plot_ROC(model, X_test, y_test):\n",
    "  import matplotlib.pyplot as plt\n",
    "  from sklearn.metrics import RocCurveDisplay\n",
    "  tree_ROC = RocCurveDisplay.from_estimator(model, X_test, y_test, color='green', linewidth=3)\n",
    "  plt.title('ROC Curve')\n",
    "  plt.xlabel('False Alarm (1 - Specificity)')\n",
    "  plt.ylabel('Recall (Sensitivity)')\n",
    "  plt.show()"
   ]
  },
  {
   "cell_type": "code",
   "execution_count": null,
   "metadata": {
    "pycharm": {
     "name": "#%%\n"
    }
   },
   "outputs": [],
   "source": [
    "plot_ROC(_____, _____, _____)"
   ]
  },
  {
   "cell_type": "markdown",
   "metadata": {
    "id": "g-gHt0rKt5iI",
    "pycharm": {
     "name": "#%% md\n"
    }
   },
   "source": [
    "# Strategies for Improving Model Performance"
   ]
  },
  {
   "cell_type": "markdown",
   "metadata": {},
   "source": [
    "## Working with \"unseen\" data"
   ]
  },
  {
   "cell_type": "markdown",
   "metadata": {},
   "source": [
    "While the model hasn't seen the test data during training, we have used the test data to optimize the model. We as data scientists have seen and used the test data. \n",
    "\n",
    "If we want to improve the model we have to use the train data and not the test data."
   ]
  },
  {
   "cell_type": "markdown",
   "metadata": {},
   "source": [
    "### Option 1) A third split"
   ]
  },
  {
   "cell_type": "markdown",
   "metadata": {},
   "source": [
    "We split the train set."
   ]
  },
  {
   "cell_type": "code",
   "execution_count": null,
   "metadata": {},
   "outputs": [],
   "source": [
    "X_train_train, X_train_test, y_train_train, y_train_test = train_test_split(X_train, y_train, test_size=0.2, random_state=1)"
   ]
  },
  {
   "cell_type": "markdown",
   "metadata": {},
   "source": [
    "Use the train data to find the best model"
   ]
  },
  {
   "cell_type": "code",
   "execution_count": null,
   "metadata": {},
   "outputs": [],
   "source": [
    "tree_train = DecisionTreeClassifier(criterion=\"entropy\", max_depth=50, random_state=12)\n",
    "_____.fit(_____, _____)\n",
    "y_pred = tree_train.predict(_____)\n",
    "accuracy_score(_____, y_pred)"
   ]
  },
  {
   "cell_type": "markdown",
   "metadata": {},
   "source": [
    "Make the final prediction with the best model trained on the complete train data. We want to train on as much data as possible!"
   ]
  },
  {
   "cell_type": "code",
   "execution_count": null,
   "metadata": {},
   "outputs": [],
   "source": [
    "tree = DecisionTreeClassifier(criterion=\"entropy\", max_depth=50, random_state=12)\n",
    "_____.fit(_____, _____)\n",
    "y_pred = tree_train.predict(_____)\n",
    "accuracy_score(_____, y_pred)"
   ]
  },
  {
   "cell_type": "markdown",
   "metadata": {},
   "source": [
    "### Option 2) Cross validation"
   ]
  },
  {
   "cell_type": "markdown",
   "metadata": {},
   "source": [
    "Our usage of the train data is very reliant on the splitting. We can better utilize the available train data by using cross validation. Cross validation is useful when we want to generalize performance on data that is available for training. It can't be used on test data, as every data point is used for training."
   ]
  },
  {
   "cell_type": "code",
   "execution_count": null,
   "metadata": {},
   "outputs": [],
   "source": [
    "from sklearn.model_selection import cross_val_score\n",
    "\n",
    "tree_train = DecisionTreeClassifier(criterion=\"entropy\", max_depth=50, random_state=12)\n",
    "result = cross_val_score(_____, _____, _____, scoring=\"accuracy\")\n",
    "result"
   ]
  },
  {
   "cell_type": "markdown",
   "metadata": {},
   "source": [
    "Cross validation returns a score for each split."
   ]
  },
  {
   "cell_type": "code",
   "execution_count": null,
   "metadata": {},
   "outputs": [],
   "source": [
    "result._____()"
   ]
  },
  {
   "cell_type": "markdown",
   "metadata": {},
   "source": [
    "Again, we can use the best model found to make predictions."
   ]
  },
  {
   "cell_type": "code",
   "execution_count": null,
   "metadata": {},
   "outputs": [],
   "source": [
    "tree = DecisionTreeClassifier(criterion=\"entropy\", max_depth=50, random_state=12)\n",
    "_____._____(_____, _____)\n",
    "_____ = _____._____(_____)\n",
    "accuracy_score(_____, _____)"
   ]
  },
  {
   "attachments": {},
   "cell_type": "markdown",
   "metadata": {
    "id": "7-5ltG1PszSL",
    "pycharm": {
     "name": "#%% md\n"
    }
   },
   "source": [
    "## Strategy 1: Finding the best model - Hyperparameter Tuning & Grid Search"
   ]
  },
  {
   "cell_type": "markdown",
   "metadata": {
    "id": "evChtC9zjZ5Z",
    "pycharm": {
     "name": "#%% md\n"
    }
   },
   "source": [
    "### 1) Import model functions"
   ]
  },
  {
   "cell_type": "code",
   "execution_count": null,
   "metadata": {
    "id": "N5Od9cj_kF9w",
    "pycharm": {
     "name": "#%%\n"
    }
   },
   "outputs": [],
   "source": [
    "from sklearn.tree import DecisionTreeClassifier\n",
    "from sklearn.model_selection import GridSearchCV\n",
    "from sklearn.metrics import classification_report"
   ]
  },
  {
   "attachments": {},
   "cell_type": "markdown",
   "metadata": {
    "id": "8L9huq8rkMNv",
    "pycharm": {
     "name": "#%% md\n"
    }
   },
   "source": [
    "### 2) Instantiate Model with Grid Search Setup"
   ]
  },
  {
   "cell_type": "code",
   "execution_count": null,
   "metadata": {
    "id": "GsGKu4ZOkLF0",
    "pycharm": {
     "name": "#%%\n"
    }
   },
   "outputs": [],
   "source": [
    "parameters = {'max_depth':range(1,30), \n",
    "              'min_samples_leaf':[1, 10, 20, 30, 50, 100]}\n",
    "tree_CV = GridSearchCV(DecisionTreeClassifier(criterion=\"entropy\", random_state=1), parameters, cv=5)"
   ]
  },
  {
   "cell_type": "markdown",
   "metadata": {
    "id": "sg1W9TdeOe7s",
    "pycharm": {
     "name": "#%% md\n"
    }
   },
   "source": [
    "*  **cv** number of cross validation folds"
   ]
  },
  {
   "cell_type": "markdown",
   "metadata": {
    "id": "_xFyodOZbAkj",
    "pycharm": {
     "name": "#%% md\n"
    }
   },
   "source": [
    "How many Models are calculated?"
   ]
  },
  {
   "cell_type": "code",
   "execution_count": null,
   "metadata": {
    "id": "1RdNevzEbGC6",
    "pycharm": {
     "name": "#%%\n"
    }
   },
   "outputs": [],
   "source": []
  },
  {
   "attachments": {},
   "cell_type": "markdown",
   "metadata": {},
   "source": [
    "Useful parameters:\n",
    "- scoring: specify what score should be used, e.g., scoring=\"accuracy\" or \"recall\", or \"precision\", \n",
    "- verbose: see the progress of the operation, e.g., verbose=3"
   ]
  },
  {
   "cell_type": "markdown",
   "metadata": {
    "id": "MnKtImQgkWR8",
    "pycharm": {
     "name": "#%% md\n"
    }
   },
   "source": [
    "### 3) Fit Model to Data using Cross validation "
   ]
  },
  {
   "cell_type": "code",
   "execution_count": null,
   "metadata": {
    "id": "xI1aeas-kVd_",
    "pycharm": {
     "name": "#%%\n"
    }
   },
   "outputs": [],
   "source": [
    "tree_CV.fit(_____, _____)"
   ]
  },
  {
   "cell_type": "code",
   "execution_count": null,
   "metadata": {
    "id": "gvtY6Jz9lAA6",
    "pycharm": {
     "name": "#%%\n"
    }
   },
   "outputs": [],
   "source": [
    "_____.best_params_"
   ]
  },
  {
   "cell_type": "markdown",
   "metadata": {
    "id": "YfBKIjmZsj6w",
    "pycharm": {
     "name": "#%% md\n"
    }
   },
   "source": [
    "### 4) Make Prediction"
   ]
  },
  {
   "cell_type": "code",
   "execution_count": null,
   "metadata": {
    "id": "JvlfpHalfAGI",
    "pycharm": {
     "name": "#%%\n"
    }
   },
   "outputs": [],
   "source": [
    "y_pred = _____._____(_____)"
   ]
  },
  {
   "cell_type": "markdown",
   "metadata": {
    "id": "3NvHyGEPssou",
    "pycharm": {
     "name": "#%% md\n"
    }
   },
   "source": [
    "### 5) Evaluate Model"
   ]
  },
  {
   "cell_type": "code",
   "execution_count": null,
   "metadata": {
    "id": "931_jg8kxv8g",
    "pycharm": {
     "name": "#%%\n"
    }
   },
   "outputs": [],
   "source": [
    "print(_____(_____, _____))"
   ]
  },
  {
   "cell_type": "code",
   "execution_count": null,
   "metadata": {
    "id": "zo4--ij2Z_2L",
    "pycharm": {
     "name": "#%%\n"
    }
   },
   "outputs": [],
   "source": [
    "plot_ROC(_____, _____, _____)"
   ]
  },
  {
   "cell_type": "markdown",
   "metadata": {
    "id": "MB08996FtFyJ",
    "pycharm": {
     "name": "#%% md\n"
    }
   },
   "source": [
    "## Strategy 2: Building Many Models - Ensembling (Random Forests)"
   ]
  },
  {
   "cell_type": "markdown",
   "metadata": {
    "id": "EOAFlV3k03qu",
    "pycharm": {
     "name": "#%% md\n"
    }
   },
   "source": [
    "### 1) Import Model Functions"
   ]
  },
  {
   "cell_type": "code",
   "execution_count": null,
   "metadata": {
    "id": "a86Hj8D0022O",
    "pycharm": {
     "name": "#%%\n"
    }
   },
   "outputs": [],
   "source": [
    "from sklearn.ensemble import RandomForestClassifier\n",
    "from sklearn.model_selection import train_test_split\n",
    "from sklearn.metrics import classification_report"
   ]
  },
  {
   "cell_type": "markdown",
   "metadata": {
    "id": "fQSKu3wM1XdU",
    "pycharm": {
     "name": "#%% md\n"
    }
   },
   "source": [
    "### 2) Instantiate Model"
   ]
  },
  {
   "cell_type": "code",
   "execution_count": null,
   "metadata": {
    "id": "ZlN3iUmfwqCq",
    "pycharm": {
     "name": "#%%\n"
    }
   },
   "outputs": [],
   "source": [
    "forest = RandomForestClassifier(_____=_____)"
   ]
  },
  {
   "cell_type": "markdown",
   "metadata": {
    "id": "islk4daMcQla",
    "pycharm": {
     "name": "#%% md\n"
    }
   },
   "source": [
    "* **n_estimators** = Number of Decision Trees in the forest"
   ]
  },
  {
   "cell_type": "markdown",
   "metadata": {
    "id": "qqTUimyQ1gRA",
    "pycharm": {
     "name": "#%% md\n"
    }
   },
   "source": [
    "### 3) Create test and training data"
   ]
  },
  {
   "cell_type": "code",
   "execution_count": null,
   "metadata": {
    "id": "k7eQu5su162a",
    "pycharm": {
     "name": "#%%\n"
    }
   },
   "outputs": [],
   "source": [
    "_____, _____, _____, _____ = train_test_split(_____, _____, _____=0.3, _____=1)"
   ]
  },
  {
   "cell_type": "markdown",
   "metadata": {
    "id": "05GRqLOh19Bs",
    "pycharm": {
     "name": "#%% md\n"
    }
   },
   "source": [
    "### 4) Fit Model to Training Data"
   ]
  },
  {
   "cell_type": "code",
   "execution_count": null,
   "metadata": {
    "id": "mHP-ERng16hG",
    "pycharm": {
     "name": "#%%\n"
    }
   },
   "outputs": [],
   "source": [
    "forest.fit(_____,_____)"
   ]
  },
  {
   "cell_type": "markdown",
   "metadata": {
    "id": "gYf-qn9h2Mpl",
    "pycharm": {
     "name": "#%% md\n"
    }
   },
   "source": [
    "### 5) Make Prediction on Testing Data"
   ]
  },
  {
   "cell_type": "code",
   "execution_count": null,
   "metadata": {
    "id": "GoxVPBIz1geF",
    "pycharm": {
     "name": "#%%\n"
    }
   },
   "outputs": [],
   "source": [
    "y_pred = _____._____(_____)"
   ]
  },
  {
   "cell_type": "markdown",
   "metadata": {
    "id": "IQaIdGGL2SG9",
    "pycharm": {
     "name": "#%% md\n"
    }
   },
   "source": [
    "### 6) Evaluate Performance "
   ]
  },
  {
   "cell_type": "code",
   "execution_count": null,
   "metadata": {
    "id": "wRowE2A7cZZO",
    "pycharm": {
     "name": "#%%\n"
    }
   },
   "outputs": [],
   "source": [
    "print(_____(_____, _____))"
   ]
  },
  {
   "cell_type": "markdown",
   "metadata": {
    "id": "Gwn84afXds3V",
    "pycharm": {
     "name": "#%% md\n"
    }
   },
   "source": [
    "Clear improvement over cross-validated tree in every performance metrics -> way better model"
   ]
  },
  {
   "cell_type": "code",
   "execution_count": null,
   "metadata": {
    "id": "w_ocTvZtxL7C",
    "pycharm": {
     "name": "#%%\n"
    }
   },
   "outputs": [],
   "source": [
    "plot_ROC(_____, _____, _____)"
   ]
  },
  {
   "cell_type": "markdown",
   "metadata": {
    "id": "JICr0I7S2yT9",
    "pycharm": {
     "name": "#%% md\n"
    }
   },
   "source": [
    "### Determine Variable Importances"
   ]
  },
  {
   "cell_type": "code",
   "execution_count": null,
   "metadata": {
    "id": "eVMmeDN3OSfx",
    "pycharm": {
     "name": "#%%\n"
    }
   },
   "outputs": [],
   "source": [
    "def plot_variable_importance(model, X_train):\n",
    "  import pandas as pd\n",
    "  import matplotlib.pyplot as plt\n",
    "  importances = pd.Series(data=model.feature_importances_,\n",
    "                          index=X_train.columns)\n",
    "  importances.sort_values().plot(kind='barh', color=\"#00802F\")\n",
    "  plt.title('Features Importances')"
   ]
  },
  {
   "cell_type": "code",
   "execution_count": null,
   "metadata": {
    "id": "WJlBuM9qENbg",
    "pycharm": {
     "name": "#%%\n"
    }
   },
   "outputs": [],
   "source": [
    "plot_variable_importance(_____, _____)"
   ]
  },
  {
   "cell_type": "markdown",
   "metadata": {
    "id": "gn4Y19-lxvLx",
    "pycharm": {
     "name": "#%% md\n"
    }
   },
   "source": [
    "## Strategy 3: Learning from Past Prediction Errors - Boosting"
   ]
  },
  {
   "cell_type": "markdown",
   "metadata": {
    "id": "eIDMkiTy3csR",
    "pycharm": {
     "name": "#%% md\n"
    }
   },
   "source": [
    "### 1) Import Model Functions"
   ]
  },
  {
   "cell_type": "code",
   "execution_count": null,
   "metadata": {
    "id": "kReZh0Jy4BsT",
    "pycharm": {
     "name": "#%%\n"
    }
   },
   "outputs": [],
   "source": [
    "from sklearn.ensemble import GradientBoostingClassifier\n",
    "from sklearn.model_selection import train_test_split\n",
    "from sklearn.metrics import classification_report"
   ]
  },
  {
   "cell_type": "markdown",
   "metadata": {
    "id": "VXj_pfXt3lGt",
    "pycharm": {
     "name": "#%% md\n"
    }
   },
   "source": [
    "### 2) Instantiate Model"
   ]
  },
  {
   "cell_type": "code",
   "execution_count": null,
   "metadata": {
    "id": "Yqcrqjl33ucI",
    "pycharm": {
     "name": "#%%\n"
    }
   },
   "outputs": [],
   "source": [
    "boost = _____(_____=1000, _____=0.5)"
   ]
  },
  {
   "cell_type": "markdown",
   "metadata": {
    "id": "mskeDVckcpH3",
    "pycharm": {
     "name": "#%% md\n"
    }
   },
   "source": [
    "*  **n_estimators:** number of bosted decision trees\n",
    "*  **learning_rate:** degree to which predictions are updated after each round (usually rather small number between 0.01 and 1)\n",
    "\n"
   ]
  },
  {
   "cell_type": "markdown",
   "metadata": {
    "id": "p4Z01Bc73orl",
    "pycharm": {
     "name": "#%% md\n"
    }
   },
   "source": [
    "### 3) Create Test & Training Data"
   ]
  },
  {
   "cell_type": "code",
   "execution_count": null,
   "metadata": {
    "id": "9ypunGoS4Jh8",
    "pycharm": {
     "name": "#%%\n"
    }
   },
   "outputs": [],
   "source": [
    "X_train, X_test, y_train, y_test = train_test_split(X, y, test_size=0.3, random_state=1)"
   ]
  },
  {
   "cell_type": "markdown",
   "metadata": {
    "id": "hKI7VIVp3mwz",
    "pycharm": {
     "name": "#%% md\n"
    }
   },
   "source": [
    "### 4) Fit Model to Training Data"
   ]
  },
  {
   "cell_type": "code",
   "execution_count": null,
   "metadata": {
    "id": "zMvZmDkJ4DrS",
    "pycharm": {
     "name": "#%%\n"
    }
   },
   "outputs": [],
   "source": [
    "_____._____(_____,_____)"
   ]
  },
  {
   "cell_type": "markdown",
   "metadata": {
    "id": "bMqEWpXA33Gk",
    "pycharm": {
     "name": "#%% md\n"
    }
   },
   "source": [
    "### 5) Make Predictions on Testing Data "
   ]
  },
  {
   "cell_type": "code",
   "execution_count": null,
   "metadata": {
    "id": "jXsxUAl84LWc",
    "pycharm": {
     "name": "#%%\n"
    }
   },
   "outputs": [],
   "source": [
    "_____ = boost._____(_____)"
   ]
  },
  {
   "cell_type": "markdown",
   "metadata": {
    "id": "nmfqPOSU37JK",
    "pycharm": {
     "name": "#%% md\n"
    }
   },
   "source": [
    "### 6) Evaluate Performance"
   ]
  },
  {
   "cell_type": "code",
   "execution_count": null,
   "metadata": {
    "id": "u3yq_GlDyM6P",
    "pycharm": {
     "name": "#%%\n"
    }
   },
   "outputs": [],
   "source": [
    "print(_____(_____, _____))"
   ]
  },
  {
   "cell_type": "markdown",
   "metadata": {
    "id": "4_dnATMdd1iA",
    "pycharm": {
     "name": "#%% md\n"
    }
   },
   "source": [
    "Higher pricision, but lower recall than random forest > usage depends on business context (cancer or spam?)"
   ]
  },
  {
   "cell_type": "code",
   "execution_count": null,
   "metadata": {
    "id": "91Br4awZyRgQ",
    "pycharm": {
     "name": "#%%\n"
    }
   },
   "outputs": [],
   "source": [
    "plot_ROC(_____,_____,_____)"
   ]
  }
 ],
 "metadata": {
  "colab": {
   "collapsed_sections": [],
   "name": "Introduction to Machine Learning - Classification COMPLETED",
   "provenance": []
  },
  "kernelspec": {
   "display_name": "Python 3 (ipykernel)",
   "language": "python",
   "name": "python3"
  },
  "language_info": {
   "codemirror_mode": {
    "name": "ipython",
    "version": 3
   },
   "file_extension": ".py",
   "mimetype": "text/x-python",
   "name": "python",
   "nbconvert_exporter": "python",
   "pygments_lexer": "ipython3",
   "version": "3.9.10"
  }
 },
 "nbformat": 4,
 "nbformat_minor": 1
}
