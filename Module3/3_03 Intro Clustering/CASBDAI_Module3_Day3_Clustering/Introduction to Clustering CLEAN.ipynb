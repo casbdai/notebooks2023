{
 "cells": [
  {
   "cell_type": "markdown",
   "metadata": {
    "id": "HtXEcvNWPZpr",
    "pycharm": {
     "name": "#%% md\n"
    }
   },
   "source": [
    "# Hands On - Predicting Entertainment Hits - Introduction to Clustering and Recommenders"
   ]
  },
  {
   "cell_type": "markdown",
   "metadata": {
    "id": "shbARdpqP29x",
    "pycharm": {
     "name": "#%% md\n"
    }
   },
   "source": [
    "## Import"
   ]
  },
  {
   "cell_type": "code",
   "execution_count": null,
   "metadata": {
    "id": "wNxGBdh5M9Pd",
    "pycharm": {
     "name": "#%%\n"
    }
   },
   "outputs": [],
   "source": [
    "import pandas as pd\n",
    "movies = pd.read_csv(\"https://raw.githubusercontent.com/casbdai/datasets/main/movie_data.csv\")"
   ]
  },
  {
   "cell_type": "markdown",
   "metadata": {
    "id": "OvzSd2J4P5Yh",
    "pycharm": {
     "name": "#%% md\n"
    }
   },
   "source": [
    "## Checking Structure"
   ]
  },
  {
   "cell_type": "code",
   "execution_count": null,
   "metadata": {
    "id": "FiPlcB9GIpnx",
    "pycharm": {
     "name": "#%%\n"
    }
   },
   "outputs": [],
   "source": []
  },
  {
   "cell_type": "code",
   "execution_count": null,
   "metadata": {
    "id": "9fvxpfgWumsa",
    "pycharm": {
     "name": "#%%\n"
    }
   },
   "outputs": [],
   "source": []
  },
  {
   "cell_type": "code",
   "execution_count": null,
   "metadata": {
    "id": "replRE6zVsd5",
    "pycharm": {
     "name": "#%%\n"
    }
   },
   "outputs": [],
   "source": [
    "  \n",
    "  "
   ]
  },
  {
   "cell_type": "markdown",
   "metadata": {
    "id": "B3gewMHz-0q8",
    "pycharm": {
     "name": "#%% md\n"
    }
   },
   "source": [
    "# Workflow for Hierarchical Clustering"
   ]
  },
  {
   "cell_type": "markdown",
   "metadata": {
    "id": "UBpK8BojUjFU",
    "pycharm": {
     "name": "#%% md\n"
    }
   },
   "source": [
    "## 1) Inspect Dendrogram"
   ]
  },
  {
   "cell_type": "code",
   "execution_count": null,
   "metadata": {
    "id": "g5kT3B7oUrsL",
    "pycharm": {
     "name": "#%%\n"
    }
   },
   "outputs": [],
   "source": [
    "\n",
    "\n",
    "# prepare data for dendogram\n",
    "\n",
    "\n",
    "# plot dendrogram\n"
   ]
  },
  {
   "cell_type": "markdown",
   "metadata": {
    "id": "CT4T3kdcak4U",
    "pycharm": {
     "name": "#%% md\n"
    }
   },
   "source": [
    "## 2) Create Clustering"
   ]
  },
  {
   "cell_type": "code",
   "execution_count": null,
   "metadata": {
    "id": "IR05lpIQOz1s",
    "pycharm": {
     "name": "#%%\n"
    }
   },
   "outputs": [],
   "source": []
  },
  {
   "cell_type": "code",
   "execution_count": null,
   "metadata": {
    "id": "AkjkQHU9asuM",
    "pycharm": {
     "name": "#%%\n"
    }
   },
   "outputs": [],
   "source": []
  },
  {
   "cell_type": "markdown",
   "metadata": {
    "id": "EBNcBWD3U5IZ",
    "pycharm": {
     "name": "#%% md\n"
    }
   },
   "source": [
    "## 3) Compare Clustering"
   ]
  },
  {
   "cell_type": "code",
   "execution_count": null,
   "metadata": {
    "id": "WkW6Y7GSU71C",
    "pycharm": {
     "name": "#%%\n"
    }
   },
   "outputs": [],
   "source": []
  },
  {
   "cell_type": "code",
   "execution_count": null,
   "metadata": {
    "id": "njco5n9uUFkD",
    "pycharm": {
     "name": "#%%\n"
    }
   },
   "outputs": [],
   "source": []
  },
  {
   "cell_type": "markdown",
   "metadata": {
    "pycharm": {
     "name": "#%% md\n"
    }
   },
   "source": [
    "You can use a heatmap to visualize this matrix. A popular implementation can be found in the [Seaborn Package](https://seaborn.pydata.org/generated/seaborn.heatmap.html)."
   ]
  },
  {
   "cell_type": "code",
   "execution_count": null,
   "metadata": {
    "pycharm": {
     "name": "#%%\n"
    }
   },
   "outputs": [],
   "source": [
    "# Comment out the following line if you are having ModuleNotFound errors, e.g., if you are using Anaconda\n",
    "#!pip install seaborn "
   ]
  },
  {
   "cell_type": "code",
   "execution_count": null,
   "metadata": {
    "pycharm": {
     "name": "#%%\n"
    }
   },
   "outputs": [],
   "source": []
  },
  {
   "cell_type": "markdown",
   "metadata": {
    "id": "mRjIv6-IVDj3",
    "pycharm": {
     "name": "#%% md\n"
    }
   },
   "source": [
    "## 4) Evaluate Clustering"
   ]
  },
  {
   "cell_type": "code",
   "execution_count": null,
   "metadata": {
    "id": "5RJjnL2hajuX",
    "pycharm": {
     "name": "#%%\n"
    }
   },
   "outputs": [],
   "source": []
  },
  {
   "cell_type": "markdown",
   "metadata": {
    "id": "O_gF9VY4erEP",
    "pycharm": {
     "name": "#%% md\n"
    }
   },
   "source": [
    "# Repeating with Kmeans"
   ]
  },
  {
   "cell_type": "code",
   "execution_count": null,
   "metadata": {
    "id": "LsUresyhbx4x",
    "pycharm": {
     "name": "#%%\n"
    }
   },
   "outputs": [],
   "source": []
  },
  {
   "cell_type": "markdown",
   "metadata": {
    "id": "6ILmUAfAew6P",
    "pycharm": {
     "name": "#%% md\n"
    }
   },
   "source": [
    "# Building a Mini-Recommender"
   ]
  },
  {
   "cell_type": "code",
   "execution_count": null,
   "metadata": {
    "id": "OJtOPS5FdPOi",
    "pycharm": {
     "name": "#%%\n"
    }
   },
   "outputs": [],
   "source": []
  },
  {
   "cell_type": "code",
   "execution_count": null,
   "metadata": {
    "id": "4m6jCbMtj4FI",
    "pycharm": {
     "name": "#%%\n"
    }
   },
   "outputs": [],
   "source": []
  }
 ],
 "metadata": {
  "colab": {
   "collapsed_sections": [],
   "provenance": [
    {
     "file_id": "1WlIq4bsjXXBJykerHEAF6UDMJSs-6Jlw",
     "timestamp": 1631124815235
    },
    {
     "file_id": "18im53fXJIjYw3NTAdwxOcOWfrkftkt8b",
     "timestamp": 1592485140678
    }
   ]
  },
  "kernelspec": {
   "display_name": "Python 3 (ipykernel)",
   "language": "python",
   "name": "python3"
  },
  "language_info": {
   "codemirror_mode": {
    "name": "ipython",
    "version": 3
   },
   "file_extension": ".py",
   "mimetype": "text/x-python",
   "name": "python",
   "nbconvert_exporter": "python",
   "pygments_lexer": "ipython3",
   "version": "3.9.12"
  }
 },
 "nbformat": 4,
 "nbformat_minor": 1
}
