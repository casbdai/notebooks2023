{
  "cells": [
    {
      "cell_type": "markdown",
      "metadata": {
        "id": "by2o89GI97z5",
        "pycharm": {
          "name": "#%% md\n"
        }
      },
      "source": [
        "# CAS BDAI CUP SUBMISSION NOTEBOOK - Group 2\n",
        "\n"
      ]
    },
    {
      "cell_type": "markdown",
      "metadata": {
        "id": "BPhxe5DD-JPC",
        "pycharm": {
          "name": "#%% md\n"
        }
      },
      "source": [
        "# Import Data"
      ]
    },
    {
      "cell_type": "code",
      "execution_count": 1,
      "metadata": {
        "id": "FiPlcB9GIpnx",
        "pycharm": {
          "name": "#%%\n"
        }
      },
      "outputs": [],
      "source": [
        "#import data\n",
        "import pandas as pd\n",
        "train = pd.read_csv(\"https://raw.githubusercontent.com/casbdai/notebooks2023/main/Module3/99_CAS_BDAI_CUP/train.csv\")\n",
        "test = pd.read_csv(\"https://raw.githubusercontent.com/casbdai/notebooks2023/main/Module3/99_CAS_BDAI_CUP/test.csv\")"
      ]
    },
    {
      "cell_type": "code",
      "execution_count": 2,
      "metadata": {
        "colab": {
          "base_uri": "https://localhost:8080/"
        },
        "id": "9fvxpfgWumsa",
        "outputId": "b1051346-4622-475d-d5b0-25b141d2f8f8",
        "pycharm": {
          "name": "#%%\n"
        }
      },
      "outputs": [
        {
          "name": "stdout",
          "output_type": "stream",
          "text": [
            "<class 'pandas.core.frame.DataFrame'>\n",
            "RangeIndex: 30857 entries, 0 to 30856\n",
            "Data columns (total 11 columns):\n",
            " #   Column        Non-Null Count  Dtype  \n",
            "---  ------        --------------  -----  \n",
            " 0   model         30857 non-null  object \n",
            " 1   year          30857 non-null  int64  \n",
            " 2   price         30857 non-null  int64  \n",
            " 3   transmission  30857 non-null  object \n",
            " 4   mileage       30857 non-null  int64  \n",
            " 5   fuelType      30857 non-null  object \n",
            " 6   tax           30857 non-null  int64  \n",
            " 7   mpg           30857 non-null  float64\n",
            " 8   engineSize    30857 non-null  float64\n",
            " 9   brand         30857 non-null  object \n",
            " 10  ID            30857 non-null  int64  \n",
            "dtypes: float64(2), int64(5), object(4)\n",
            "memory usage: 2.6+ MB\n"
          ]
        }
      ],
      "source": [
        "train.info()"
      ]
    },
    {
      "cell_type": "code",
      "execution_count": 3,
      "metadata": {
        "colab": {
          "base_uri": "https://localhost:8080/"
        },
        "id": "f0CdeZ4vNzvB",
        "outputId": "89fcbc12-ccef-4646-fdb4-039d4f53083f",
        "pycharm": {
          "name": "#%%\n"
        }
      },
      "outputs": [
        {
          "name": "stdout",
          "output_type": "stream",
          "text": [
            "<class 'pandas.core.frame.DataFrame'>\n",
            "RangeIndex: 15896 entries, 0 to 15895\n",
            "Data columns (total 10 columns):\n",
            " #   Column        Non-Null Count  Dtype  \n",
            "---  ------        --------------  -----  \n",
            " 0   model         15896 non-null  object \n",
            " 1   year          15896 non-null  int64  \n",
            " 2   transmission  15896 non-null  object \n",
            " 3   mileage       15896 non-null  int64  \n",
            " 4   fuelType      15896 non-null  object \n",
            " 5   tax           15896 non-null  int64  \n",
            " 6   mpg           15896 non-null  float64\n",
            " 7   engineSize    15896 non-null  float64\n",
            " 8   brand         15896 non-null  object \n",
            " 9   ID            15896 non-null  int64  \n",
            "dtypes: float64(2), int64(4), object(4)\n",
            "memory usage: 1.2+ MB\n"
          ]
        }
      ],
      "source": [
        "test.info()"
      ]
    },
    {
      "cell_type": "markdown",
      "metadata": {},
      "source": [
        "# Explore the train data set"
      ]
    },
    {
      "cell_type": "markdown",
      "metadata": {},
      "source": [
        "For example, what are the different tax amounts?"
      ]
    },
    {
      "cell_type": "code",
      "execution_count": 4,
      "metadata": {},
      "outputs": [
        {
          "data": {
            "text/plain": [
              "array([145, 160,  30, 325, 200, 150, 125,  20,   0, 300, 235, 205, 165,\n",
              "       135, 305, 315, 260, 265, 555, 195, 220, 155, 240, 140, 115, 570,\n",
              "       565, 120, 185, 330, 190, 270, 255, 580, 130, 540, 245, 280, 230,\n",
              "       290, 210,  10, 110])"
            ]
          },
          "execution_count": 4,
          "metadata": {},
          "output_type": "execute_result"
        }
      ],
      "source": [
        "train[\"tax\"].unique()"
      ]
    },
    {
      "cell_type": "markdown",
      "metadata": {},
      "source": [
        "What's the cheapest car, etc?"
      ]
    },
    {
      "cell_type": "code",
      "execution_count": 5,
      "metadata": {},
      "outputs": [
        {
          "data": {
            "text/plain": [
              "650"
            ]
          },
          "execution_count": 5,
          "metadata": {},
          "output_type": "execute_result"
        }
      ],
      "source": [
        "train[\"price\"].min()\n",
        "#train[\"transmission\"].unique()"
      ]
    },
    {
      "cell_type": "markdown",
      "metadata": {},
      "source": [
        "## Prepare the data"
      ]
    },
    {
      "cell_type": "code",
      "execution_count": 6,
      "metadata": {
        "id": "4NqAkyvNKhZT"
      },
      "outputs": [
        {
          "data": {
            "text/html": [
              "<div>\n",
              "<style scoped>\n",
              "    .dataframe tbody tr th:only-of-type {\n",
              "        vertical-align: middle;\n",
              "    }\n",
              "\n",
              "    .dataframe tbody tr th {\n",
              "        vertical-align: top;\n",
              "    }\n",
              "\n",
              "    .dataframe thead th {\n",
              "        text-align: right;\n",
              "    }\n",
              "</style>\n",
              "<table border=\"1\" class=\"dataframe\">\n",
              "  <thead>\n",
              "    <tr style=\"text-align: right;\">\n",
              "      <th></th>\n",
              "      <th>year</th>\n",
              "      <th>price</th>\n",
              "      <th>mileage</th>\n",
              "      <th>tax</th>\n",
              "      <th>mpg</th>\n",
              "      <th>engineSize</th>\n",
              "      <th>ID</th>\n",
              "      <th>model_ 2 Series</th>\n",
              "      <th>model_ 3 Series</th>\n",
              "      <th>model_ 4 Series</th>\n",
              "      <th>...</th>\n",
              "      <th>model_ X3</th>\n",
              "      <th>model_ X5</th>\n",
              "      <th>transmission_Manual</th>\n",
              "      <th>transmission_Semi-Auto</th>\n",
              "      <th>fuelType_Hybrid</th>\n",
              "      <th>fuelType_Other</th>\n",
              "      <th>fuelType_Petrol</th>\n",
              "      <th>brand_BMW</th>\n",
              "      <th>brand_Mercedes</th>\n",
              "      <th>brand_VW</th>\n",
              "    </tr>\n",
              "  </thead>\n",
              "  <tbody>\n",
              "    <tr>\n",
              "      <th>0</th>\n",
              "      <td>2020</td>\n",
              "      <td>29999</td>\n",
              "      <td>2728</td>\n",
              "      <td>145</td>\n",
              "      <td>47.9</td>\n",
              "      <td>2.0</td>\n",
              "      <td>40452</td>\n",
              "      <td>0</td>\n",
              "      <td>0</td>\n",
              "      <td>0</td>\n",
              "      <td>...</td>\n",
              "      <td>0</td>\n",
              "      <td>0</td>\n",
              "      <td>0</td>\n",
              "      <td>0</td>\n",
              "      <td>0</td>\n",
              "      <td>0</td>\n",
              "      <td>0</td>\n",
              "      <td>0</td>\n",
              "      <td>0</td>\n",
              "      <td>1</td>\n",
              "    </tr>\n",
              "    <tr>\n",
              "      <th>1</th>\n",
              "      <td>2018</td>\n",
              "      <td>8750</td>\n",
              "      <td>12500</td>\n",
              "      <td>145</td>\n",
              "      <td>64.2</td>\n",
              "      <td>1.0</td>\n",
              "      <td>33997</td>\n",
              "      <td>0</td>\n",
              "      <td>0</td>\n",
              "      <td>0</td>\n",
              "      <td>...</td>\n",
              "      <td>0</td>\n",
              "      <td>0</td>\n",
              "      <td>1</td>\n",
              "      <td>0</td>\n",
              "      <td>0</td>\n",
              "      <td>0</td>\n",
              "      <td>1</td>\n",
              "      <td>0</td>\n",
              "      <td>0</td>\n",
              "      <td>1</td>\n",
              "    </tr>\n",
              "    <tr>\n",
              "      <th>2</th>\n",
              "      <td>2019</td>\n",
              "      <td>22646</td>\n",
              "      <td>123</td>\n",
              "      <td>145</td>\n",
              "      <td>52.3</td>\n",
              "      <td>1.5</td>\n",
              "      <td>24566</td>\n",
              "      <td>1</td>\n",
              "      <td>0</td>\n",
              "      <td>0</td>\n",
              "      <td>...</td>\n",
              "      <td>0</td>\n",
              "      <td>0</td>\n",
              "      <td>1</td>\n",
              "      <td>0</td>\n",
              "      <td>0</td>\n",
              "      <td>0</td>\n",
              "      <td>1</td>\n",
              "      <td>1</td>\n",
              "      <td>0</td>\n",
              "      <td>0</td>\n",
              "    </tr>\n",
              "    <tr>\n",
              "      <th>3</th>\n",
              "      <td>2019</td>\n",
              "      <td>21950</td>\n",
              "      <td>5013</td>\n",
              "      <td>145</td>\n",
              "      <td>44.1</td>\n",
              "      <td>1.5</td>\n",
              "      <td>30438</td>\n",
              "      <td>0</td>\n",
              "      <td>0</td>\n",
              "      <td>0</td>\n",
              "      <td>...</td>\n",
              "      <td>0</td>\n",
              "      <td>0</td>\n",
              "      <td>1</td>\n",
              "      <td>0</td>\n",
              "      <td>0</td>\n",
              "      <td>0</td>\n",
              "      <td>1</td>\n",
              "      <td>1</td>\n",
              "      <td>0</td>\n",
              "      <td>0</td>\n",
              "    </tr>\n",
              "    <tr>\n",
              "      <th>4</th>\n",
              "      <td>2013</td>\n",
              "      <td>13100</td>\n",
              "      <td>64455</td>\n",
              "      <td>160</td>\n",
              "      <td>50.4</td>\n",
              "      <td>2.0</td>\n",
              "      <td>22552</td>\n",
              "      <td>0</td>\n",
              "      <td>0</td>\n",
              "      <td>0</td>\n",
              "      <td>...</td>\n",
              "      <td>1</td>\n",
              "      <td>0</td>\n",
              "      <td>0</td>\n",
              "      <td>0</td>\n",
              "      <td>0</td>\n",
              "      <td>0</td>\n",
              "      <td>0</td>\n",
              "      <td>1</td>\n",
              "      <td>0</td>\n",
              "      <td>0</td>\n",
              "    </tr>\n",
              "  </tbody>\n",
              "</table>\n",
              "<p>5 rows × 57 columns</p>\n",
              "</div>"
            ],
            "text/plain": [
              "   year  price  mileage  tax   mpg  engineSize     ID  model_ 2 Series  \\\n",
              "0  2020  29999     2728  145  47.9         2.0  40452                0   \n",
              "1  2018   8750    12500  145  64.2         1.0  33997                0   \n",
              "2  2019  22646      123  145  52.3         1.5  24566                1   \n",
              "3  2019  21950     5013  145  44.1         1.5  30438                0   \n",
              "4  2013  13100    64455  160  50.4         2.0  22552                0   \n",
              "\n",
              "   model_ 3 Series  model_ 4 Series  ...  model_ X3  model_ X5  \\\n",
              "0                0                0  ...          0          0   \n",
              "1                0                0  ...          0          0   \n",
              "2                0                0  ...          0          0   \n",
              "3                0                0  ...          0          0   \n",
              "4                0                0  ...          1          0   \n",
              "\n",
              "   transmission_Manual  transmission_Semi-Auto  fuelType_Hybrid  \\\n",
              "0                    0                       0                0   \n",
              "1                    1                       0                0   \n",
              "2                    1                       0                0   \n",
              "3                    1                       0                0   \n",
              "4                    0                       0                0   \n",
              "\n",
              "   fuelType_Other  fuelType_Petrol  brand_BMW  brand_Mercedes  brand_VW  \n",
              "0               0                0          0               0         1  \n",
              "1               0                1          0               0         1  \n",
              "2               0                1          1               0         0  \n",
              "3               0                1          1               0         0  \n",
              "4               0                0          1               0         0  \n",
              "\n",
              "[5 rows x 57 columns]"
            ]
          },
          "execution_count": 6,
          "metadata": {},
          "output_type": "execute_result"
        }
      ],
      "source": [
        "#encode categorical data\n",
        "train = pd.get_dummies(train, drop_first=True)\n",
        "test = pd.get_dummies(test, drop_first=True)\n",
        "\n",
        "train.head()"
      ]
    },
    {
      "cell_type": "markdown",
      "metadata": {},
      "source": [
        "# Define some helper functions"
      ]
    },
    {
      "cell_type": "markdown",
      "metadata": {},
      "source": [
        "### Actual price vs predicted price plot"
      ]
    },
    {
      "cell_type": "code",
      "execution_count": 7,
      "metadata": {},
      "outputs": [],
      "source": [
        "def actual_vs_predicted_plot(y_true, y_pred):\n",
        "  import numpy as np\n",
        "  import matplotlib.pyplot as plt\n",
        "  min_value=np.array([y_true.min(), y_pred.min()]).min()\n",
        "  max_value= min=np.array([y_true.max(), y_pred.max()]).max()\n",
        "  fig = plt.figure()\n",
        "  ax = fig.gca()\n",
        "  ax.scatter(y_true,y_pred, color=\"blue\")\n",
        "  ax.plot([min_value,max_value], [min_value, max_value], lw=4, color=\"green\")\n",
        "  ax.set_xlabel('Actual')\n",
        "  ax.set_ylabel('Predicted')\n",
        "  plt.xlim=0\n",
        "  plt.ylim=0\n",
        "  plt.show()"
      ]
    },
    {
      "cell_type": "markdown",
      "metadata": {
        "id": "ki6wP3_xXt2J",
        "pycharm": {
          "name": "#%% md\n"
        }
      },
      "source": [
        "# Build Model - linear regression"
      ]
    },
    {
      "cell_type": "code",
      "execution_count": 8,
      "metadata": {
        "colab": {
          "base_uri": "https://localhost:8080/"
        },
        "id": "l_-ZH8xNNKvG",
        "outputId": "1c34f51d-59ca-4b7a-c88d-497b7d39a0d6",
        "pycharm": {
          "name": "#%%\n"
        }
      },
      "outputs": [
        {
          "name": "stdout",
          "output_type": "stream",
          "text": [
            "Mean Squared Error: 4152.394556077237\n"
          ]
        }
      ],
      "source": [
        "# Import Functions\n",
        "from sklearn.linear_model import LinearRegression\n",
        "from sklearn.model_selection import train_test_split\n",
        "from sklearn.metrics import mean_squared_error\n",
        "\n",
        "# Instantiate Model\n",
        "model = LinearRegression()\n",
        "\n",
        "# Create Train Data\n",
        "X = train.drop(\"price\", axis=1)\n",
        "y = train[\"price\"]\n",
        "X_train, X_test, y_train, y_test = train_test_split(X, y, test_size=0.3, random_state=12)\n",
        "\n",
        "# fit model\n",
        "model.fit(X_train, y_train)\n",
        "\n",
        "#make prediction\n",
        "y_pred = model.predict(X_test)\n",
        "\n",
        "# Evaluate Model Performance\n",
        "mse = mean_squared_error(y_test, y_pred, squared=False)\n",
        "print(\"Mean Squared Error: \" + str(mse))"
      ]
    },
    {
      "cell_type": "code",
      "execution_count": 9,
      "metadata": {},
      "outputs": [
        {
          "data": {
            "image/png": "[encoded data removed]",
            "text/plain": [
              "<Figure size 640x480 with 1 Axes>"
            ]
          },
          "metadata": {},
          "output_type": "display_data"
        }
      ],
      "source": [
        "# Show actual vs. predicted plot\n",
        "actual_vs_predicted_plot(y_test, y_pred)"
      ]
    },
    {
      "cell_type": "markdown",
      "metadata": {},
      "source": [
        "# Build Model - Decision Tree Regression"
      ]
    },
    {
      "cell_type": "code",
      "execution_count": 10,
      "metadata": {},
      "outputs": [
        {
          "name": "stdout",
          "output_type": "stream",
          "text": [
            "Mean Squared Error: 3341.434104837512\n"
          ]
        }
      ],
      "source": [
        "from sklearn.tree import DecisionTreeRegressor\n",
        "from sklearn.model_selection import train_test_split\n",
        "from sklearn.metrics import mean_squared_error\n",
        "\n",
        "\n",
        "# Instantiate Model\n",
        "tree = DecisionTreeRegressor() # try with n_estimators=1000)\n",
        "\n",
        "# Create Train Data\n",
        "X = train.drop(\"price\", axis=1)\n",
        "y = train[\"price\"]\n",
        "X_train, X_test, y_train, y_test = train_test_split(X, y, test_size=0.3, random_state=12)\n",
        "\n",
        "# fit model\n",
        "tree.fit(X_train, y_train)\n",
        "\n",
        "#make prediction\n",
        "y_pred = tree.predict(X_test)\n",
        "\n",
        "# Evaluate Model Performance\n",
        "mse = mean_squared_error(y_test, y_pred, squared=False)\n",
        "print(\"Mean Squared Error: \" + str(mse))"
      ]
    },
    {
      "cell_type": "code",
      "execution_count": 11,
      "metadata": {},
      "outputs": [
        {
          "data": {
            "image/png": "[encoded data removed]",
            "text/plain": [
              "<Figure size 640x480 with 1 Axes>"
            ]
          },
          "metadata": {},
          "output_type": "display_data"
        }
      ],
      "source": [
        "# Show actual vs. predicted plot\n",
        "actual_vs_predicted_plot(y_test, y_pred)"
      ]
    },
    {
      "cell_type": "markdown",
      "metadata": {},
      "source": [
        "# Build Model 1 - Random Forest regression"
      ]
    },
    {
      "cell_type": "markdown",
      "metadata": {},
      "source": [
        "First step of building the model: we train the model with the data split into train and test for further optimisation by tuning hyperparameters"
      ]
    },
    {
      "cell_type": "code",
      "execution_count": 12,
      "metadata": {},
      "outputs": [
        {
          "name": "stdout",
          "output_type": "stream",
          "text": [
            "Mean Squared Error: 2096.3873107854397\n"
          ]
        }
      ],
      "source": [
        "from sklearn.ensemble import RandomForestRegressor\n",
        "from sklearn.model_selection import train_test_split\n",
        "from sklearn.metrics import mean_squared_error, make_scorer\n",
        "\n",
        "\n",
        "# Instantiate Model\n",
        "forest = RandomForestRegressor(max_features = 16, max_depth=50, n_estimators=900, random_state=1)\n",
        "\n",
        "# Create Train Data\n",
        "X = train.drop(\"price\", axis=1)\n",
        "y = train[\"price\"]\n",
        "X_train, X_test, y_train, y_test = train_test_split(X, y, test_size=0.3, random_state=12)\n",
        "\n",
        "# fit model\n",
        "forest.fit(X_train, y_train)\n",
        "\n",
        "\n",
        "# make prediction\n",
        "y_pred = forest.predict(X_test)\n",
        "\n",
        "# Evaluate Model Performance\n",
        "mse = mean_squared_error(y_test, y_pred, squared=False) \n",
        "print(\"Mean Squared Error: \" + str(mse))\n"
      ]
    },
    {
      "cell_type": "code",
      "execution_count": 13,
      "metadata": {},
      "outputs": [
        {
          "data": {
            "image/png": "[encoded data removed]",
            "text/plain": [
              "<Figure size 640x480 with 1 Axes>"
            ]
          },
          "metadata": {},
          "output_type": "display_data"
        }
      ],
      "source": [
        "# Show actual vs. predicted plot\n",
        "actual_vs_predicted_plot(y_test, y_pred)"
      ]
    },
    {
      "cell_type": "markdown",
      "metadata": {
        "id": "IoT6AMgxj70w",
        "pycharm": {
          "name": "#%% md\n"
        }
      },
      "source": [
        "# Implementation Help for Grid Search"
      ]
    },
    {
      "cell_type": "markdown",
      "metadata": {},
      "source": [
        "Run a Grid Search to find the best combination of hyperparameters. Output the interrim results using the `verbose()` property."
      ]
    },
    {
      "cell_type": "code",
      "execution_count": 21,
      "metadata": {
        "colab": {
          "base_uri": "https://localhost:8080/"
        },
        "id": "5RWGVIHLg02c",
        "outputId": "e2156452-35a2-49ac-86a1-659707cc5bc9",
        "pycharm": {
          "name": "#%%\n"
        }
      },
      "outputs": [
        {
          "name": "stdout",
          "output_type": "stream",
          "text": [
            "Fitting 5 folds for each of 8 candidates, totalling 40 fits\n",
            "[CV 1/5] END max_depth=25, max_features=8, n_estimators=500;, score=-2129.597 total time=  29.9s\n",
            "[CV 2/5] END max_depth=25, max_features=8, n_estimators=500;, score=-3150.672 total time=  29.5s\n",
            "[CV 3/5] END max_depth=25, max_features=8, n_estimators=500;, score=-2283.213 total time=  29.2s\n",
            "[CV 4/5] END max_depth=25, max_features=8, n_estimators=500;, score=-2237.753 total time=  27.1s\n",
            "[CV 5/5] END max_depth=25, max_features=8, n_estimators=500;, score=-2160.731 total time=  27.9s\n",
            "[CV 1/5] END max_depth=25, max_features=8, n_estimators=900;, score=-2129.509 total time=  44.5s\n",
            "[CV 2/5] END max_depth=25, max_features=8, n_estimators=900;, score=-3154.242 total time=  39.7s\n",
            "[CV 3/5] END max_depth=25, max_features=8, n_estimators=900;, score=-2274.367 total time=  39.2s\n",
            "[CV 4/5] END max_depth=25, max_features=8, n_estimators=900;, score=-2238.885 total time=  39.9s\n",
            "[CV 5/5] END max_depth=25, max_features=8, n_estimators=900;, score=-2158.739 total time=  39.7s\n",
            "[CV 1/5] END max_depth=25, max_features=16, n_estimators=500;, score=-2079.914 total time=  30.7s\n",
            "[CV 2/5] END max_depth=25, max_features=16, n_estimators=500;, score=-3119.441 total time=  30.8s\n",
            "[CV 3/5] END max_depth=25, max_features=16, n_estimators=500;, score=-2223.841 total time=  31.1s\n",
            "[CV 4/5] END max_depth=25, max_features=16, n_estimators=500;, score=-2169.086 total time=  30.7s\n",
            "[CV 5/5] END max_depth=25, max_features=16, n_estimators=500;, score=-2082.122 total time=  31.8s\n",
            "[CV 1/5] END max_depth=25, max_features=16, n_estimators=900;, score=-2081.199 total time=  57.0s\n",
            "[CV 2/5] END max_depth=25, max_features=16, n_estimators=900;, score=-3121.278 total time= 1.1min\n",
            "[CV 3/5] END max_depth=25, max_features=16, n_estimators=900;, score=-2211.716 total time=  58.7s\n",
            "[CV 4/5] END max_depth=25, max_features=16, n_estimators=900;, score=-2168.271 total time=  53.7s\n",
            "[CV 5/5] END max_depth=25, max_features=16, n_estimators=900;, score=-2080.903 total time=  57.0s\n",
            "[CV 1/5] END max_depth=50, max_features=8, n_estimators=500;, score=-2130.565 total time=  25.4s\n",
            "[CV 2/5] END max_depth=50, max_features=8, n_estimators=500;, score=-3152.410 total time=  27.2s\n",
            "[CV 3/5] END max_depth=50, max_features=8, n_estimators=500;, score=-2251.510 total time=  27.3s\n",
            "[CV 4/5] END max_depth=50, max_features=8, n_estimators=500;, score=-2220.008 total time=  24.9s\n",
            "[CV 5/5] END max_depth=50, max_features=8, n_estimators=500;, score=-2140.039 total time=  27.5s\n",
            "[CV 1/5] END max_depth=50, max_features=8, n_estimators=900;, score=-2126.111 total time=  46.6s\n",
            "[CV 2/5] END max_depth=50, max_features=8, n_estimators=900;, score=-3145.065 total time=  44.5s\n",
            "[CV 3/5] END max_depth=50, max_features=8, n_estimators=900;, score=-2254.937 total time=  44.6s\n",
            "[CV 4/5] END max_depth=50, max_features=8, n_estimators=900;, score=-2224.996 total time=  44.7s\n",
            "[CV 5/5] END max_depth=50, max_features=8, n_estimators=900;, score=-2154.217 total time=  41.7s\n",
            "[CV 1/5] END max_depth=50, max_features=16, n_estimators=500;, score=-2077.623 total time=  30.3s\n",
            "[CV 2/5] END max_depth=50, max_features=16, n_estimators=500;, score=-3112.612 total time=  31.6s\n",
            "[CV 3/5] END max_depth=50, max_features=16, n_estimators=500;, score=-2202.351 total time=  31.0s\n",
            "[CV 4/5] END max_depth=50, max_features=16, n_estimators=500;, score=-2160.651 total time=  31.8s\n",
            "[CV 5/5] END max_depth=50, max_features=16, n_estimators=500;, score=-2070.912 total time=  32.4s\n",
            "[CV 1/5] END max_depth=50, max_features=16, n_estimators=900;, score=-2071.496 total time=  57.1s\n",
            "[CV 2/5] END max_depth=50, max_features=16, n_estimators=900;, score=-3117.317 total time=  56.0s\n",
            "[CV 3/5] END max_depth=50, max_features=16, n_estimators=900;, score=-2195.992 total time=  58.3s\n",
            "[CV 4/5] END max_depth=50, max_features=16, n_estimators=900;, score=-2165.211 total time=  57.3s\n",
            "[CV 5/5] END max_depth=50, max_features=16, n_estimators=900;, score=-2071.613 total time=  56.0s\n"
          ]
        },
        {
          "data": {
            "text/html": [
              "<style>#sk-container-id-3 {color: black;}#sk-container-id-3 pre{padding: 0;}#sk-container-id-3 div.sk-toggleable {background-color: white;}#sk-container-id-3 label.sk-toggleable__label {cursor: pointer;display: block;width: 100%;margin-bottom: 0;padding: 0.3em;box-sizing: border-box;text-align: center;}#sk-container-id-3 label.sk-toggleable__label-arrow:before {content: \"▸\";float: left;margin-right: 0.25em;color: #696969;}#sk-container-id-3 label.sk-toggleable__label-arrow:hover:before {color: black;}#sk-container-id-3 div.sk-estimator:hover label.sk-toggleable__label-arrow:before {color: black;}#sk-container-id-3 div.sk-toggleable__content {max-height: 0;max-width: 0;overflow: hidden;text-align: left;background-color: #f0f8ff;}#sk-container-id-3 div.sk-toggleable__content pre {margin: 0.2em;color: black;border-radius: 0.25em;background-color: #f0f8ff;}#sk-container-id-3 input.sk-toggleable__control:checked~div.sk-toggleable__content {max-height: 200px;max-width: 100%;overflow: auto;}#sk-container-id-3 input.sk-toggleable__control:checked~label.sk-toggleable__label-arrow:before {content: \"▾\";}#sk-container-id-3 div.sk-estimator input.sk-toggleable__control:checked~label.sk-toggleable__label {background-color: #d4ebff;}#sk-container-id-3 div.sk-label input.sk-toggleable__control:checked~label.sk-toggleable__label {background-color: #d4ebff;}#sk-container-id-3 input.sk-hidden--visually {border: 0;clip: rect(1px 1px 1px 1px);clip: rect(1px, 1px, 1px, 1px);height: 1px;margin: -1px;overflow: hidden;padding: 0;position: absolute;width: 1px;}#sk-container-id-3 div.sk-estimator {font-family: monospace;background-color: #f0f8ff;border: 1px dotted black;border-radius: 0.25em;box-sizing: border-box;margin-bottom: 0.5em;}#sk-container-id-3 div.sk-estimator:hover {background-color: #d4ebff;}#sk-container-id-3 div.sk-parallel-item::after {content: \"\";width: 100%;border-bottom: 1px solid gray;flex-grow: 1;}#sk-container-id-3 div.sk-label:hover label.sk-toggleable__label {background-color: #d4ebff;}#sk-container-id-3 div.sk-serial::before {content: \"\";position: absolute;border-left: 1px solid gray;box-sizing: border-box;top: 0;bottom: 0;left: 50%;z-index: 0;}#sk-container-id-3 div.sk-serial {display: flex;flex-direction: column;align-items: center;background-color: white;padding-right: 0.2em;padding-left: 0.2em;position: relative;}#sk-container-id-3 div.sk-item {position: relative;z-index: 1;}#sk-container-id-3 div.sk-parallel {display: flex;align-items: stretch;justify-content: center;background-color: white;position: relative;}#sk-container-id-3 div.sk-item::before, #sk-container-id-3 div.sk-parallel-item::before {content: \"\";position: absolute;border-left: 1px solid gray;box-sizing: border-box;top: 0;bottom: 0;left: 50%;z-index: -1;}#sk-container-id-3 div.sk-parallel-item {display: flex;flex-direction: column;z-index: 1;position: relative;background-color: white;}#sk-container-id-3 div.sk-parallel-item:first-child::after {align-self: flex-end;width: 50%;}#sk-container-id-3 div.sk-parallel-item:last-child::after {align-self: flex-start;width: 50%;}#sk-container-id-3 div.sk-parallel-item:only-child::after {width: 0;}#sk-container-id-3 div.sk-dashed-wrapped {border: 1px dashed gray;margin: 0 0.4em 0.5em 0.4em;box-sizing: border-box;padding-bottom: 0.4em;background-color: white;}#sk-container-id-3 div.sk-label label {font-family: monospace;font-weight: bold;display: inline-block;line-height: 1.2em;}#sk-container-id-3 div.sk-label-container {text-align: center;}#sk-container-id-3 div.sk-container {/* jupyter's `normalize.less` sets `[hidden] { display: none; }` but bootstrap.min.css set `[hidden] { display: none !important; }` so we also need the `!important` here to be able to override the default hidden behavior on the sphinx rendered scikit-learn.org. See: https://github.com/scikit-learn/scikit-learn/issues/21755 */display: inline-block !important;position: relative;}#sk-container-id-3 div.sk-text-repr-fallback {display: none;}</style><div id=\"sk-container-id-3\" class=\"sk-top-container\"><div class=\"sk-text-repr-fallback\"><pre>GridSearchCV(cv=5,\n",
              "             estimator=RandomForestRegressor(max_depth=50, max_features=16,\n",
              "                                             n_estimators=900, random_state=1),\n",
              "             param_grid={&#x27;max_depth&#x27;: [25, 50], &#x27;max_features&#x27;: [8, 16],\n",
              "                         &#x27;n_estimators&#x27;: [500, 900]},\n",
              "             scoring=make_scorer(mean_squared_error, greater_is_better=False, squared=False),\n",
              "             verbose=3)</pre><b>In a Jupyter environment, please rerun this cell to show the HTML representation or trust the notebook. <br />On GitHub, the HTML representation is unable to render, please try loading this page with nbviewer.org.</b></div><div class=\"sk-container\" hidden><div class=\"sk-item sk-dashed-wrapped\"><div class=\"sk-label-container\"><div class=\"sk-label sk-toggleable\"><input class=\"sk-toggleable__control sk-hidden--visually\" id=\"sk-estimator-id-5\" type=\"checkbox\" ><label for=\"sk-estimator-id-5\" class=\"sk-toggleable__label sk-toggleable__label-arrow\">GridSearchCV</label><div class=\"sk-toggleable__content\"><pre>GridSearchCV(cv=5,\n",
              "             estimator=RandomForestRegressor(max_depth=50, max_features=16,\n",
              "                                             n_estimators=900, random_state=1),\n",
              "             param_grid={&#x27;max_depth&#x27;: [25, 50], &#x27;max_features&#x27;: [8, 16],\n",
              "                         &#x27;n_estimators&#x27;: [500, 900]},\n",
              "             scoring=make_scorer(mean_squared_error, greater_is_better=False, squared=False),\n",
              "             verbose=3)</pre></div></div></div><div class=\"sk-parallel\"><div class=\"sk-parallel-item\"><div class=\"sk-item\"><div class=\"sk-label-container\"><div class=\"sk-label sk-toggleable\"><input class=\"sk-toggleable__control sk-hidden--visually\" id=\"sk-estimator-id-6\" type=\"checkbox\" ><label for=\"sk-estimator-id-6\" class=\"sk-toggleable__label sk-toggleable__label-arrow\">estimator: RandomForestRegressor</label><div class=\"sk-toggleable__content\"><pre>RandomForestRegressor(max_depth=50, max_features=16, n_estimators=900,\n",
              "                      random_state=1)</pre></div></div></div><div class=\"sk-serial\"><div class=\"sk-item\"><div class=\"sk-estimator sk-toggleable\"><input class=\"sk-toggleable__control sk-hidden--visually\" id=\"sk-estimator-id-7\" type=\"checkbox\" ><label for=\"sk-estimator-id-7\" class=\"sk-toggleable__label sk-toggleable__label-arrow\">RandomForestRegressor</label><div class=\"sk-toggleable__content\"><pre>RandomForestRegressor(max_depth=50, max_features=16, n_estimators=900,\n",
              "                      random_state=1)</pre></div></div></div></div></div></div></div></div></div></div>"
            ],
            "text/plain": [
              "GridSearchCV(cv=5,\n",
              "             estimator=RandomForestRegressor(max_depth=50, max_features=16,\n",
              "                                             n_estimators=900, random_state=1),\n",
              "             param_grid={'max_depth': [25, 50], 'max_features': [8, 16],\n",
              "                         'n_estimators': [500, 900]},\n",
              "             scoring=make_scorer(mean_squared_error, greater_is_better=False, squared=False),\n",
              "             verbose=3)"
            ]
          },
          "execution_count": 21,
          "metadata": {},
          "output_type": "execute_result"
        }
      ],
      "source": [
        "from sklearn.model_selection import GridSearchCV\n",
        "from sklearn.metrics import mean_squared_error, make_scorer\n",
        "\n",
        "# fit model\n",
        "RMSE = make_scorer(mean_squared_error, squared = False, greater_is_better=False) #we create an RMSE scoring function\n",
        "parameters = {\"max_features\": [8, 16], # if needed add other values to the list like 20, 24, etc.\n",
        "              \"n_estimators\": [500, 900],  # if needed add other values to the list like 1000\n",
        "              \"max_depth\": [25, 50] # if needed add other values to the list like  65\n",
        "              }\n",
        "                                                         # hyperparameters to be optimized;\n",
        "model_CV = GridSearchCV(forest, parameters, scoring=RMSE, cv=5,verbose=3) # Apply 5 Cross Validiation Folds to find best hyperparameters\n",
        "model_CV.fit(X_train, y_train)"
      ]
    },
    {
      "cell_type": "code",
      "execution_count": 22,
      "metadata": {},
      "outputs": [
        {
          "data": {
            "text/plain": [
              "{'max_depth': 50, 'max_features': 16, 'n_estimators': 900}"
            ]
          },
          "execution_count": 22,
          "metadata": {},
          "output_type": "execute_result"
        }
      ],
      "source": [
        "model_CV.best_params_"
      ]
    },
    {
      "cell_type": "markdown",
      "metadata": {},
      "source": [
        "# Build Model 2 - Random Forest regression"
      ]
    },
    {
      "cell_type": "markdown",
      "metadata": {},
      "source": [
        "In a second step of building the chosen model, we do a second training of the model, this time with the defined hyperparameters, and the extra data we have from left from the split data set in step 1. See the cell at the end of this notebook. Note the changes to the following, compared to the first run of training the model:\n",
        "- the line with the `train_test_split()` function -  its removed\n",
        "- the line with the prediction `y_pred = ...` -  its removed\n",
        "- the lines evaluating the model performance using the `mean_squared_error()` function - its remvoved\n",
        "- we now fit the model to the complete data using `forest.fit(X, y)`"
      ]
    },
    {
      "cell_type": "code",
      "execution_count": 15,
      "metadata": {},
      "outputs": [
        {
          "data": {
            "text/html": [
              "<style>#sk-container-id-2 {color: black;}#sk-container-id-2 pre{padding: 0;}#sk-container-id-2 div.sk-toggleable {background-color: white;}#sk-container-id-2 label.sk-toggleable__label {cursor: pointer;display: block;width: 100%;margin-bottom: 0;padding: 0.3em;box-sizing: border-box;text-align: center;}#sk-container-id-2 label.sk-toggleable__label-arrow:before {content: \"▸\";float: left;margin-right: 0.25em;color: #696969;}#sk-container-id-2 label.sk-toggleable__label-arrow:hover:before {color: black;}#sk-container-id-2 div.sk-estimator:hover label.sk-toggleable__label-arrow:before {color: black;}#sk-container-id-2 div.sk-toggleable__content {max-height: 0;max-width: 0;overflow: hidden;text-align: left;background-color: #f0f8ff;}#sk-container-id-2 div.sk-toggleable__content pre {margin: 0.2em;color: black;border-radius: 0.25em;background-color: #f0f8ff;}#sk-container-id-2 input.sk-toggleable__control:checked~div.sk-toggleable__content {max-height: 200px;max-width: 100%;overflow: auto;}#sk-container-id-2 input.sk-toggleable__control:checked~label.sk-toggleable__label-arrow:before {content: \"▾\";}#sk-container-id-2 div.sk-estimator input.sk-toggleable__control:checked~label.sk-toggleable__label {background-color: #d4ebff;}#sk-container-id-2 div.sk-label input.sk-toggleable__control:checked~label.sk-toggleable__label {background-color: #d4ebff;}#sk-container-id-2 input.sk-hidden--visually {border: 0;clip: rect(1px 1px 1px 1px);clip: rect(1px, 1px, 1px, 1px);height: 1px;margin: -1px;overflow: hidden;padding: 0;position: absolute;width: 1px;}#sk-container-id-2 div.sk-estimator {font-family: monospace;background-color: #f0f8ff;border: 1px dotted black;border-radius: 0.25em;box-sizing: border-box;margin-bottom: 0.5em;}#sk-container-id-2 div.sk-estimator:hover {background-color: #d4ebff;}#sk-container-id-2 div.sk-parallel-item::after {content: \"\";width: 100%;border-bottom: 1px solid gray;flex-grow: 1;}#sk-container-id-2 div.sk-label:hover label.sk-toggleable__label {background-color: #d4ebff;}#sk-container-id-2 div.sk-serial::before {content: \"\";position: absolute;border-left: 1px solid gray;box-sizing: border-box;top: 0;bottom: 0;left: 50%;z-index: 0;}#sk-container-id-2 div.sk-serial {display: flex;flex-direction: column;align-items: center;background-color: white;padding-right: 0.2em;padding-left: 0.2em;position: relative;}#sk-container-id-2 div.sk-item {position: relative;z-index: 1;}#sk-container-id-2 div.sk-parallel {display: flex;align-items: stretch;justify-content: center;background-color: white;position: relative;}#sk-container-id-2 div.sk-item::before, #sk-container-id-2 div.sk-parallel-item::before {content: \"\";position: absolute;border-left: 1px solid gray;box-sizing: border-box;top: 0;bottom: 0;left: 50%;z-index: -1;}#sk-container-id-2 div.sk-parallel-item {display: flex;flex-direction: column;z-index: 1;position: relative;background-color: white;}#sk-container-id-2 div.sk-parallel-item:first-child::after {align-self: flex-end;width: 50%;}#sk-container-id-2 div.sk-parallel-item:last-child::after {align-self: flex-start;width: 50%;}#sk-container-id-2 div.sk-parallel-item:only-child::after {width: 0;}#sk-container-id-2 div.sk-dashed-wrapped {border: 1px dashed gray;margin: 0 0.4em 0.5em 0.4em;box-sizing: border-box;padding-bottom: 0.4em;background-color: white;}#sk-container-id-2 div.sk-label label {font-family: monospace;font-weight: bold;display: inline-block;line-height: 1.2em;}#sk-container-id-2 div.sk-label-container {text-align: center;}#sk-container-id-2 div.sk-container {/* jupyter's `normalize.less` sets `[hidden] { display: none; }` but bootstrap.min.css set `[hidden] { display: none !important; }` so we also need the `!important` here to be able to override the default hidden behavior on the sphinx rendered scikit-learn.org. See: https://github.com/scikit-learn/scikit-learn/issues/21755 */display: inline-block !important;position: relative;}#sk-container-id-2 div.sk-text-repr-fallback {display: none;}</style><div id=\"sk-container-id-2\" class=\"sk-top-container\"><div class=\"sk-text-repr-fallback\"><pre>RandomForestRegressor(max_depth=50, max_features=16, n_estimators=900,\n",
              "                      random_state=1)</pre><b>In a Jupyter environment, please rerun this cell to show the HTML representation or trust the notebook. <br />On GitHub, the HTML representation is unable to render, please try loading this page with nbviewer.org.</b></div><div class=\"sk-container\" hidden><div class=\"sk-item\"><div class=\"sk-estimator sk-toggleable\"><input class=\"sk-toggleable__control sk-hidden--visually\" id=\"sk-estimator-id-4\" type=\"checkbox\" checked><label for=\"sk-estimator-id-4\" class=\"sk-toggleable__label sk-toggleable__label-arrow\">RandomForestRegressor</label><div class=\"sk-toggleable__content\"><pre>RandomForestRegressor(max_depth=50, max_features=16, n_estimators=900,\n",
              "                      random_state=1)</pre></div></div></div></div></div>"
            ],
            "text/plain": [
              "RandomForestRegressor(max_depth=50, max_features=16, n_estimators=900,\n",
              "                      random_state=1)"
            ]
          },
          "execution_count": 15,
          "metadata": {},
          "output_type": "execute_result"
        }
      ],
      "source": [
        "from sklearn.ensemble import RandomForestRegressor\n",
        "from sklearn.model_selection import train_test_split\n",
        "from sklearn.metrics import mean_squared_error, make_scorer\n",
        "\n",
        "\n",
        "# Instantiate Model\n",
        "forest = RandomForestRegressor(max_features = 16, max_depth=50, n_estimators=900, random_state=1)\n",
        "\n",
        "# Create Train Data\n",
        "X = train.drop(\"price\", axis=1)\n",
        "y = train[\"price\"]\n",
        "\n",
        "# fit model\n",
        "forest.fit(X, y) # show this line in the second run"
      ]
    },
    {
      "cell_type": "markdown",
      "metadata": {},
      "source": [
        "We can now submit this model to Kaggle."
      ]
    },
    {
      "cell_type": "markdown",
      "metadata": {},
      "source": [
        "# Save Results for Submission"
      ]
    },
    {
      "cell_type": "markdown",
      "metadata": {},
      "source": [
        "Make predictions on test for random forest model"
      ]
    },
    {
      "cell_type": "code",
      "execution_count": 16,
      "metadata": {},
      "outputs": [],
      "source": [
        "test_predictions= forest.predict(test)"
      ]
    },
    {
      "cell_type": "markdown",
      "metadata": {},
      "source": [
        "## Define submission function and file "
      ]
    },
    {
      "cell_type": "code",
      "execution_count": 17,
      "metadata": {},
      "outputs": [],
      "source": [
        "forest_model_name = \"Group2Submission4.csv\""
      ]
    },
    {
      "cell_type": "code",
      "execution_count": 18,
      "metadata": {},
      "outputs": [],
      "source": [
        "def save_submission_for_kaggle(model_name, test_predictions, test):\n",
        "  import pandas as pd\n",
        "  submission_data = pd.DataFrame({\"ID\": test[\"ID\"], \"Actual\": test_predictions})\n",
        "  submission_data.to_csv(model_name, index=False)"
      ]
    },
    {
      "cell_type": "markdown",
      "metadata": {},
      "source": [
        "## Save submission file"
      ]
    },
    {
      "cell_type": "code",
      "execution_count": 19,
      "metadata": {},
      "outputs": [],
      "source": [
        "save_submission_for_kaggle(forest_model_name, test_predictions, test)"
      ]
    },
    {
      "cell_type": "markdown",
      "metadata": {},
      "source": [
        "## FOR GOOGLE COLAB USERS ONLY: Download the created file"
      ]
    },
    {
      "cell_type": "code",
      "execution_count": null,
      "metadata": {},
      "outputs": [
        {
          "name": "stdout",
          "output_type": "stream",
          "text": [
            "Not using Google Colab\n"
          ]
        }
      ],
      "source": [
        "try:\n",
        "  from google.colab import files\n",
        "  files.download(forest_model_name)\n",
        "except ModuleNotFoundError:\n",
        "  print(\"Not using Google Colab\")"
      ]
    },
    {
      "cell_type": "markdown",
      "metadata": {},
      "source": [
        "## FOR ANACONDA USERS ONLY: Find the created file in your folder structure\n",
        "\n",
        "The file is located in the same directory as your notebook."
      ]
    },
    {
      "cell_type": "code",
      "execution_count": 20,
      "metadata": {},
      "outputs": [
        {
          "name": "stdout",
          "output_type": "stream",
          "text": [
            "/home/jean/Documents/dev/cas-learn/learning-module3\n"
          ]
        }
      ],
      "source": [
        "# run this cell if you don't know the location\n",
        "import os\n",
        "print(os.getcwd())"
      ]
    }
  ],
  "metadata": {
    "colab": {
      "name": "CAS BDAI CUP SUBMISSION.ipynb",
      "provenance": [],
      "toc_visible": true
    },
    "kernelspec": {
      "display_name": "Python 3 (ipykernel)",
      "language": "python",
      "name": "python3"
    },
    "language_info": {
      "codemirror_mode": {
        "name": "ipython",
        "version": 3
      },
      "file_extension": ".py",
      "mimetype": "text/x-python",
      "name": "python",
      "nbconvert_exporter": "python",
      "pygments_lexer": "ipython3",
      "version": "3.10.12"
    }
  },
  "nbformat": 4,
  "nbformat_minor": 0
}
