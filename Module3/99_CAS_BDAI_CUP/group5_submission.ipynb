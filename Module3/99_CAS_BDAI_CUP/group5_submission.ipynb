{
  "cells": [
    {
      "cell_type": "markdown",
      "metadata": {
        "id": "by2o89GI97z5",
        "pycharm": {
          "name": "#%% md\n"
        }
      },
      "source": [
        "# CAS BDAI CUP SUBMISSION NOTEBOOK\n",
        "\n"
      ]
    },
    {
      "cell_type": "markdown",
      "metadata": {
        "id": "BPhxe5DD-JPC",
        "pycharm": {
          "name": "#%% md\n"
        }
      },
      "source": [
        "# Import Data"
      ]
    },
    {
      "cell_type": "code",
      "execution_count": null,
      "metadata": {
        "id": "FiPlcB9GIpnx",
        "pycharm": {
          "name": "#%%\n"
        }
      },
      "outputs": [],
      "source": [
        "#import data\n",
        "import pandas as pd\n",
        "train = pd.read_csv(\"https://raw.githubusercontent.com/casbdai/notebooks2023/main/Module3/99_CAS_BDAI_CUP/train.csv\")\n",
        "test = pd.read_csv(\"https://raw.githubusercontent.com/casbdai/notebooks2023/main/Module3/99_CAS_BDAI_CUP/test.csv\")"
      ]
    },
    {
      "cell_type": "code",
      "source": [
        "train.corr()"
      ],
      "metadata": {
        "id": "3g3zQPVn94Vh",
        "outputId": "bdaf8066-5592-4de1-b143-db6caea336d6",
        "colab": {
          "base_uri": "https://localhost:8080/",
          "height": 320
        }
      },
      "execution_count": null,
      "outputs": [
        {
          "output_type": "stream",
          "name": "stderr",
          "text": [
            "<ipython-input-8-0bc27f030cd9>:1: FutureWarning: The default value of numeric_only in DataFrame.corr is deprecated. In a future version, it will default to False. Select only valid columns or specify the value of numeric_only to silence this warning.\n",
            "  train.corr()\n"
          ]
        },
        {
          "output_type": "execute_result",
          "data": {
            "text/plain": [
              "                year     price   mileage       tax       mpg  engineSize  \\\n",
              "year        1.000000  0.596614 -0.776818  0.234072 -0.225089   -0.055572   \n",
              "price       0.596614  1.000000 -0.543286  0.391619 -0.412453    0.538620   \n",
              "mileage    -0.776818 -0.543286  1.000000 -0.275957  0.286799    0.083207   \n",
              "tax         0.234072  0.391619 -0.275957  1.000000 -0.507412    0.314410   \n",
              "mpg        -0.225089 -0.412453  0.286799 -0.507412  1.000000   -0.236910   \n",
              "engineSize -0.055572  0.538620  0.083207  0.314410 -0.236910    1.000000   \n",
              "ID         -0.004961 -0.003326  0.010213  0.005422  0.004665    0.004320   \n",
              "\n",
              "                  ID  \n",
              "year       -0.004961  \n",
              "price      -0.003326  \n",
              "mileage     0.010213  \n",
              "tax         0.005422  \n",
              "mpg         0.004665  \n",
              "engineSize  0.004320  \n",
              "ID          1.000000  "
            ],
            "text/html": [
              "\n",
              "  <div id=\"df-2f1426ea-1b1a-4f18-b9bb-dbba03409229\" class=\"colab-df-container\">\n",
              "    <div>\n",
              "<style scoped>\n",
              "    .dataframe tbody tr th:only-of-type {\n",
              "        vertical-align: middle;\n",
              "    }\n",
              "\n",
              "    .dataframe tbody tr th {\n",
              "        vertical-align: top;\n",
              "    }\n",
              "\n",
              "    .dataframe thead th {\n",
              "        text-align: right;\n",
              "    }\n",
              "</style>\n",
              "<table border=\"1\" class=\"dataframe\">\n",
              "  <thead>\n",
              "    <tr style=\"text-align: right;\">\n",
              "      <th></th>\n",
              "      <th>year</th>\n",
              "      <th>price</th>\n",
              "      <th>mileage</th>\n",
              "      <th>tax</th>\n",
              "      <th>mpg</th>\n",
              "      <th>engineSize</th>\n",
              "      <th>ID</th>\n",
              "    </tr>\n",
              "  </thead>\n",
              "  <tbody>\n",
              "    <tr>\n",
              "      <th>year</th>\n",
              "      <td>1.000000</td>\n",
              "      <td>0.596614</td>\n",
              "      <td>-0.776818</td>\n",
              "      <td>0.234072</td>\n",
              "      <td>-0.225089</td>\n",
              "      <td>-0.055572</td>\n",
              "      <td>-0.004961</td>\n",
              "    </tr>\n",
              "    <tr>\n",
              "      <th>price</th>\n",
              "      <td>0.596614</td>\n",
              "      <td>1.000000</td>\n",
              "      <td>-0.543286</td>\n",
              "      <td>0.391619</td>\n",
              "      <td>-0.412453</td>\n",
              "      <td>0.538620</td>\n",
              "      <td>-0.003326</td>\n",
              "    </tr>\n",
              "    <tr>\n",
              "      <th>mileage</th>\n",
              "      <td>-0.776818</td>\n",
              "      <td>-0.543286</td>\n",
              "      <td>1.000000</td>\n",
              "      <td>-0.275957</td>\n",
              "      <td>0.286799</td>\n",
              "      <td>0.083207</td>\n",
              "      <td>0.010213</td>\n",
              "    </tr>\n",
              "    <tr>\n",
              "      <th>tax</th>\n",
              "      <td>0.234072</td>\n",
              "      <td>0.391619</td>\n",
              "      <td>-0.275957</td>\n",
              "      <td>1.000000</td>\n",
              "      <td>-0.507412</td>\n",
              "      <td>0.314410</td>\n",
              "      <td>0.005422</td>\n",
              "    </tr>\n",
              "    <tr>\n",
              "      <th>mpg</th>\n",
              "      <td>-0.225089</td>\n",
              "      <td>-0.412453</td>\n",
              "      <td>0.286799</td>\n",
              "      <td>-0.507412</td>\n",
              "      <td>1.000000</td>\n",
              "      <td>-0.236910</td>\n",
              "      <td>0.004665</td>\n",
              "    </tr>\n",
              "    <tr>\n",
              "      <th>engineSize</th>\n",
              "      <td>-0.055572</td>\n",
              "      <td>0.538620</td>\n",
              "      <td>0.083207</td>\n",
              "      <td>0.314410</td>\n",
              "      <td>-0.236910</td>\n",
              "      <td>1.000000</td>\n",
              "      <td>0.004320</td>\n",
              "    </tr>\n",
              "    <tr>\n",
              "      <th>ID</th>\n",
              "      <td>-0.004961</td>\n",
              "      <td>-0.003326</td>\n",
              "      <td>0.010213</td>\n",
              "      <td>0.005422</td>\n",
              "      <td>0.004665</td>\n",
              "      <td>0.004320</td>\n",
              "      <td>1.000000</td>\n",
              "    </tr>\n",
              "  </tbody>\n",
              "</table>\n",
              "</div>\n",
              "    <div class=\"colab-df-buttons\">\n",
              "\n",
              "  <div class=\"colab-df-container\">\n",
              "    <button class=\"colab-df-convert\" onclick=\"convertToInteractive('df-2f1426ea-1b1a-4f18-b9bb-dbba03409229')\"\n",
              "            title=\"Convert this dataframe to an interactive table.\"\n",
              "            style=\"display:none;\">\n",
              "\n",
              "  <svg xmlns=\"http://www.w3.org/2000/svg\" height=\"24px\" viewBox=\"0 -960 960 960\">\n",
              "    <path d=\"M120-120v-720h720v720H120Zm60-500h600v-160H180v160Zm220 220h160v-160H400v160Zm0 220h160v-160H400v160ZM180-400h160v-160H180v160Zm440 0h160v-160H620v160ZM180-180h160v-160H180v160Zm440 0h160v-160H620v160Z\"/>\n",
              "  </svg>\n",
              "    </button>\n",
              "\n",
              "  <style>\n",
              "    .colab-df-container {\n",
              "      display:flex;\n",
              "      gap: 12px;\n",
              "    }\n",
              "\n",
              "    .colab-df-convert {\n",
              "      background-color: #E8F0FE;\n",
              "      border: none;\n",
              "      border-radius: 50%;\n",
              "      cursor: pointer;\n",
              "      display: none;\n",
              "      fill: #1967D2;\n",
              "      height: 32px;\n",
              "      padding: 0 0 0 0;\n",
              "      width: 32px;\n",
              "    }\n",
              "\n",
              "    .colab-df-convert:hover {\n",
              "      background-color: #E2EBFA;\n",
              "      box-shadow: 0px 1px 2px rgba(60, 64, 67, 0.3), 0px 1px 3px 1px rgba(60, 64, 67, 0.15);\n",
              "      fill: #174EA6;\n",
              "    }\n",
              "\n",
              "    .colab-df-buttons div {\n",
              "      margin-bottom: 4px;\n",
              "    }\n",
              "\n",
              "    [theme=dark] .colab-df-convert {\n",
              "      background-color: #3B4455;\n",
              "      fill: #D2E3FC;\n",
              "    }\n",
              "\n",
              "    [theme=dark] .colab-df-convert:hover {\n",
              "      background-color: #434B5C;\n",
              "      box-shadow: 0px 1px 3px 1px rgba(0, 0, 0, 0.15);\n",
              "      filter: drop-shadow(0px 1px 2px rgba(0, 0, 0, 0.3));\n",
              "      fill: #FFFFFF;\n",
              "    }\n",
              "  </style>\n",
              "\n",
              "    <script>\n",
              "      const buttonEl =\n",
              "        document.querySelector('#df-2f1426ea-1b1a-4f18-b9bb-dbba03409229 button.colab-df-convert');\n",
              "      buttonEl.style.display =\n",
              "        google.colab.kernel.accessAllowed ? 'block' : 'none';\n",
              "\n",
              "      async function convertToInteractive(key) {\n",
              "        const element = document.querySelector('#df-2f1426ea-1b1a-4f18-b9bb-dbba03409229');\n",
              "        const dataTable =\n",
              "          await google.colab.kernel.invokeFunction('convertToInteractive',\n",
              "                                                    [key], {});\n",
              "        if (!dataTable) return;\n",
              "\n",
              "        const docLinkHtml = 'Like what you see? Visit the ' +\n",
              "          '<a target=\"_blank\" href=https://colab.research.google.com/notebooks/data_table.ipynb>data table notebook</a>'\n",
              "          + ' to learn more about interactive tables.';\n",
              "        element.innerHTML = '';\n",
              "        dataTable['output_type'] = 'display_data';\n",
              "        await google.colab.output.renderOutput(dataTable, element);\n",
              "        const docLink = document.createElement('div');\n",
              "        docLink.innerHTML = docLinkHtml;\n",
              "        element.appendChild(docLink);\n",
              "      }\n",
              "    </script>\n",
              "  </div>\n",
              "\n",
              "\n",
              "<div id=\"df-b2af0e5a-2ca2-49a4-8e16-40faf0fca324\">\n",
              "  <button class=\"colab-df-quickchart\" onclick=\"quickchart('df-b2af0e5a-2ca2-49a4-8e16-40faf0fca324')\"\n",
              "            title=\"Suggest charts.\"\n",
              "            style=\"display:none;\">\n",
              "\n",
              "<svg xmlns=\"http://www.w3.org/2000/svg\" height=\"24px\"viewBox=\"0 0 24 24\"\n",
              "     width=\"24px\">\n",
              "    <g>\n",
              "        <path d=\"M19 3H5c-1.1 0-2 .9-2 2v14c0 1.1.9 2 2 2h14c1.1 0 2-.9 2-2V5c0-1.1-.9-2-2-2zM9 17H7v-7h2v7zm4 0h-2V7h2v10zm4 0h-2v-4h2v4z\"/>\n",
              "    </g>\n",
              "</svg>\n",
              "  </button>\n",
              "\n",
              "<style>\n",
              "  .colab-df-quickchart {\n",
              "      --bg-color: #E8F0FE;\n",
              "      --fill-color: #1967D2;\n",
              "      --hover-bg-color: #E2EBFA;\n",
              "      --hover-fill-color: #174EA6;\n",
              "      --disabled-fill-color: #AAA;\n",
              "      --disabled-bg-color: #DDD;\n",
              "  }\n",
              "\n",
              "  [theme=dark] .colab-df-quickchart {\n",
              "      --bg-color: #3B4455;\n",
              "      --fill-color: #D2E3FC;\n",
              "      --hover-bg-color: #434B5C;\n",
              "      --hover-fill-color: #FFFFFF;\n",
              "      --disabled-bg-color: #3B4455;\n",
              "      --disabled-fill-color: #666;\n",
              "  }\n",
              "\n",
              "  .colab-df-quickchart {\n",
              "    background-color: var(--bg-color);\n",
              "    border: none;\n",
              "    border-radius: 50%;\n",
              "    cursor: pointer;\n",
              "    display: none;\n",
              "    fill: var(--fill-color);\n",
              "    height: 32px;\n",
              "    padding: 0;\n",
              "    width: 32px;\n",
              "  }\n",
              "\n",
              "  .colab-df-quickchart:hover {\n",
              "    background-color: var(--hover-bg-color);\n",
              "    box-shadow: 0 1px 2px rgba(60, 64, 67, 0.3), 0 1px 3px 1px rgba(60, 64, 67, 0.15);\n",
              "    fill: var(--button-hover-fill-color);\n",
              "  }\n",
              "\n",
              "  .colab-df-quickchart-complete:disabled,\n",
              "  .colab-df-quickchart-complete:disabled:hover {\n",
              "    background-color: var(--disabled-bg-color);\n",
              "    fill: var(--disabled-fill-color);\n",
              "    box-shadow: none;\n",
              "  }\n",
              "\n",
              "  .colab-df-spinner {\n",
              "    border: 2px solid var(--fill-color);\n",
              "    border-color: transparent;\n",
              "    border-bottom-color: var(--fill-color);\n",
              "    animation:\n",
              "      spin 1s steps(1) infinite;\n",
              "  }\n",
              "\n",
              "  @keyframes spin {\n",
              "    0% {\n",
              "      border-color: transparent;\n",
              "      border-bottom-color: var(--fill-color);\n",
              "      border-left-color: var(--fill-color);\n",
              "    }\n",
              "    20% {\n",
              "      border-color: transparent;\n",
              "      border-left-color: var(--fill-color);\n",
              "      border-top-color: var(--fill-color);\n",
              "    }\n",
              "    30% {\n",
              "      border-color: transparent;\n",
              "      border-left-color: var(--fill-color);\n",
              "      border-top-color: var(--fill-color);\n",
              "      border-right-color: var(--fill-color);\n",
              "    }\n",
              "    40% {\n",
              "      border-color: transparent;\n",
              "      border-right-color: var(--fill-color);\n",
              "      border-top-color: var(--fill-color);\n",
              "    }\n",
              "    60% {\n",
              "      border-color: transparent;\n",
              "      border-right-color: var(--fill-color);\n",
              "    }\n",
              "    80% {\n",
              "      border-color: transparent;\n",
              "      border-right-color: var(--fill-color);\n",
              "      border-bottom-color: var(--fill-color);\n",
              "    }\n",
              "    90% {\n",
              "      border-color: transparent;\n",
              "      border-bottom-color: var(--fill-color);\n",
              "    }\n",
              "  }\n",
              "</style>\n",
              "\n",
              "  <script>\n",
              "    async function quickchart(key) {\n",
              "      const quickchartButtonEl =\n",
              "        document.querySelector('#' + key + ' button');\n",
              "      quickchartButtonEl.disabled = true;  // To prevent multiple clicks.\n",
              "      quickchartButtonEl.classList.add('colab-df-spinner');\n",
              "      try {\n",
              "        const charts = await google.colab.kernel.invokeFunction(\n",
              "            'suggestCharts', [key], {});\n",
              "      } catch (error) {\n",
              "        console.error('Error during call to suggestCharts:', error);\n",
              "      }\n",
              "      quickchartButtonEl.classList.remove('colab-df-spinner');\n",
              "      quickchartButtonEl.classList.add('colab-df-quickchart-complete');\n",
              "    }\n",
              "    (() => {\n",
              "      let quickchartButtonEl =\n",
              "        document.querySelector('#df-b2af0e5a-2ca2-49a4-8e16-40faf0fca324 button');\n",
              "      quickchartButtonEl.style.display =\n",
              "        google.colab.kernel.accessAllowed ? 'block' : 'none';\n",
              "    })();\n",
              "  </script>\n",
              "</div>\n",
              "    </div>\n",
              "  </div>\n"
            ]
          },
          "metadata": {},
          "execution_count": 8
        }
      ]
    },
    {
      "cell_type": "markdown",
      "source": [],
      "metadata": {
        "id": "WpK3N7Ty6zmb"
      }
    },
    {
      "cell_type": "markdown",
      "source": [
        "# Helper Functions"
      ],
      "metadata": {
        "id": "I1CnWSnA63RE"
      }
    },
    {
      "cell_type": "code",
      "source": [
        "def get_summary_report(X_train, y_train):\n",
        "  import statsmodels.api as sm\n",
        "  X_train = sm.add_constant(X_train, prepend=False)\n",
        "  linreg_sm  = sm.OLS(y_train, X_train)\n",
        "  results = linreg_sm.fit()\n",
        "  return results\n",
        "\n",
        "def plot_tree_classification(treemodel, X):\n",
        "    from sklearn import tree\n",
        "    import matplotlib.pyplot as plt\n",
        "    fig = plt.figure(figsize=(60,20))\n",
        "    _ = tree.plot_tree(treemodel,filled=True,class_names=['0','1'],feature_names = X.columns,proportion=True,precision=2)\n",
        "\n",
        "def plot_ROC(model, X_test, y_test):\n",
        "  import matplotlib.pyplot as plt\n",
        "  from sklearn.metrics import RocCurveDisplay\n",
        "  tree_ROC = RocCurveDisplay.from_estimator(model, X_test, y_test, color='green', linewidth=3)\n",
        "  plt.title('ROC Curve')\n",
        "  plt.xlabel('False Alarm (1 - Specificity)')\n",
        "  plt.ylabel('Recall (Sensitivity)')\n",
        "  plt.show()\n",
        "\n",
        "def plot_variable_importance(model, X_train):\n",
        "  import pandas as pd\n",
        "  import matplotlib.pyplot as plt\n",
        "  importances = pd.Series(data=model.feature_importances_,\n",
        "                          index=X_train.columns)\n",
        "  importances.sort_values().plot(kind='barh', color=\"#00802F\")\n",
        "  plt.title('Features Importances')\n",
        "\n",
        "def save_submission_for_kaggle(model_name, test_predictions, test):\n",
        "  import pandas as pd\n",
        "  submission_data = pd.DataFrame({\"ID\": test[\"ID\"], \"Actual\": test_predictions})\n",
        "  submission_data.to_csv(model_name, index=False)\n",
        "\n",
        "def actual_vs_predicted_plot(y_true, y_pred):\n",
        "  import numpy as np\n",
        "  import matplotlib.pyplot as plt\n",
        "  min_value=np.array([y_true.min(), y_pred.min()]).min()\n",
        "  max_value= min=np.array([y_true.max(), y_pred.max()]).max()\n",
        "  fig = plt.figure()\n",
        "  ax = fig.gca()\n",
        "  ax.scatter(y_true,y_pred, color=\"blue\")\n",
        "  ax.plot([min_value,max_value], [min_value, max_value], lw=4, color=\"green\")\n",
        "  ax.set_xlabel('Actual')\n",
        "  ax.set_ylabel('Predicted')\n",
        "  plt.show()"
      ],
      "metadata": {
        "id": "EicwtrpO692p"
      },
      "execution_count": null,
      "outputs": []
    },
    {
      "cell_type": "markdown",
      "metadata": {
        "id": "ki6wP3_xXt2J",
        "pycharm": {
          "name": "#%% md\n"
        }
      },
      "source": [
        "# Build Model Linear Regression (default)"
      ]
    },
    {
      "cell_type": "code",
      "execution_count": null,
      "metadata": {
        "colab": {
          "base_uri": "https://localhost:8080/"
        },
        "id": "l_-ZH8xNNKvG",
        "outputId": "9977ef8c-ad72-4afe-d701-a0733c6adeff",
        "pycharm": {
          "name": "#%%\n"
        }
      },
      "outputs": [
        {
          "output_type": "execute_result",
          "data": {
            "text/plain": [
              "4152.394556077138"
            ]
          },
          "metadata": {},
          "execution_count": 15
        }
      ],
      "source": [
        "# Import Functions\n",
        "from sklearn.linear_model import LinearRegression\n",
        "from sklearn.model_selection import train_test_split\n",
        "from sklearn.metrics import mean_squared_error\n",
        "\n",
        "# Instantiate Model\n",
        "model = LinearRegression()\n",
        "\n",
        "# Create Train Data\n",
        "X = train.drop(\"price\", axis=1)\n",
        "y = train[\"price\"]\n",
        "X_train, X_test, y_train, y_test = train_test_split(X, y, test_size=0.3, random_state=12)\n",
        "\n",
        "# fit model\n",
        "model.fit(X_train, y_train)\n",
        "\n",
        "#make prediction\n",
        "y_pred = model.predict(X_test)\n",
        "\n",
        "# Evaluate Model Performance\n",
        "mean_squared_error(y_test, y_pred, squared=False)\n",
        "\n"
      ]
    },
    {
      "cell_type": "markdown",
      "source": [
        "# Build Model Random Forest"
      ],
      "metadata": {
        "id": "SDpTT1Juop6x"
      }
    },
    {
      "cell_type": "code",
      "source": [
        "import pandas as pd\n",
        "from sklearn.ensemble import RandomForestRegressor\n",
        "from sklearn.model_selection import train_test_split\n",
        "from sklearn.metrics import mean_squared_error, make_scorer, mean_absolute_percentage_error\n",
        "from sklearn.model_selection import GridSearchCV\n",
        "\n",
        "\n",
        "train = pd.read_csv(\"https://raw.githubusercontent.com/casbdai/notebooks2023/main/Module3/99_CAS_BDAI_CUP/train.csv\")\n",
        "train = pd.get_dummies(train, drop_first=True)\n",
        "test = pd.read_csv(\"https://raw.githubusercontent.com/casbdai/notebooks2023/main/Module3/99_CAS_BDAI_CUP/test.csv\")\n",
        "test = pd.get_dummies(test, drop_first=True)\n",
        "test= test.drop([ \"fuelType_Other\"], axis=1)\n",
        "\n",
        "\n",
        "X = train.drop([\"price\", \"fuelType_Other\"], axis=1)\n",
        "y = train[\"price\"]\n",
        "\n",
        "X_train, X_test, y_train, y_test = train_test_split(X, y, test_size=0.3, random_state=12)\n",
        "\n"
      ],
      "metadata": {
        "id": "T_yDeT-1pTaw"
      },
      "execution_count": null,
      "outputs": []
    },
    {
      "cell_type": "code",
      "source": [
        "forest_model = RandomForestRegressor(n_estimators=177)\n",
        "RMSE = make_scorer(mean_squared_error, squared=False, greater_is_better=False)\n",
        "parameters = { 'max_depth': [None] , 'min_samples_split': [4], 'min_samples_leaf': [ 2], 'max_features': [19]}\n",
        "model_CV = GridSearchCV(forest_model, parameters, scoring=RMSE, cv=8, verbose=3)\n",
        "model_CV.fit(X, y)\n",
        "\n",
        "print (\"best Params: \", model_CV.best_params_)\n",
        "y_pred = model_CV.predict(X_test)\n",
        "\n",
        "\n",
        "print(\"mean_sqrt: \", mean_squared_error(y_test, y_pred, squared=False))\n",
        "print(\"abs%: \", mean_absolute_percentage_error(y_test, y_pred))\n"
      ],
      "metadata": {
        "colab": {
          "base_uri": "https://localhost:8080/"
        },
        "id": "izNtFEbYGaaQ",
        "outputId": "b988c60b-3332-4c93-c40b-f8c748c01ba6"
      },
      "execution_count": null,
      "outputs": [
        {
          "output_type": "stream",
          "name": "stdout",
          "text": [
            "Fitting 8 folds for each of 1 candidates, totalling 8 fits\n",
            "[CV 1/8] END max_depth=50, max_features=19, min_samples_leaf=2, min_samples_split=4;, score=-2010.184 total time=  14.2s\n",
            "[CV 2/8] END max_depth=50, max_features=19, min_samples_leaf=2, min_samples_split=4;, score=-3262.319 total time=  12.7s\n",
            "[CV 3/8] END max_depth=50, max_features=19, min_samples_leaf=2, min_samples_split=4;, score=-2188.882 total time=  12.8s\n",
            "[CV 4/8] END max_depth=50, max_features=19, min_samples_leaf=2, min_samples_split=4;, score=-2033.983 total time=  12.5s\n",
            "[CV 5/8] END max_depth=50, max_features=19, min_samples_leaf=2, min_samples_split=4;, score=-1989.985 total time=  12.5s\n",
            "[CV 6/8] END max_depth=50, max_features=19, min_samples_leaf=2, min_samples_split=4;, score=-2016.533 total time=  12.4s\n",
            "[CV 7/8] END max_depth=50, max_features=19, min_samples_leaf=2, min_samples_split=4;, score=-2034.476 total time=  12.6s\n",
            "[CV 8/8] END max_depth=50, max_features=19, min_samples_leaf=2, min_samples_split=4;, score=-2106.347 total time=  12.5s\n",
            "best Params:  {'max_depth': 50, 'max_features': 19, 'min_samples_leaf': 2, 'min_samples_split': 4}\n",
            "mean_sqrt:  1284.1408867935002\n",
            "abs%:  0.04230471519359405\n"
          ]
        }
      ]
    },
    {
      "cell_type": "code",
      "source": [
        "y_Final = model_CV.predict(test)\n",
        "actual_vs_predicted_plot(y_pred, y_test)\n",
        "model_name = \"Team5.TestSubmission.14.csv\"\n",
        "save_submission_for_kaggle(model_name, y_Final, test)\n",
        "\n",
        "try:\n",
        "  from google.colab import files\n",
        "  files.download(model_name)\n",
        "except ModuleNotFoundError:\n",
        "  print(\"Not using Google Colab\")"
      ],
      "metadata": {
        "colab": {
          "base_uri": "https://localhost:8080/",
          "height": 449
        },
        "id": "CiD393v8GbOx",
        "outputId": "076ba49c-e1b8-441b-c883-2579cdd61496"
      },
      "execution_count": null,
      "outputs": [
        {
          "output_type": "display_data",
          "data": {
            "text/plain": [
              "<Figure size 640x480 with 1 Axes>"
            ],
            "image/png": "[encoded data removed]"
          },
          "metadata": {}
        },
        {
          "output_type": "display_data",
          "data": {
            "text/plain": [
              "<IPython.core.display.Javascript object>"
            ],
            "application/javascript": [
              "\n",
              "    async function download(id, filename, size) {\n",
              "      if (!google.colab.kernel.accessAllowed) {\n",
              "        return;\n",
              "      }\n",
              "      const div = document.createElement('div');\n",
              "      const label = document.createElement('label');\n",
              "      label.textContent = `Downloading \"${filename}\": `;\n",
              "      div.appendChild(label);\n",
              "      const progress = document.createElement('progress');\n",
              "      progress.max = size;\n",
              "      div.appendChild(progress);\n",
              "      document.body.appendChild(div);\n",
              "\n",
              "      const buffers = [];\n",
              "      let downloaded = 0;\n",
              "\n",
              "      const channel = await google.colab.kernel.comms.open(id);\n",
              "      // Send a message to notify the kernel that we're ready.\n",
              "      channel.send({})\n",
              "\n",
              "      for await (const message of channel.messages) {\n",
              "        // Send a message to notify the kernel that we're ready.\n",
              "        channel.send({})\n",
              "        if (message.buffers) {\n",
              "          for (const buffer of message.buffers) {\n",
              "            buffers.push(buffer);\n",
              "            downloaded += buffer.byteLength;\n",
              "            progress.value = downloaded;\n",
              "          }\n",
              "        }\n",
              "      }\n",
              "      const blob = new Blob(buffers, {type: 'application/binary'});\n",
              "      const a = document.createElement('a');\n",
              "      a.href = window.URL.createObjectURL(blob);\n",
              "      a.download = filename;\n",
              "      div.appendChild(a);\n",
              "      a.click();\n",
              "      div.remove();\n",
              "    }\n",
              "  "
            ]
          },
          "metadata": {}
        },
        {
          "output_type": "display_data",
          "data": {
            "text/plain": [
              "<IPython.core.display.Javascript object>"
            ],
            "application/javascript": [
              "download(\"download_4d99b4e3-4562-4327-a8e8-c2fb16cd0641\", \"Team5.TestSubmission.14.csv\", 386507)"
            ]
          },
          "metadata": {}
        }
      ]
    },
    {
      "cell_type": "code",
      "source": [
        "model_CV.best_score_\n"
      ],
      "metadata": {
        "colab": {
          "base_uri": "https://localhost:8080/"
        },
        "id": "BbSXcRxgtdzA",
        "outputId": "f2b930ef-0684-4863-9d12-2e95d771ac98"
      },
      "execution_count": null,
      "outputs": [
        {
          "output_type": "execute_result",
          "data": {
            "text/plain": [
              "-2452.260392498467"
            ]
          },
          "metadata": {},
          "execution_count": 22
        }
      ]
    },
    {
      "cell_type": "markdown",
      "metadata": {
        "id": "h-7mh_yDQ5Si",
        "pycharm": {
          "name": "#%% md\n"
        }
      },
      "source": [
        "# Save Results for Submission"
      ]
    },
    {
      "cell_type": "markdown",
      "metadata": {
        "id": "q6YVeDU2u8uM",
        "pycharm": {
          "name": "#%% md\n"
        }
      },
      "source": [
        "Make predictions on the competition data with your trained model"
      ]
    },
    {
      "cell_type": "code",
      "execution_count": null,
      "metadata": {
        "id": "mZmvMo3enxfU",
        "pycharm": {
          "name": "#%%\n"
        }
      },
      "outputs": [],
      "source": [
        "test_predictions= model.predict(test)"
      ]
    },
    {
      "cell_type": "code",
      "execution_count": null,
      "metadata": {
        "id": "HY34krAdwQ0l",
        "pycharm": {
          "name": "#%%\n"
        }
      },
      "outputs": [],
      "source": [
        "model_name = \"Team5.TestSubmission.csv\""
      ]
    },
    {
      "cell_type": "code",
      "execution_count": null,
      "metadata": {
        "id": "K_hMBy32vv8U",
        "pycharm": {
          "name": "#%%\n"
        }
      },
      "outputs": [],
      "source": [
        "def save_submission_for_kaggle(model_name, test_predictions, test):\n",
        "  import pandas as pd\n",
        "  submission_data = pd.DataFrame({\"ID\": test[\"ID\"], \"Actual\": test_predictions})\n",
        "  submission_data.to_csv(model_name, index=False)"
      ]
    },
    {
      "cell_type": "markdown",
      "metadata": {
        "pycharm": {
          "name": "#%% md\n"
        },
        "id": "LyEvbx8K03T4"
      },
      "source": [
        "## Save submission file"
      ]
    },
    {
      "cell_type": "code",
      "execution_count": null,
      "metadata": {
        "pycharm": {
          "name": "#%%\n"
        },
        "id": "L7cA-gB003T4",
        "colab": {
          "base_uri": "https://localhost:8080/",
          "height": 174
        },
        "outputId": "c9756de4-96f1-4781-fde3-00c91cc0cfe2"
      },
      "outputs": [
        {
          "output_type": "error",
          "ename": "NameError",
          "evalue": "ignored",
          "traceback": [
            "\u001b[0;31m---------------------------------------------------------------------------\u001b[0m",
            "\u001b[0;31mNameError\u001b[0m                                 Traceback (most recent call last)",
            "\u001b[0;32m<ipython-input-54-b1083dd14451>\u001b[0m in \u001b[0;36m<cell line: 1>\u001b[0;34m()\u001b[0m\n\u001b[0;32m----> 1\u001b[0;31m \u001b[0msave_submission_for_kaggle\u001b[0m\u001b[0;34m(\u001b[0m\u001b[0mmodel_name\u001b[0m\u001b[0;34m,\u001b[0m \u001b[0mtest_predictions\u001b[0m\u001b[0;34m,\u001b[0m \u001b[0mtest\u001b[0m\u001b[0;34m)\u001b[0m\u001b[0;34m\u001b[0m\u001b[0;34m\u001b[0m\u001b[0m\n\u001b[0m",
            "\u001b[0;31mNameError\u001b[0m: name 'save_submission_for_kaggle' is not defined"
          ]
        }
      ],
      "source": [
        "save_submission_for_kaggle(model_name, test_predictions, test)"
      ]
    },
    {
      "cell_type": "markdown",
      "metadata": {
        "pycharm": {
          "name": "#%% md\n"
        },
        "id": "34ioMslu03T4"
      },
      "source": [
        "## FOR GOOGLE COLAB USERS ONLY: Download the created file"
      ]
    },
    {
      "cell_type": "code",
      "execution_count": null,
      "metadata": {
        "pycharm": {
          "name": "#%%\n"
        },
        "id": "zbYNJHJB03T4",
        "colab": {
          "base_uri": "https://localhost:8080/",
          "height": 17
        },
        "outputId": "86eace15-7d5b-4c42-f7f5-e86b27296daa"
      },
      "outputs": [
        {
          "output_type": "display_data",
          "data": {
            "text/plain": [
              "<IPython.core.display.Javascript object>"
            ],
            "application/javascript": [
              "\n",
              "    async function download(id, filename, size) {\n",
              "      if (!google.colab.kernel.accessAllowed) {\n",
              "        return;\n",
              "      }\n",
              "      const div = document.createElement('div');\n",
              "      const label = document.createElement('label');\n",
              "      label.textContent = `Downloading \"${filename}\": `;\n",
              "      div.appendChild(label);\n",
              "      const progress = document.createElement('progress');\n",
              "      progress.max = size;\n",
              "      div.appendChild(progress);\n",
              "      document.body.appendChild(div);\n",
              "\n",
              "      const buffers = [];\n",
              "      let downloaded = 0;\n",
              "\n",
              "      const channel = await google.colab.kernel.comms.open(id);\n",
              "      // Send a message to notify the kernel that we're ready.\n",
              "      channel.send({})\n",
              "\n",
              "      for await (const message of channel.messages) {\n",
              "        // Send a message to notify the kernel that we're ready.\n",
              "        channel.send({})\n",
              "        if (message.buffers) {\n",
              "          for (const buffer of message.buffers) {\n",
              "            buffers.push(buffer);\n",
              "            downloaded += buffer.byteLength;\n",
              "            progress.value = downloaded;\n",
              "          }\n",
              "        }\n",
              "      }\n",
              "      const blob = new Blob(buffers, {type: 'application/binary'});\n",
              "      const a = document.createElement('a');\n",
              "      a.href = window.URL.createObjectURL(blob);\n",
              "      a.download = filename;\n",
              "      div.appendChild(a);\n",
              "      a.click();\n",
              "      div.remove();\n",
              "    }\n",
              "  "
            ]
          },
          "metadata": {}
        },
        {
          "output_type": "display_data",
          "data": {
            "text/plain": [
              "<IPython.core.display.Javascript object>"
            ],
            "application/javascript": [
              "download(\"download_cdffbc06-8058-4617-a97f-04b5ff47e630\", \"Team5.TestSubmission.6.csv\", 386563)"
            ]
          },
          "metadata": {}
        }
      ],
      "source": [
        "try:\n",
        "  from google.colab import files\n",
        "  files.download(model_name)\n",
        "except ModuleNotFoundError:\n",
        "  print(\"Not using Google Colab\")"
      ]
    },
    {
      "cell_type": "markdown",
      "metadata": {
        "pycharm": {
          "name": "#%% md\n"
        },
        "id": "G0rpmmKD03T4"
      },
      "source": [
        "## FOR ANACONDA USERS ONLY: Find the created file in your folder structure\n",
        "\n",
        "The file is located in the same directory as your notebook."
      ]
    },
    {
      "cell_type": "code",
      "execution_count": null,
      "metadata": {
        "pycharm": {
          "name": "#%%\n"
        },
        "id": "nh2vUhga03T5"
      },
      "outputs": [],
      "source": [
        "# run this cell if you don't know the location\n",
        "import os\n",
        "print(os.getcwd())"
      ]
    },
    {
      "cell_type": "markdown",
      "metadata": {
        "id": "Pi6BViVGcUHo",
        "pycharm": {
          "name": "#%% md\n"
        }
      },
      "source": [
        "# How to get Going\n",
        "\n",
        "- Try out other algorithms!\n",
        "- Try out Cross Validation and Hyperparameter Tuning (see coding hint below)\n",
        "- Try to understand why different models perform better or worse. Make Visualizations (Actual vs. Predicted Plots, Feature Importances, etc.)\n",
        "- Try to make ensemble different predictions (average of multiple models)"
      ]
    },
    {
      "cell_type": "markdown",
      "metadata": {
        "id": "IoT6AMgxj70w",
        "pycharm": {
          "name": "#%% md\n"
        }
      },
      "source": [
        "# Implementation Help for Grid Search"
      ]
    },
    {
      "cell_type": "code",
      "source": [
        "#parameters = {'max_depth':range(1,30),   'min_samples_leaf':[1, 10, 20, 30, 50, 100]}\n",
        "#tree_CV = GridSearchCV(DecisionTreeClassifier(criterion=\"entropy\", random_state=1), parameters, cv=5)"
      ],
      "metadata": {
        "id": "wevxKSCFho56"
      },
      "execution_count": null,
      "outputs": []
    },
    {
      "cell_type": "code",
      "execution_count": null,
      "metadata": {
        "id": "5RWGVIHLg02c",
        "pycharm": {
          "name": "#%%\n"
        }
      },
      "outputs": [],
      "source": [
        "from sklearn.model_selection import GridSearchCV\n",
        "from sklearn.metrics import mean_squared_error, make_scorer\n",
        "\n",
        "# fit model\n",
        "RMSE = make_scorer(mean_squared_error, squared = False, greater_is_better=False) #we create an RMSE scoring function\n",
        "parameters = _____ # hyperparameters to be optimized\n",
        "model_CV = GridSearchCV(_____, parameters, scoring=RMSE, cv=5) # Apply 5 Cross Validiation Folds to find best hyperparameters"
      ]
    }
  ],
  "metadata": {
    "colab": {
      "provenance": [],
      "toc_visible": true,
      "collapsed_sections": [
        "BPhxe5DD-JPC",
        "ki6wP3_xXt2J"
      ]
    },
    "kernelspec": {
      "display_name": "Python 3 (ipykernel)",
      "language": "python",
      "name": "python3"
    },
    "language_info": {
      "codemirror_mode": {
        "name": "ipython",
        "version": 3
      },
      "file_extension": ".py",
      "mimetype": "text/x-python",
      "name": "python",
      "nbconvert_exporter": "python",
      "pygments_lexer": "ipython3",
      "version": "3.9.10"
    }
  },
  "nbformat": 4,
  "nbformat_minor": 0
}