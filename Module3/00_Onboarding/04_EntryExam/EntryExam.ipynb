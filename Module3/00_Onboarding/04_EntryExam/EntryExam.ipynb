{
 "cells": [
  {
   "cell_type": "markdown",
   "metadata": {
    "id": "em90tC8wwI_A"
   },
   "source": [
    "## 1) Import the pandas library"
   ]
  },
  {
   "cell_type": "code",
   "execution_count": null,
   "metadata": {
    "id": "AETs6WRov52w"
   },
   "outputs": [],
   "source": [
    "_____"
   ]
  },
  {
   "cell_type": "markdown",
   "metadata": {
    "id": "1d1ohOWewYyY"
   },
   "source": [
    "## 2) Read in the file \"netflix_titles.csv\" and call the corresponding data frame netflix\n",
    "\n",
    "---\n",
    "\n"
   ]
  },
  {
   "cell_type": "code",
   "execution_count": null,
   "metadata": {},
   "outputs": [],
   "source": [
    "path = \"https://raw.githubusercontent.com/casbdai/notebooks2023/main/Module3/00_Onboarding/04_EntryExam/netflix_titles.csv\"\n",
    "\n",
    "netflix = pd.____\n",
    "netflix._____"
   ]
  },
  {
   "cell_type": "markdown",
   "metadata": {
    "id": "iQKGy5yJxFcC"
   },
   "source": [
    "## 3) Use the .head() and the .info() methods to explore the structure of the dataset\n",
    "\n",
    "Answer the following questions:\n",
    "- How many features has the netflix dataframe?\n",
    "- How many instance has the dataframe?\n",
    "- What are the datatypes of the dataframe? What do the different data types means?\n",
    "- Which variables have missing values?\n"
   ]
  },
  {
   "cell_type": "code",
   "execution_count": null,
   "metadata": {
    "id": "i41IbQ4VxMsn"
   },
   "outputs": [],
   "source": [
    "netflix._____"
   ]
  },
  {
   "cell_type": "code",
   "execution_count": null,
   "metadata": {
    "colab": {
     "base_uri": "https://localhost:8080/"
    },
    "executionInfo": {
     "elapsed": 213,
     "status": "ok",
     "timestamp": 1627389130558,
     "user": {
      "displayName": "Ivo Blohm",
      "photoUrl": "",
      "userId": "03588522102684867783"
     },
     "user_tz": -120
    },
    "id": "EOcEp1frxT7X",
    "outputId": "612a137a-d92b-46b8-d72b-b97f49704b5f"
   },
   "outputs": [],
   "source": [
    "netflix._____"
   ]
  },
  {
   "cell_type": "markdown",
   "metadata": {
    "id": "06pUtZOA7cY1"
   },
   "source": [
    "- ____ features\n",
    "- ____ instances\n",
    "- the datatypes are: _____\n",
    "- the following variables have missing values: _____"
   ]
  },
  {
   "cell_type": "markdown",
   "metadata": {
    "id": "2-wjLgNT47tS"
   },
   "source": [
    "## 4) What is the minimum, maximum and mean of the feature \"release_year\" ?"
   ]
  },
  {
   "cell_type": "code",
   "execution_count": null,
   "metadata": {
    "id": "VKExgeD_5GZS"
   },
   "outputs": [],
   "source": [
    "netflix[_____]._____"
   ]
  },
  {
   "cell_type": "code",
   "execution_count": null,
   "metadata": {
    "id": "0bO6ufKy5LMz"
   },
   "outputs": [],
   "source": [
    "_____"
   ]
  },
  {
   "cell_type": "code",
   "execution_count": null,
   "metadata": {
    "id": "O5CgW5MX5PIj"
   },
   "outputs": [],
   "source": [
    "_____"
   ]
  },
  {
   "cell_type": "markdown",
   "metadata": {
    "id": "PVivpZiJ5gV5"
   },
   "source": [
    "## 5) Select all netflix shows that have been released in 2020? How many are these?"
   ]
  },
  {
   "cell_type": "code",
   "execution_count": null,
   "metadata": {
    "id": "CiDp23yy5WSf"
   },
   "outputs": [],
   "source": [
    "netflix[_____[_____]==_____].info()"
   ]
  },
  {
   "cell_type": "markdown",
   "metadata": {
    "id": "S5vr8n9lz1SX"
   },
   "source": [
    "## 6) Create two new dataframes calles \"netflix_years\" and \"netflix_titles\". These datasets shall only contain the features \"show_id\" and \"release_year\" or \"title\""
   ]
  },
  {
   "cell_type": "code",
   "execution_count": null,
   "metadata": {
    "id": "YBJQR2mjy8zj"
   },
   "outputs": [],
   "source": [
    "netflix_titles = netflix[[_____,_____]]\n",
    "netflix_years = _____"
   ]
  },
  {
   "cell_type": "markdown",
   "metadata": {
    "id": "Ww99aE5K0pL4"
   },
   "source": [
    "## 7) Merge the two dataframes together using pd.concat() and pd.merge(). What is the difference between these two approaches?"
   ]
  },
  {
   "cell_type": "code",
   "execution_count": null,
   "metadata": {
    "id": "Ho90jUU_1RV-"
   },
   "outputs": [],
   "source": [
    "netflix_concat = pd.concat([_____, _____], axis=_____1)\n",
    "netflix_concat"
   ]
  },
  {
   "cell_type": "code",
   "execution_count": null,
   "metadata": {
    "id": "HMN7wH4m1vT8"
   },
   "outputs": [],
   "source": [
    "netflix_merge = pd.merge(_____, _____, on=_____)\n",
    "netflix_merge"
   ]
  },
  {
   "cell_type": "markdown",
   "metadata": {},
   "source": [
    "pd.concat() copies the datasets together. If axis = 0 the datasets are copied row-wise together. If axis = 1 it is column-wise.\n",
    "\n",
    "pd.merge() merges together dataframes on a key (=show_id). Thus, it mantains the connection between the same instances (even after sorting etc.). pd.concat does not mantain the logic between instances. If one data frame is sorted ascending and the other one descending, the connection between the instances is destroyed."
   ]
  },
  {
   "cell_type": "markdown",
   "metadata": {
    "id": "fk4pvbIO54v1"
   },
   "source": [
    "## 8) Write the \"netflix_merge\" dataframe to your google drive / local harddisk as csv file"
   ]
  },
  {
   "cell_type": "markdown",
   "metadata": {},
   "source": [
    "### Google Collab (Save file to Google Drive)\n",
    "\n",
    "**Connect to google collab with jupyter notebook to google drive**"
   ]
  },
  {
   "cell_type": "code",
   "execution_count": null,
   "metadata": {},
   "outputs": [],
   "source": [
    "from google.colab import drive\n",
    "drive.mount('/content/drive')"
   ]
  },
  {
   "cell_type": "markdown",
   "metadata": {},
   "source": [
    "**We need to adapt the path to which we want to save the file to your folder structure in your google drive**\n",
    "\n",
    "remember:\n",
    "- *drive/MyDrive* is the standard prefix to start-\n",
    "- *YOURFOLDER1/YOURFOLDER2/* resembles your folder structure that you created in google drive (you need to create the folders first)\n",
    "- the path always has to end with */* because we are adding the file name in a second step"
   ]
  },
  {
   "cell_type": "code",
   "execution_count": null,
   "metadata": {},
   "outputs": [],
   "source": [
    "path = \"drive/My Drive/YOURFOLDER1/YOURFOLDER2/\" #please adapt\n",
    "\n",
    "# This is how the path looks at my google drive:\n",
    "# path = \"drive/MyDrive/Colab Notebooks/CAS BDAI/PrepTasks Module 3/EntryExam\""
   ]
  },
  {
   "cell_type": "markdown",
   "metadata": {},
   "source": [
    "now we can save the file with pandas using the .to_csv() method"
   ]
  },
  {
   "cell_type": "code",
   "execution_count": null,
   "metadata": {
    "id": "oqImFZxs6FGk"
   },
   "outputs": [],
   "source": [
    "netflix_merge.to_csv(path + \"netflix_merge.csv\")"
   ]
  },
  {
   "cell_type": "markdown",
   "metadata": {},
   "source": [
    "### Anaconda (Save file to your local hard disk)\n",
    "\n"
   ]
  },
  {
   "cell_type": "markdown",
   "metadata": {},
   "source": [
    "**We need to adapt the path to which we want to save the file to your folder structure on your local hard disk**\n",
    "\n",
    "remember:\n",
    "- please change the path to the folder in which you want to save the file below such that it matches the folder structure that you created on your hard disk (you need to create the folders first)\n",
    "- the path always has to end with */* because we are adding the file name in a second step"
   ]
  },
  {
   "cell_type": "code",
   "execution_count": null,
   "metadata": {},
   "outputs": [],
   "source": [
    "path = \"C:/YOURFOLDER1/YOURFOLDER2/\" #please adapt\n",
    "\n",
    "# This is how the path looks at my local hard disk C:\n",
    "# path = 'C:/Users/IBlohm/Universität St.Gallen/IWI7 - Dokumente/CAS/2022/Module3/00_onboarding/01_preparationtasks/EntryExam/'"
   ]
  },
  {
   "cell_type": "markdown",
   "metadata": {},
   "source": [
    "now we can save the file with pandas using the .to_csv() method"
   ]
  },
  {
   "cell_type": "code",
   "execution_count": null,
   "metadata": {},
   "outputs": [],
   "source": [
    "netflix_merge.to_csv(path + \"netflix_merge.csv\")"
   ]
  }
 ],
 "metadata": {
  "colab": {
   "collapsed_sections": [],
   "name": "EntryExam.ipynb",
   "provenance": [],
   "toc_visible": true
  },
  "kernelspec": {
   "display_name": "Python 3 (ipykernel)",
   "language": "python",
   "name": "python3"
  },
  "language_info": {
   "codemirror_mode": {
    "name": "ipython",
    "version": 3
   },
   "file_extension": ".py",
   "mimetype": "text/x-python",
   "name": "python",
   "nbconvert_exporter": "python",
   "pygments_lexer": "ipython3",
   "version": "3.9.12"
  }
 },
 "nbformat": 4,
 "nbformat_minor": 1
}
