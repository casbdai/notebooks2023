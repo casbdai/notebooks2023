{
 "cells": [
  {
   "cell_type": "markdown",
   "metadata": {
    "id": "CisXRiqH34AW"
   },
   "source": [
    "# NYC Cabs\n",
    "\n",
    "New York. The city that never sleeps. New York is one of the world's busiest cities. Many tourists, business man, and new yorkers use cabs as central means of transportation. Although the yellow cabs are a central building block of the cities image and self-representation, many (digital) competitors entered the competive arena. Frequently, competitors such as UBER do not only offer a cheaper ride, but also offer a new mobility experience using apps and other digital companion services. \n",
    "\n",
    "Thus, the different NYC cab companies have teamed up and decided to build a new digital app, with which potential customers can order a cab and also get a prediction for the ride's price to be paid. \n",
    "\n",
    "Now, it is up to you to build such a prediction system for the NYC cab companies. In this initial part, you will start on the data engineering part and some exploratory data analysis. In a second part, after module 3, you will engage in the prediction part. For this assignment, we will use original historic data. Due to the size of the data set we will work with 0.2% of January's 2016 data as well as weather and holiday data for that time."
   ]
  },
  {
   "cell_type": "markdown",
   "metadata": {
    "id": "m9TQsJrs34Aa"
   },
   "source": [
    "# 1) Read in data\n",
    "\n",
    "Read in the three datasets with pandas."
   ]
  },
  {
   "cell_type": "code",
   "execution_count": null,
   "metadata": {
    "id": "q6Sd9SrP2M67"
   },
   "outputs": [],
   "source": [
    "import pandas as pd\n",
    "weather=pd.read_csv(\"https://raw.githubusercontent.com/casbdai/datasets/main/weather_assignment.csv\")\n",
    "holidays=pd.read_csv(\"https://raw.githubusercontent.com/casbdai/datasets/main/usHolidays.csv\")\n",
    "rides=pd.read_csv(\"https://raw.githubusercontent.com/casbdai/datasets/main/rides_jan2016_assignment.csv\")"
   ]
  },
  {
   "cell_type": "markdown",
   "metadata": {
    "id": "PmVKOjnj34Ag"
   },
   "source": [
    "# 2) Prepare weather data\n",
    "\n",
    "### 2.1) Inspect data"
   ]
  },
  {
   "cell_type": "markdown",
   "metadata": {
    "id": "1WtSenUs34Ai"
   },
   "source": [
    "Inspect the weather date using the .head() and .info() methods. "
   ]
  },
  {
   "cell_type": "code",
   "execution_count": null,
   "metadata": {
    "id": "kiRn6eSH34Aj"
   },
   "outputs": [],
   "source": [
    "weather.____"
   ]
  },
  {
   "cell_type": "code",
   "execution_count": null,
   "metadata": {
    "id": "DZ4i7YSp34Ar"
   },
   "outputs": [],
   "source": [
    "weather.____"
   ]
  },
  {
   "cell_type": "markdown",
   "metadata": {
    "id": "iPYs4Wee34Av"
   },
   "source": [
    "What can we see this that?\n",
    "\n",
    "1. Have a look at the different date formats ( .info() ). Most variables are measured as integer and floats (Can you remember the difference?). This is good - they reflect numeric measurements.\n",
    "2. The features \"conds\" (condition) and \"vis\" (visibility) have no nice names - we need to fix that\n",
    "3. The features \"conds\" and \"date\" are objects, that is, they are recognized as strings (text). This is ok for \"conds\". But we need to transform \"date\" from an object to a \"datetime\" - we need to tell pyhton that this is a measurement of time \n",
    "4. Have a look at the \"date\" feature: Weather is measured at hourly rate."
   ]
  },
  {
   "cell_type": "markdown",
   "metadata": {
    "id": "JQuRDmZm34Ax"
   },
   "source": [
    "###  2.2) Fix date object\n",
    "\n",
    "Pandas provides a very easy approach to transforming dates into \"datetime\" format - the correct format for date and tiems. We apply the .to_datetime() function to our variable. Remember that this is a function and not a method. Methods are directly called on a dataframe (e.g., weather.head() ). Functions have to be applied to a dataframe from pandas (e.g., pd.to_datetime() )"
   ]
  },
  {
   "cell_type": "code",
   "execution_count": null,
   "metadata": {
    "id": "saTtPOJv34Ay"
   },
   "outputs": [],
   "source": [
    "weather[\"date\"] = pd.to_datetime(weather[\"date\"])"
   ]
  },
  {
   "cell_type": "code",
   "execution_count": null,
   "metadata": {
    "colab": {
     "base_uri": "https://localhost:8080/",
     "height": 230
    },
    "executionInfo": {
     "elapsed": 584,
     "status": "ok",
     "timestamp": 1583264994128,
     "user": {
      "displayName": "Ivo Blohm",
      "photoUrl": "",
      "userId": "03588522102684867783"
     },
     "user_tz": -60
    },
    "id": "wF2U0buE34A2",
    "outputId": "26198d64-5e9a-4730-e99e-55593ddb3b51"
   },
   "outputs": [],
   "source": [
    "weather.info()"
   ]
  },
  {
   "cell_type": "code",
   "execution_count": null,
   "metadata": {
    "colab": {
     "base_uri": "https://localhost:8080/",
     "height": 197
    },
    "executionInfo": {
     "elapsed": 523,
     "status": "ok",
     "timestamp": 1583264996033,
     "user": {
      "displayName": "Ivo Blohm",
      "photoUrl": "",
      "userId": "03588522102684867783"
     },
     "user_tz": -60
    },
    "id": "m4jGbXfy34A7",
    "outputId": "11f2f937-e3f4-4a16-80c9-8684031abb12"
   },
   "outputs": [],
   "source": [
    "weather.head()"
   ]
  },
  {
   "cell_type": "markdown",
   "metadata": {
    "id": "0pdjwU3234A-"
   },
   "source": [
    "We new \"date\" feature contains a date-part and time-part. We are only interested in the date-part and create a new feature \"DATE\" using the .dt.date method"
   ]
  },
  {
   "cell_type": "code",
   "execution_count": null,
   "metadata": {
    "colab": {
     "base_uri": "https://localhost:8080/",
     "height": 197
    },
    "executionInfo": {
     "elapsed": 573,
     "status": "ok",
     "timestamp": 1583264998125,
     "user": {
      "displayName": "Ivo Blohm",
      "photoUrl": "",
      "userId": "03588522102684867783"
     },
     "user_tz": -60
    },
    "id": "ez-aiI_J34A_",
    "outputId": "4ef1d2dc-7429-4066-8082-a1077f072a94"
   },
   "outputs": [],
   "source": [
    "weather[\"DATE\"]=weather[\"date\"].dt.date\n",
    "weather.head()"
   ]
  },
  {
   "cell_type": "markdown",
   "metadata": {
    "id": "C4xEsEn-34BC"
   },
   "source": [
    "### 2.3) Please rename the features \"vis\" and \"conds\" into \"visibility\" and \"conditions\""
   ]
  },
  {
   "cell_type": "code",
   "execution_count": null,
   "metadata": {
    "id": "S2IMvGBP34BD"
   },
   "outputs": [],
   "source": [
    "weather = weather.rename(____={____:____})\n",
    "weather.____"
   ]
  },
  {
   "cell_type": "code",
   "execution_count": null,
   "metadata": {
    "id": "7XpxB82t34BH"
   },
   "outputs": [],
   "source": [
    "weather = weather.rename(____={____:____})\n",
    "weather.____"
   ]
  },
  {
   "cell_type": "markdown",
   "metadata": {
    "id": "KOaRlqf534BK"
   },
   "source": [
    "# 3) Prepare rides data"
   ]
  },
  {
   "cell_type": "markdown",
   "metadata": {
    "id": "gRPHMgzO34BL"
   },
   "source": [
    "### 3.1) Investigate the rides dataframe "
   ]
  },
  {
   "cell_type": "code",
   "execution_count": null,
   "metadata": {
    "id": "83DAfaX834BM"
   },
   "outputs": [],
   "source": [
    "____"
   ]
  },
  {
   "cell_type": "code",
   "execution_count": null,
   "metadata": {
    "id": "Llb4EsTI34BP"
   },
   "outputs": [],
   "source": [
    "____"
   ]
  },
  {
   "cell_type": "markdown",
   "metadata": {
    "id": "-9bPETnd34BS"
   },
   "source": [
    "### 3.2) Fix the date object (again)\n",
    "\n",
    "Have a look at the feature \"pickup_datetime\" - yet another format for time. Let's transform that to pandas' standard datetime with pd.to_datetime()"
   ]
  },
  {
   "cell_type": "code",
   "execution_count": null,
   "metadata": {
    "id": "tVl1P6CV34BT"
   },
   "outputs": [],
   "source": [
    "rides[____] = pd.____(____[____])"
   ]
  },
  {
   "cell_type": "markdown",
   "metadata": {
    "id": "_Dtr__Op-CSW"
   },
   "source": [
    "Extract the date part only"
   ]
  },
  {
   "cell_type": "code",
   "execution_count": null,
   "metadata": {
    "id": "ZSxSkNo834BY"
   },
   "outputs": [],
   "source": [
    "rides[\"pickup_datetime\"] = rides[\"pickup_datetime\"].____.____\n",
    "rides[\"pickup_datetime\"]"
   ]
  },
  {
   "cell_type": "markdown",
   "metadata": {
    "id": "VMMR8ViE34Be"
   },
   "source": [
    "# 4) Prepare the holidays dataframe"
   ]
  },
  {
   "cell_type": "markdown",
   "metadata": {
    "id": "aD7J80nr34Bf"
   },
   "source": [
    "### 4.1) Inspect the holidays dataframe"
   ]
  },
  {
   "cell_type": "code",
   "execution_count": null,
   "metadata": {
    "id": "FJ6dHOdv34Bg"
   },
   "outputs": [],
   "source": [
    "____"
   ]
  },
  {
   "cell_type": "code",
   "execution_count": null,
   "metadata": {
    "id": "nKVFFPqf34Bj"
   },
   "outputs": [],
   "source": [
    "____"
   ]
  },
  {
   "cell_type": "markdown",
   "metadata": {
    "id": "3QxOj3Ka34Bl"
   },
   "source": [
    "### 4.2) Remove the feature \"Index\". We don't need that. Remove that feature from the data frame"
   ]
  },
  {
   "cell_type": "code",
   "execution_count": null,
   "metadata": {
    "id": "tkM6HHxE34Bm"
   },
   "outputs": [],
   "source": [
    "del(holidays[____])"
   ]
  },
  {
   "cell_type": "markdown",
   "metadata": {
    "id": "F85gZX9t34Bt"
   },
   "source": [
    "### 4.3) And again, a different format for dates. Fix it!"
   ]
  },
  {
   "cell_type": "code",
   "execution_count": null,
   "metadata": {},
   "outputs": [],
   "source": [
    "holidays[\"Date\"]=pd.to_datetime(____)\n",
    "holidays.head()"
   ]
  },
  {
   "cell_type": "code",
   "execution_count": null,
   "metadata": {},
   "outputs": [],
   "source": [
    "The command may generate a warning, because pandas fails to parse the format automatically. You can ignore it (not generally, but in this case)"
   ]
  },
  {
   "cell_type": "markdown",
   "metadata": {
    "id": "6Y3yfsle34Bz"
   },
   "source": [
    "# 5) Merge rides and holidays"
   ]
  },
  {
   "cell_type": "markdown",
   "metadata": {
    "id": "ccskBfF834B0"
   },
   "source": [
    "Let's merge together the three data frames on the date variable. However, watchout, dates are special.... The standard merge command leads to an error. We have to invest a bit into additional data preparation instead ..."
   ]
  },
  {
   "cell_type": "code",
   "execution_count": null,
   "metadata": {
    "colab": {
     "base_uri": "https://localhost:8080/",
     "height": 352
    },
    "executionInfo": {
     "elapsed": 567,
     "status": "error",
     "timestamp": 1583265025610,
     "user": {
      "displayName": "Ivo Blohm",
      "photoUrl": "",
      "userId": "03588522102684867783"
     },
     "user_tz": -60
    },
    "id": "ZZxqeXMw34B0",
    "outputId": "5644b52e-2a62-45aa-c14f-33b871083a1d"
   },
   "outputs": [],
   "source": [
    "pd.merge(rides, \n",
    "         holidays, \n",
    "         how=\"inner\", \n",
    "         left_on=\"pickup_datetime\", \n",
    "         right_on=\"Date\")"
   ]
  },
  {
   "cell_type": "markdown",
   "metadata": {
    "id": "nhiphxv634B3"
   },
   "source": [
    "If we want to merge on date features. We have to work with index values, that is, the row names (0 to 4 on the left side in the following table) "
   ]
  },
  {
   "cell_type": "code",
   "execution_count": null,
   "metadata": {
    "colab": {
     "base_uri": "https://localhost:8080/",
     "height": 367
    },
    "executionInfo": {
     "elapsed": 511,
     "status": "ok",
     "timestamp": 1583265029643,
     "user": {
      "displayName": "Ivo Blohm",
      "photoUrl": "",
      "userId": "03588522102684867783"
     },
     "user_tz": -60
    },
    "id": "-imTRHAZ34B4",
    "outputId": "9824c537-fb33-4914-dbce-e9ff4776c19a"
   },
   "outputs": [],
   "source": [
    "rides.head()"
   ]
  },
  {
   "cell_type": "markdown",
   "metadata": {
    "id": "CbpAJJRI34B9"
   },
   "source": [
    "We have to rename the index / row names. We can do that with the .set_index() method of pandas. In the following example, we rename the index from a number, e.g., 0 to 4, to the pickup_datetime."
   ]
  },
  {
   "cell_type": "code",
   "execution_count": null,
   "metadata": {
    "colab": {
     "base_uri": "https://localhost:8080/",
     "height": 397
    },
    "executionInfo": {
     "elapsed": 518,
     "status": "ok",
     "timestamp": 1583265032226,
     "user": {
      "displayName": "Ivo Blohm",
      "photoUrl": "",
      "userId": "03588522102684867783"
     },
     "user_tz": -60
    },
    "id": "QBLIlhhG34B-",
    "outputId": "c61f1680-71a8-4e47-a560-71a13a5e4129"
   },
   "outputs": [],
   "source": [
    "rides.set_index(rides[\"pickup_datetime\"], inplace=True)\n",
    "rides.head()"
   ]
  },
  {
   "cell_type": "markdown",
   "metadata": {
    "id": "cLDiWHR234CE"
   },
   "source": [
    "Lets repeat that for the holidays dataframe."
   ]
  },
  {
   "cell_type": "code",
   "execution_count": null,
   "metadata": {
    "colab": {
     "base_uri": "https://localhost:8080/",
     "height": 227
    },
    "executionInfo": {
     "elapsed": 517,
     "status": "ok",
     "timestamp": 1583265036502,
     "user": {
      "displayName": "Ivo Blohm",
      "photoUrl": "",
      "userId": "03588522102684867783"
     },
     "user_tz": -60
    },
    "id": "Qzkf1HW234CE",
    "outputId": "19cf7faf-3b7f-495e-ee00-aae8cf4ea1a2"
   },
   "outputs": [],
   "source": [
    "holidays.____(holidays[\"Date\"], inplace=____)\n",
    "holidays.____"
   ]
  },
  {
   "cell_type": "markdown",
   "metadata": {
    "id": "jNIo2Sti34CH"
   },
   "source": [
    "Now, we can use the merge command. But,we merge on the renamed index values... Also, we need a left join because we want to add the holidays to the single rides. That is, we want to know whether a given ride was undertaken on holiday or on a regular day."
   ]
  },
  {
   "cell_type": "code",
   "execution_count": null,
   "metadata": {
    "id": "hAzqggMW34CI"
   },
   "outputs": [],
   "source": [
    "rides_merged = pd.merge(rides, \n",
    "                         holidays, \n",
    "                         how=\"left\", \n",
    "                         left_index=True, \n",
    "                         right_index=True)"
   ]
  },
  {
   "cell_type": "markdown",
   "metadata": {
    "id": "snRRjh-Y-j52"
   },
   "source": [
    "Let's check weather merge was successful"
   ]
  },
  {
   "cell_type": "code",
   "execution_count": null,
   "metadata": {
    "id": "-BkLWzgU34CM"
   },
   "outputs": [],
   "source": [
    "rides_merged.____"
   ]
  },
  {
   "cell_type": "markdown",
   "metadata": {
    "id": "exHWs32534CQ"
   },
   "source": [
    "In the dataframe \"rides_merged\", we can now delete the two date features \"pickup_datetime\" and \"date\". The data is redundant and the have the date information already in the newly created index. "
   ]
  },
  {
   "cell_type": "markdown",
   "metadata": {
    "id": "djyIqhSn6rWa"
   },
   "source": [
    "### 5.1) Remove old date variables \"pickup_datetime\" and \"Date\". They are not needed anymore. The new index resembles the date information."
   ]
  },
  {
   "cell_type": "code",
   "execution_count": null,
   "metadata": {
    "id": "O9J74gZa34CR"
   },
   "outputs": [],
   "source": [
    "____(rides_merged[\"pickup_datetime\"])\n",
    "____"
   ]
  },
  {
   "cell_type": "markdown",
   "metadata": {
    "id": "AgGhNTZs34CU"
   },
   "source": [
    "The feature \"Holiday\" has a lot of missing values. Let's have a look at the 10 first instances"
   ]
  },
  {
   "cell_type": "markdown",
   "metadata": {
    "id": "-2L02vKN6__H"
   },
   "source": [
    "### 5.2) Impute missing values in the \"Holiday\" variable"
   ]
  },
  {
   "cell_type": "code",
   "execution_count": null,
   "metadata": {
    "colab": {
     "base_uri": "https://localhost:8080/",
     "height": 212
    },
    "executionInfo": {
     "elapsed": 609,
     "status": "ok",
     "timestamp": 1583265085871,
     "user": {
      "displayName": "Ivo Blohm",
      "photoUrl": "",
      "userId": "03588522102684867783"
     },
     "user_tz": -60
    },
    "id": "PtLx9ikJ34CW",
    "outputId": "4e9c8f2c-5bc0-4765-a11a-dcf4f6baf4f3"
   },
   "outputs": [],
   "source": [
    "rides_merged[\"Holiday\"].head(10)"
   ]
  },
  {
   "cell_type": "markdown",
   "metadata": {
    "id": "NtNcsAKa34CY"
   },
   "source": [
    "Let's fill the missing values with the expression \"Regular Day\""
   ]
  },
  {
   "cell_type": "code",
   "execution_count": null,
   "metadata": {
    "id": "e6JgfXdH34CZ"
   },
   "outputs": [],
   "source": [
    "rides_merged[\"Holiday\"]=rides_merged[\"Holiday\"].fillna(value=____)\n",
    "rides_merged[\"Holiday\"].head(10)"
   ]
  },
  {
   "cell_type": "markdown",
   "metadata": {
    "id": "Ljzy7a1V34Cd"
   },
   "source": [
    "# 6) Merge rides_merged and weather data "
   ]
  },
  {
   "cell_type": "markdown",
   "metadata": {
    "id": "IDY1EtFx7gQZ"
   },
   "source": [
    "### 6.1) Aggregate weather data from hourly to daily level\n",
    "\n",
    "Let's reinspect the weather data frame"
   ]
  },
  {
   "cell_type": "code",
   "execution_count": null,
   "metadata": {
    "id": "z5hfX47q34Ce"
   },
   "outputs": [],
   "source": [
    "weather.____"
   ]
  },
  {
   "cell_type": "markdown",
   "metadata": {
    "id": "EEcIlKgA34Ch"
   },
   "source": [
    "Ok. Weather data is measured on a hourly level. In order to facilate things, we aggregate the weather data on the daily level, that is, the take the average for each calender day. "
   ]
  },
  {
   "cell_type": "code",
   "execution_count": null,
   "metadata": {
    "id": "raYsAO1H34Ci"
   },
   "outputs": [],
   "source": [
    "weather_daily = weather.groupby(\"DATE\").____\n",
    "weather_daily.head()"
   ]
  },
  {
   "cell_type": "markdown",
   "metadata": {
    "id": "_0Ftei4c34Cp"
   },
   "source": [
    "Now, we jave daily averages. Note that the features \"date\" and \"conditions\" have been removed (because the mean cannot be applied to these variables). Also, the index values have already been set to the \"DATE\" values that we have been using for grouping! "
   ]
  },
  {
   "cell_type": "markdown",
   "metadata": {
    "id": "UWtJ0VEq34Cp"
   },
   "source": [
    "### 6.2) Let's merge the aggregated dataframe \"weather_daily\" to \"rides_merged\". Please use the correct merge (inner, left, etc.) and explore whether the merge was successful."
   ]
  },
  {
   "cell_type": "code",
   "execution_count": null,
   "metadata": {
    "id": "PL_Vi1L834Cq"
   },
   "outputs": [],
   "source": [
    "rides_merged = pd.merge(____,\n",
    "                        ____,\n",
    "                        how=____,\n",
    "                        left_index = True,\n",
    "                        right_index = True)\n",
    "rides_merged.info()"
   ]
  },
  {
   "cell_type": "markdown",
   "metadata": {
    "id": "UFyy8hGG34Cv"
   },
   "source": [
    "### Woohoo! We are done. Everything is merged together!"
   ]
  },
  {
   "cell_type": "markdown",
   "metadata": {
    "id": "vMwrSK_934Cw"
   },
   "source": [
    "# 7) Exploratory data analysis"
   ]
  },
  {
   "cell_type": "markdown",
   "metadata": {
    "id": "1cFz2FH-34Cx"
   },
   "source": [
    "### 7.1) Get all all taxi rides with a price of more than 100 USD!"
   ]
  },
  {
   "cell_type": "code",
   "execution_count": null,
   "metadata": {
    "colab": {
     "base_uri": "https://localhost:8080/",
     "height": 447
    },
    "executionInfo": {
     "elapsed": 534,
     "status": "ok",
     "timestamp": 1583265116596,
     "user": {
      "displayName": "Ivo Blohm",
      "photoUrl": "",
      "userId": "03588522102684867783"
     },
     "user_tz": -60
    },
    "id": "-n51cpJC34Cx",
    "outputId": "415b7c6b-8756-4e64-a057-55098cda4929"
   },
   "outputs": [],
   "source": [
    "rides_merged.___[rides_merged[\"total_amount\"]>___,]"
   ]
  },
  {
   "cell_type": "markdown",
   "metadata": {
    "id": "3B_Riif034C0"
   },
   "source": [
    "### 7.2) Get all instances with an average speed of smaller than 2 miles per hour and snow fall bigger than 0 mm!"
   ]
  },
  {
   "cell_type": "code",
   "execution_count": null,
   "metadata": {
    "colab": {
     "base_uri": "https://localhost:8080/",
     "height": 207
    },
    "executionInfo": {
     "elapsed": 558,
     "status": "ok",
     "timestamp": 1583265122020,
     "user": {
      "displayName": "Ivo Blohm",
      "photoUrl": "",
      "userId": "03588522102684867783"
     },
     "user_tz": -60
    },
    "id": "tt4ai-pn34C1",
    "outputId": "3bfea3c0-62ed-4bc9-9ddf-f27c584241d2"
   },
   "outputs": [],
   "source": [
    "rides_merged.loc[(___) & (___),]"
   ]
  },
  {
   "cell_type": "markdown",
   "metadata": {
    "id": "zUTkD0q08dp3"
   },
   "source": [
    "### 7.3) Get the total trip_destance of the different vendors (use \"VendorID\")"
   ]
  },
  {
   "cell_type": "code",
   "execution_count": null,
   "metadata": {
    "colab": {
     "base_uri": "https://localhost:8080/",
     "height": 87
    },
    "executionInfo": {
     "elapsed": 496,
     "status": "ok",
     "timestamp": 1583265124507,
     "user": {
      "displayName": "Ivo Blohm",
      "photoUrl": "",
      "userId": "03588522102684867783"
     },
     "user_tz": -60
    },
    "id": "BJOqicUl34C8",
    "outputId": "6f3b263b-3302-46f2-cbb6-1032fbe1d589"
   },
   "outputs": [],
   "source": [
    "rides_merged.groupby(____)[____].____"
   ]
  },
  {
   "cell_type": "markdown",
   "metadata": {
    "id": "HFkK0Z_034DB"
   },
   "source": [
    "### 7.4) Check the correlation between \"trip_duration\" and \"snow\". Draw a scatterplot and a check the correlation."
   ]
  },
  {
   "cell_type": "code",
   "execution_count": null,
   "metadata": {
    "id": "Z6zUCj3G34DC"
   },
   "outputs": [],
   "source": [
    "rides_merged.plot(____, _____, ____)"
   ]
  }
 ],
 "metadata": {
  "colab": {
   "name": "NYCabs.ipynb",
   "provenance": []
  },
  "kernelspec": {
   "display_name": "Python 3 (ipykernel)",
   "language": "python",
   "name": "python3"
  },
  "language_info": {
   "codemirror_mode": {
    "name": "ipython",
    "version": 3
   },
   "file_extension": ".py",
   "mimetype": "text/x-python",
   "name": "python",
   "nbconvert_exporter": "python",
   "pygments_lexer": "ipython3",
   "version": "3.9.12"
  }
 },
 "nbformat": 4,
 "nbformat_minor": 1
}
