{
 "cells": [
  {
   "cell_type": "markdown",
   "metadata": {
    "id": "PSZ-R3mm2ACH"
   },
   "source": [
    "# Speed dating Solution"
   ]
  },
  {
   "cell_type": "markdown",
   "metadata": {
    "id": "h3NzvCiC2ACL"
   },
   "source": [
    "Speed dating is a an approach to find new partners. In each speed dating event, the maximum number of participants per gender is limited to seven to ten persons. During the event, each female participant gets to know each male participant and vice versa. In so doing, the speed dating event is conducted in rounds which last about seven to eight minutes. In this short time frame, the singles have the opportunity to chat and to make an impression of each other. After each round, participants note on a piece of paper whether they want to \"re-date\" their counterpart. Then, chat partners are changed. This procedure is repeated until each \"male-female-couples\" have been formed (Source: Wikipedia 2022)\n",
    "\n",
    "Fisman et al. (2006) have conducted an extensive experiment in order to determine which attributes are important to the \"love at the first sight\" (or within the first five minutes). \n",
    " \n",
    "Let's have a look at a small glimpse of their data!"
   ]
  },
  {
   "cell_type": "markdown",
   "metadata": {
    "id": "8BSpq2Xt2ACM"
   },
   "source": [
    "## Data description\n",
    "\n",
    "- gender: Female=0, Male=1\n",
    "- match: 1=yes, 0=no; Did the participants indicate that they want to see each other again?\n",
    "- wave: Experimental wave; Fishman et al. made many speeddating sessions (i.e., the first 20 participants participate in wave 1, the second 20 in wave 2, etc.) which are indicating by the “wave number” \n",
    "\n",
    "Participants were asked to indicate the individual importance of the factors of the other sex: \n",
    "\n",
    "- attr1_1: attractive (attr1_1)\n",
    "- sinc1_1: sincere (sinc1_1)\n",
    "- intel1_1: intelligent (intel1_1)\n",
    "- fun1_1: fun (fun1_1)\n",
    "\n",
    "Participants could allocate a total of 100 points to those attributes. They could distribute more points to factors that are more important in a potential date, and fewer points to those attributes that are less important in a potential date.  Total points must equal 100.\n"
   ]
  },
  {
   "cell_type": "markdown",
   "metadata": {
    "id": "o3KoZ70f2ACN"
   },
   "source": [
    "## 1) Read in the data set «speeddating.csv» with pandas and name the data frame «speeddating». How many instances and features are in the dataframe?"
   ]
  },
  {
   "cell_type": "code",
   "execution_count": null,
   "metadata": {
    "id": "KxJGSPCL2ACT"
   },
   "outputs": [],
   "source": [
    "import pandas as _________\n",
    "path = \"https://raw.githubusercontent.com/casbdai/notebooks2023/main/Module3/00_Onboarding/01_Speeddating/speeddating.csv\"\n",
    "speeddating = pd.read_csv(path)\n",
    "speeddating.info()"
   ]
  },
  {
   "cell_type": "markdown",
   "metadata": {
    "id": "A2FX0ZLv2ACX"
   },
   "source": [
    "## 2) Rename the features into «attractive», «sincere», «intelligent» and «fun»"
   ]
  },
  {
   "cell_type": "markdown",
   "metadata": {
    "id": "JxorNpNj2ACY"
   },
   "source": [
    "We can rename variables in a dataframe in many different ways. An easy approach is using python dictionaries. Python dictionaries are another data structure (that we have covered only very superficially in class). They consist of two parts a \"key\" and a \"value\" that are stored with in a pair of {}. Key and values are seperated by a colon; multiple key-value-pairs are separated by a comma. \n",
    "\n",
    "Examples:"
   ]
  },
  {
   "cell_type": "code",
   "execution_count": null,
   "metadata": {
    "colab": {
     "base_uri": "https://localhost:8080/"
    },
    "executionInfo": {
     "elapsed": 223,
     "status": "ok",
     "timestamp": 1627363950822,
     "user": {
      "displayName": "Ivo Blohm",
      "photoUrl": "",
      "userId": "03588522102684867783"
     },
     "user_tz": -120
    },
    "id": "q58wPBOh2ACZ",
    "outputId": "3c39127c-8860-46df-f2b7-b2a029684780"
   },
   "outputs": [],
   "source": [
    "dict = {\"key\":\"value\", \"key2\": \"value2\"}\n",
    "dict"
   ]
  },
  {
   "cell_type": "code",
   "execution_count": null,
   "metadata": {
    "colab": {
     "base_uri": "https://localhost:8080/"
    },
    "executionInfo": {
     "elapsed": 222,
     "status": "ok",
     "timestamp": 1627363952684,
     "user": {
      "displayName": "Ivo Blohm",
      "photoUrl": "",
      "userId": "03588522102684867783"
     },
     "user_tz": -120
    },
    "id": "Mnp5UDD42ACe",
    "outputId": "3f17a341-872f-44b1-d726-8ef838f69d54"
   },
   "outputs": [],
   "source": [
    "dict = {\"key\":2, \"key2\": 34}\n",
    "dict"
   ]
  },
  {
   "cell_type": "markdown",
   "metadata": {
    "id": "YkwDBPBR2ACh"
   },
   "source": [
    "For renaming variables, we can call the .rename() method on the dataframe. The keys are the old variable names, the values the new ones."
   ]
  },
  {
   "cell_type": "code",
   "execution_count": null,
   "metadata": {
    "id": "SCV4QReg2ACi"
   },
   "outputs": [],
   "source": [
    "speeddating = speeddating.rename(columns={\"attr1_1\":\"attractive\",\n",
    "                                          _________:_________,\n",
    "                                          _________:_________,\n",
    "                                          _________:_________})\n",
    "speeddating._________"
   ]
  },
  {
   "cell_type": "markdown",
   "metadata": {
    "id": "ne12cpE32ACl"
   },
   "source": [
    "## 3) How many dates did match? What is the maximum of the feature «attractive»?"
   ]
  },
  {
   "cell_type": "code",
   "execution_count": null,
   "metadata": {
    "id": "QixZGtwh2ACm"
   },
   "outputs": [],
   "source": [
    "speeddating.loc[speeddating[\"match\"]==_________].info()"
   ]
  },
  {
   "cell_type": "markdown",
   "metadata": {
    "id": "xk6dYKdqc6hO"
   },
   "source": [
    "A total of 1363 men and women have matched!"
   ]
  },
  {
   "cell_type": "markdown",
   "metadata": {
    "id": "-n1u4P9F2ACq"
   },
   "source": [
    "## 4) Create three «subsets» and save the results as new datafames. The singe subsets shall contain the following «waves»:\n",
    "\n",
    "- Subset 1: data for waves 1 to 5\n",
    "- Subset 2: data for waves 6 to 9\n",
    "- Subset 3: data for waves 10 bis 21"
   ]
  },
  {
   "cell_type": "code",
   "execution_count": null,
   "metadata": {
    "id": "yZaUnJF42ACr"
   },
   "outputs": [],
   "source": [
    "speeddating_1to5 = speeddating.loc[(speeddating[\"wave\"] >= 1) & (speeddating[\"wave\"] <= _________)]\n",
    "speeddating_6to9 = speeddating.loc[(speeddating[\"wave\"] >= _________) & (_________] <= 9)]\n",
    "speeddating_10to21 = speeddating.loc[_________]"
   ]
  },
  {
   "cell_type": "markdown",
   "metadata": {
    "id": "5DXyuMTG2ACv"
   },
   "source": [
    "## 5)\tCheck whether the subsetting was sucessful and have a low at the number of instances in the newly created dataframes"
   ]
  },
  {
   "cell_type": "code",
   "execution_count": null,
   "metadata": {
    "id": "byf-S3pj2ACw"
   },
   "outputs": [],
   "source": [
    "speeddating_1to5._________"
   ]
  },
  {
   "cell_type": "code",
   "execution_count": null,
   "metadata": {
    "id": "S90ZSwaY2ACz"
   },
   "outputs": [],
   "source": [
    "speeddating_6to9._________"
   ]
  },
  {
   "cell_type": "code",
   "execution_count": null,
   "metadata": {
    "id": "JcBEMuMm2AC2"
   },
   "outputs": [],
   "source": [
    "speeddating_10to21._________"
   ]
  },
  {
   "cell_type": "markdown",
   "metadata": {
    "id": "j9zlGokg2AC5"
   },
   "source": [
    "## 6)\tMerge the first and the third dataframe (i.e., the dataframes for wafe 1 to 5 and for waves 10 to 21)\n"
   ]
  },
  {
   "cell_type": "code",
   "execution_count": null,
   "metadata": {
    "id": "dV18fPu12AC6"
   },
   "outputs": [],
   "source": [
    "merged_speeddating=pd.concat([_________, _________], axis=0)\n",
    "merged_speeddating.info()"
   ]
  },
  {
   "cell_type": "markdown",
   "metadata": {
    "id": "mNFinR342AC_"
   },
   "source": [
    "## 7) What are the most important attributes for men and women? "
   ]
  },
  {
   "cell_type": "markdown",
   "metadata": {
    "id": "FZdf8R_RdQTA"
   },
   "source": [
    "Use the .groupby() method to compare men and women!"
   ]
  },
  {
   "cell_type": "code",
   "execution_count": null,
   "metadata": {
    "id": "PwPqHBj12ADA"
   },
   "outputs": [],
   "source": [
    "speeddating.groupby(\"gender\")[\"sincere\"].mean()"
   ]
  },
  {
   "cell_type": "code",
   "execution_count": null,
   "metadata": {
    "id": "_P5Tus-w2ADD"
   },
   "outputs": [],
   "source": [
    "speeddating.groupby(_________)[_________].mean()"
   ]
  },
  {
   "cell_type": "code",
   "execution_count": null,
   "metadata": {
    "id": "wrnaXA9f2ADG"
   },
   "outputs": [],
   "source": [
    "speeddating.groupby(_________)[_________]._________"
   ]
  },
  {
   "cell_type": "code",
   "execution_count": null,
   "metadata": {
    "id": "6gnj0Vut2ADJ"
   },
   "outputs": [],
   "source": [
    "speeddating._________"
   ]
  },
  {
   "cell_type": "markdown",
   "metadata": {
    "id": "7SyDpqij2ADO"
   },
   "source": [
    "## 8) Do patterns differ for matching pairs?"
   ]
  },
  {
   "cell_type": "markdown",
   "metadata": {
    "id": "1JhID3bmdau5"
   },
   "source": [
    "Select matching pairs first and then use the .groupby() method!"
   ]
  },
  {
   "cell_type": "code",
   "execution_count": null,
   "metadata": {
    "id": "qtqPwUD42ADO"
   },
   "outputs": [],
   "source": [
    "speeddating.loc[speeddating[\"match\"]==1].groupby(_________)[\"sincere\"].mean()"
   ]
  },
  {
   "cell_type": "code",
   "execution_count": null,
   "metadata": {
    "id": "MqShyS2C2ADS"
   },
   "outputs": [],
   "source": [
    "speeddating._________"
   ]
  },
  {
   "cell_type": "code",
   "execution_count": null,
   "metadata": {
    "id": "hGxRJpaQ2ADV"
   },
   "outputs": [],
   "source": [
    "speeddating._________"
   ]
  },
  {
   "cell_type": "code",
   "execution_count": null,
   "metadata": {
    "id": "bd0dZI122ADY"
   },
   "outputs": [],
   "source": [
    "speeddating._________"
   ]
  },
  {
   "cell_type": "markdown",
   "metadata": {
    "id": "3cpxWzSY2ADc"
   },
   "source": [
    "## 9)\tWhat is the sum of all points given away from men and women? "
   ]
  },
  {
   "cell_type": "markdown",
   "metadata": {
    "id": "OE7otDhFdofK"
   },
   "source": [
    "Create a new variable \"total_points\" in which you sum up the points for the four traits (e.g, sincere, attractive, etc.)? What can you observe? Does this offer an alternative explanation for the results?"
   ]
  },
  {
   "cell_type": "code",
   "execution_count": null,
   "metadata": {
    "id": "waCqjUh62ADd"
   },
   "outputs": [],
   "source": [
    "speeddating[\"total_points\"] = speeddating[\"sincere\"] + speeddating[\"intelligent\"] + _________  + _________\n",
    "speeddating.groupby(\"gender\")[\"total_points\"]._________"
   ]
  },
  {
   "cell_type": "markdown",
   "metadata": {
    "id": "aMn3ijZq2ADq"
   },
   "source": [
    "## 10) Create a bar plot with which you compare gender differences in being \"attractive\" and \"intelligent\""
   ]
  },
  {
   "cell_type": "markdown",
   "metadata": {
    "id": "qtyx5mJzdts8"
   },
   "source": [
    "We did not cover that extensively in class but plotting is quite easy. Check the video tutorial from the pandas handson!"
   ]
  },
  {
   "cell_type": "code",
   "execution_count": null,
   "metadata": {
    "colab": {
     "base_uri": "https://localhost:8080/",
     "height": 293
    },
    "executionInfo": {
     "elapsed": 561,
     "status": "ok",
     "timestamp": 1583229843389,
     "user": {
      "displayName": "Ivo Blohm",
      "photoUrl": "",
      "userId": "03588522102684867783"
     },
     "user_tz": -60
    },
    "id": "Ozq5AerI2ADr",
    "outputId": "784052d7-b5e1-4eec-892c-e869d6a37089"
   },
   "outputs": [],
   "source": [
    "speeddating.groupby(\"gender\")[\"attractive\"].mean().plot(kind=\"bar\", x=\"gender\",y=\"attractive\")"
   ]
  },
  {
   "cell_type": "code",
   "execution_count": null,
   "metadata": {
    "colab": {
     "base_uri": "https://localhost:8080/",
     "height": 293
    },
    "executionInfo": {
     "elapsed": 521,
     "status": "ok",
     "timestamp": 1583229845740,
     "user": {
      "displayName": "Ivo Blohm",
      "photoUrl": "",
      "userId": "03588522102684867783"
     },
     "user_tz": -60
    },
    "id": "B2ot5b5m2ADv",
    "outputId": "f1236c32-1083-4706-c9fd-5ea9d567da03"
   },
   "outputs": [],
   "source": [
    "speeddating.groupby(\"gender\")[\"intelligent\"].mean().plot(kind=\"bar\", x=\"gender\",y=_________)"
   ]
  },
  {
   "cell_type": "markdown",
   "metadata": {
    "id": "Um4w12mD2ADy"
   },
   "source": [
    "## 11) Create a scatterplot with you check correlation between being rated as \"intelligent\" and \"attractive\". How would you interpret results?"
   ]
  },
  {
   "cell_type": "markdown",
   "metadata": {
    "id": "ZDHbEG0UeBiH"
   },
   "source": [
    "change the plot type to \"scatter\" and enter the right variables"
   ]
  },
  {
   "cell_type": "code",
   "execution_count": null,
   "metadata": {
    "id": "Z-qdD2xhhZ5Y"
   },
   "outputs": [],
   "source": [
    "speeddating.plot(kind=\"scatter\", x=\"attractive\",y=_________)"
   ]
  },
  {
   "cell_type": "markdown",
   "metadata": {
    "id": "cHBMuAQv2AD2"
   },
   "source": [
    "## 12) Create a scatterplot with you check correlation between being rated as \"intelligent\" and \"fun\".  How would you interpret results?"
   ]
  },
  {
   "cell_type": "code",
   "execution_count": null,
   "metadata": {
    "id": "u_BkfZPj2AD3"
   },
   "outputs": [],
   "source": [
    "speeddating.plot(kind=_________, x=_________,y=_________)"
   ]
  }
 ],
 "metadata": {
  "colab": {
   "name": "Copy of Speeddating Solution.ipynb",
   "provenance": [],
   "toc_visible": true
  },
  "kernelspec": {
   "display_name": "Python 3 (ipykernel)",
   "language": "python",
   "name": "python3"
  },
  "language_info": {
   "codemirror_mode": {
    "name": "ipython",
    "version": 3
   },
   "file_extension": ".py",
   "mimetype": "text/x-python",
   "name": "python",
   "nbconvert_exporter": "python",
   "pygments_lexer": "ipython3",
   "version": "3.9.12"
  }
 },
 "nbformat": 4,
 "nbformat_minor": 1
}
