{
 "cells": [
  {
   "cell_type": "markdown",
   "metadata": {
    "id": "PSZ-R3mm2ACH"
   },
   "source": [
    "# Speed dating Solution"
   ]
  },
  {
   "cell_type": "markdown",
   "metadata": {
    "id": "h3NzvCiC2ACL"
   },
   "source": [
    "Speed dating is a an approach to find new partners. In each speed dating event, the maximum number of participants per gender is limited to seven to ten persons. During the event, each female participant gets to know each male participant and vice versa. In so doing, the speed dating event is conducted in rounds which last about seven to eight minutes. In this short time frame, the singles have the opportunity to chat and to make an impression of each other. After each round, participants note on a piece of paper whether they want to \"re-date\" their counterpart. Then, chat partners are changed. This procedure is repeated until each \"male-female-couples\" have been formed (Source: Wikipedia 2022)\n",
    "\n",
    "Fisman et al. (2006) have conducted an extensive experiment in order to determine which attributes are important to the \"love at the first sight\" (or within the first five minutes). \n",
    " \n",
    "Let's have a look at a small glimpse of their data!"
   ]
  },
  {
   "cell_type": "markdown",
   "metadata": {
    "id": "8BSpq2Xt2ACM"
   },
   "source": [
    "## Data description\n",
    "\n",
    "- gender: Female=0, Male=1\n",
    "- match: 1=yes, 0=no; Did the participants indicate that they want to see each other again?\n",
    "- wave: Experimental wave; Fishman et al. made many speeddating sessions (i.e., the first 20 participants participate in wave 1, the second 20 in wave 2, etc.) which are indicating by the “wave number” \n",
    "\n",
    "Participants were asked to indicate the individual importance of the factors of the other sex: \n",
    "\n",
    "- attr1_1: attractive (attr1_1)\n",
    "- sinc1_1: sincere (sinc1_1)\n",
    "- intel1_1: intelligent (intel1_1)\n",
    "- fun1_1: fun (fun1_1)\n",
    "\n",
    "Participants could allocate a total of 100 points to those attributes. They could distribute more points to factors that are more important in a potential date, and fewer points to those attributes that are less important in a potential date.  Total points must equal 100.\n"
   ]
  },
  {
   "cell_type": "markdown",
   "metadata": {
    "id": "o3KoZ70f2ACN"
   },
   "source": [
    "## 1) Read in the data set «speeddating.csv» with pandas and name the data frame «speeddating». How many instances and features are in the dataframe?"
   ]
  },
  {
   "cell_type": "code",
   "execution_count": null,
   "metadata": {
    "id": "KxJGSPCL2ACT",
    "outputId": "d9da3141-c321-4f25-e9b1-2378049edc1f"
   },
   "outputs": [],
   "source": [
    "import pandas as pd\n",
    "path = \"https://raw.githubusercontent.com/casbdai/notebooks2023/main/Module3/00_Onboarding/01_Speeddating/speeddating.csv\"\n",
    "speeddating = pd.read_csv(path, on_bad_lines='skip')\n",
    "speeddating.info()"
   ]
  },
  {
   "cell_type": "markdown",
   "metadata": {
    "id": "A2FX0ZLv2ACX"
   },
   "source": [
    "## 2) Rename the features into «attractive», «sincere», «intelligent» and «fun»"
   ]
  },
  {
   "cell_type": "markdown",
   "metadata": {
    "id": "JxorNpNj2ACY"
   },
   "source": [
    "We can rename variables in a dataframe in many different ways. An easy approach is using python dictionaries. Python dictionaries are another data structure (that we have covered only very superficially in class). They consist of two parts a \"key\" and a \"value\" that are stored with in a pair of {}. Key and values are seperated by a colon; multiple key-value-pairs are separated by a comma. \n",
    "\n",
    "Examples:"
   ]
  },
  {
   "cell_type": "code",
   "execution_count": null,
   "metadata": {
    "colab": {
     "base_uri": "https://localhost:8080/"
    },
    "executionInfo": {
     "elapsed": 223,
     "status": "ok",
     "timestamp": 1627363950822,
     "user": {
      "displayName": "Ivo Blohm",
      "photoUrl": "",
      "userId": "03588522102684867783"
     },
     "user_tz": -120
    },
    "id": "q58wPBOh2ACZ",
    "outputId": "3c39127c-8860-46df-f2b7-b2a029684780"
   },
   "outputs": [],
   "source": [
    "dict = {\"key\":\"value\", \"key2\": \"value2\"}\n",
    "dict"
   ]
  },
  {
   "cell_type": "code",
   "execution_count": null,
   "metadata": {
    "colab": {
     "base_uri": "https://localhost:8080/"
    },
    "executionInfo": {
     "elapsed": 222,
     "status": "ok",
     "timestamp": 1627363952684,
     "user": {
      "displayName": "Ivo Blohm",
      "photoUrl": "",
      "userId": "03588522102684867783"
     },
     "user_tz": -120
    },
    "id": "Mnp5UDD42ACe",
    "outputId": "3f17a341-872f-44b1-d726-8ef838f69d54"
   },
   "outputs": [],
   "source": [
    "dict = {\"key\":2, \"key2\": 34}\n",
    "dict"
   ]
  },
  {
   "cell_type": "markdown",
   "metadata": {
    "id": "YkwDBPBR2ACh"
   },
   "source": [
    "For renaming variables, we can call the .rename() method on the dataframe. The keys are the old variable names, the values the new ones."
   ]
  },
  {
   "cell_type": "code",
   "execution_count": null,
   "metadata": {
    "colab": {
     "base_uri": "https://localhost:8080/"
    },
    "executionInfo": {
     "elapsed": 210,
     "status": "ok",
     "timestamp": 1627363957842,
     "user": {
      "displayName": "Ivo Blohm",
      "photoUrl": "",
      "userId": "03588522102684867783"
     },
     "user_tz": -120
    },
    "id": "SCV4QReg2ACi",
    "outputId": "dbe7cba1-75c9-41be-e5d7-fb6a81d46371"
   },
   "outputs": [],
   "source": [
    "speeddating = speeddating.rename(columns={\"attr1_1\":\"attractive\",\n",
    "                                          \"sinc1_1\":\"sincere\",\n",
    "                                          \"intel1_1\":\"intelligent\",\n",
    "                                          \"fun1_1\":\"fun\"})\n",
    "speeddating.info()"
   ]
  },
  {
   "cell_type": "markdown",
   "metadata": {
    "id": "ne12cpE32ACl"
   },
   "source": [
    "## 3) How many dates did match? What is the maximum of the feature «attractive»?"
   ]
  },
  {
   "cell_type": "code",
   "execution_count": null,
   "metadata": {
    "colab": {
     "base_uri": "https://localhost:8080/"
    },
    "executionInfo": {
     "elapsed": 206,
     "status": "ok",
     "timestamp": 1627363965057,
     "user": {
      "displayName": "Ivo Blohm",
      "photoUrl": "",
      "userId": "03588522102684867783"
     },
     "user_tz": -120
    },
    "id": "QixZGtwh2ACm",
    "outputId": "a1c08ad0-e8f6-4f55-f5f0-09e24e2ce173"
   },
   "outputs": [],
   "source": [
    "speeddating.loc[speeddating[\"match\"]==1].info()"
   ]
  },
  {
   "cell_type": "markdown",
   "metadata": {
    "id": "xk6dYKdqc6hO"
   },
   "source": [
    "A total of 1363 men and women have matched!"
   ]
  },
  {
   "cell_type": "markdown",
   "metadata": {
    "id": "-n1u4P9F2ACq"
   },
   "source": [
    "## 4) Create three «subsets» and save the results as new datafames. The singe subsets shall contain the following «waves»:\n",
    "\n",
    "- Subset 1: data for waves 1 to 5\n",
    "- Subset 2: data for waves 6 to 9\n",
    "- Subset 3: data for waves 10 bis 21"
   ]
  },
  {
   "cell_type": "code",
   "execution_count": null,
   "metadata": {
    "id": "yZaUnJF42ACr"
   },
   "outputs": [],
   "source": [
    "speeddating_1to5 = speeddating.loc[(speeddating[\"wave\"] >= 1) & (speeddating[\"wave\"] <= 5)]\n",
    "speeddating_6to9 = speeddating.loc[(speeddating[\"wave\"] >= 6) & (speeddating[\"wave\"] <= 9)]\n",
    "speeddating_10to21 = speeddating.loc[(speeddating[\"wave\"] >= 10) & (speeddating[\"wave\"] <= 21)]"
   ]
  },
  {
   "cell_type": "markdown",
   "metadata": {
    "id": "5DXyuMTG2ACv"
   },
   "source": [
    "## 5)\tCheck whether the subsetting was sucessful and have a low at the number of instances in the newly created dataframes"
   ]
  },
  {
   "cell_type": "code",
   "execution_count": null,
   "metadata": {
    "colab": {
     "base_uri": "https://localhost:8080/"
    },
    "executionInfo": {
     "elapsed": 213,
     "status": "ok",
     "timestamp": 1627364026893,
     "user": {
      "displayName": "Ivo Blohm",
      "photoUrl": "",
      "userId": "03588522102684867783"
     },
     "user_tz": -120
    },
    "id": "byf-S3pj2ACw",
    "outputId": "935c7cd3-e334-4f45-c179-328ffa2514e9"
   },
   "outputs": [],
   "source": [
    "speeddating_1to5.count()"
   ]
  },
  {
   "cell_type": "code",
   "execution_count": null,
   "metadata": {
    "colab": {
     "base_uri": "https://localhost:8080/"
    },
    "executionInfo": {
     "elapsed": 219,
     "status": "ok",
     "timestamp": 1627364030393,
     "user": {
      "displayName": "Ivo Blohm",
      "photoUrl": "",
      "userId": "03588522102684867783"
     },
     "user_tz": -120
    },
    "id": "S90ZSwaY2ACz",
    "outputId": "41ccd11d-213b-4dac-f1de-697f09b4da75"
   },
   "outputs": [],
   "source": [
    "speeddating_6to9.count()"
   ]
  },
  {
   "cell_type": "code",
   "execution_count": null,
   "metadata": {
    "colab": {
     "base_uri": "https://localhost:8080/"
    },
    "executionInfo": {
     "elapsed": 4,
     "status": "ok",
     "timestamp": 1627364032450,
     "user": {
      "displayName": "Ivo Blohm",
      "photoUrl": "",
      "userId": "03588522102684867783"
     },
     "user_tz": -120
    },
    "id": "JcBEMuMm2AC2",
    "outputId": "e9fcdd88-9ea9-4414-c681-27e2a9daed38"
   },
   "outputs": [],
   "source": [
    "speeddating_10to21.count()"
   ]
  },
  {
   "cell_type": "markdown",
   "metadata": {
    "id": "yxqW5S7XewM7"
   },
   "source": [
    "the .info() method would work as well"
   ]
  },
  {
   "cell_type": "markdown",
   "metadata": {
    "id": "j9zlGokg2AC5"
   },
   "source": [
    "## 6)\tMerge the first and the third dataframe (i.e., the dataframes for wafe 1 to 5 and for waves 10 to 21)\n"
   ]
  },
  {
   "cell_type": "code",
   "execution_count": null,
   "metadata": {
    "colab": {
     "base_uri": "https://localhost:8080/"
    },
    "executionInfo": {
     "elapsed": 217,
     "status": "ok",
     "timestamp": 1627364038179,
     "user": {
      "displayName": "Ivo Blohm",
      "photoUrl": "",
      "userId": "03588522102684867783"
     },
     "user_tz": -120
    },
    "id": "dV18fPu12AC6",
    "outputId": "20388db4-cd1d-4b72-b627-276e9df718e2"
   },
   "outputs": [],
   "source": [
    "merged_speeddating=pd.concat([speeddating_1to5, speeddating_10to21], axis=0)\n",
    "merged_speeddating.info()"
   ]
  },
  {
   "cell_type": "markdown",
   "metadata": {
    "id": "mNFinR342AC_"
   },
   "source": [
    "## 7) What are the most important attributes for men and women? "
   ]
  },
  {
   "cell_type": "markdown",
   "metadata": {
    "id": "FZdf8R_RdQTA"
   },
   "source": [
    "Use the .groupby() method to compare men and women!"
   ]
  },
  {
   "cell_type": "code",
   "execution_count": null,
   "metadata": {
    "colab": {
     "base_uri": "https://localhost:8080/"
    },
    "executionInfo": {
     "elapsed": 218,
     "status": "ok",
     "timestamp": 1627364042381,
     "user": {
      "displayName": "Ivo Blohm",
      "photoUrl": "",
      "userId": "03588522102684867783"
     },
     "user_tz": -120
    },
    "id": "PwPqHBj12ADA",
    "outputId": "a8f711df-3ba3-480a-faa2-df400d209709"
   },
   "outputs": [],
   "source": [
    "speeddating.groupby(\"gender\")[\"sincere\"].mean()"
   ]
  },
  {
   "cell_type": "code",
   "execution_count": null,
   "metadata": {
    "colab": {
     "base_uri": "https://localhost:8080/"
    },
    "executionInfo": {
     "elapsed": 227,
     "status": "ok",
     "timestamp": 1627364046250,
     "user": {
      "displayName": "Ivo Blohm",
      "photoUrl": "",
      "userId": "03588522102684867783"
     },
     "user_tz": -120
    },
    "id": "_P5Tus-w2ADD",
    "outputId": "c362f96c-9044-4477-d816-892f3fdb5687"
   },
   "outputs": [],
   "source": [
    "speeddating.groupby(\"gender\")[\"attractive\"].mean()"
   ]
  },
  {
   "cell_type": "code",
   "execution_count": null,
   "metadata": {
    "colab": {
     "base_uri": "https://localhost:8080/"
    },
    "executionInfo": {
     "elapsed": 235,
     "status": "ok",
     "timestamp": 1627364049885,
     "user": {
      "displayName": "Ivo Blohm",
      "photoUrl": "",
      "userId": "03588522102684867783"
     },
     "user_tz": -120
    },
    "id": "wrnaXA9f2ADG",
    "outputId": "be691535-8d3b-4ea0-f57f-a7aefa6b2671"
   },
   "outputs": [],
   "source": [
    "speeddating.groupby(\"gender\")[\"intelligent\"].mean()"
   ]
  },
  {
   "cell_type": "code",
   "execution_count": null,
   "metadata": {
    "colab": {
     "base_uri": "https://localhost:8080/"
    },
    "executionInfo": {
     "elapsed": 226,
     "status": "ok",
     "timestamp": 1627364052090,
     "user": {
      "displayName": "Ivo Blohm",
      "photoUrl": "",
      "userId": "03588522102684867783"
     },
     "user_tz": -120
    },
    "id": "6gnj0Vut2ADJ",
    "outputId": "226a54b5-7a4d-447c-e334-298098276f16"
   },
   "outputs": [],
   "source": [
    "speeddating.groupby(\"gender\")[\"fun\"].mean()"
   ]
  },
  {
   "cell_type": "markdown",
   "metadata": {
    "id": "ZGOLMv-Q2ADN"
   },
   "source": [
    "For men, attractiness seems to be most important, for women being sincere and intelligent. Which surprise."
   ]
  },
  {
   "cell_type": "markdown",
   "metadata": {
    "id": "7SyDpqij2ADO"
   },
   "source": [
    "## 8) Do patterns differ for matching pairs?"
   ]
  },
  {
   "cell_type": "markdown",
   "metadata": {
    "id": "1JhID3bmdau5"
   },
   "source": [
    "Select matching pairs first and then use the .groupby() method!"
   ]
  },
  {
   "cell_type": "code",
   "execution_count": null,
   "metadata": {
    "colab": {
     "base_uri": "https://localhost:8080/"
    },
    "executionInfo": {
     "elapsed": 222,
     "status": "ok",
     "timestamp": 1627364142568,
     "user": {
      "displayName": "Ivo Blohm",
      "photoUrl": "",
      "userId": "03588522102684867783"
     },
     "user_tz": -120
    },
    "id": "qtqPwUD42ADO",
    "outputId": "0837cbf1-6a4c-408d-9ab4-bef0e311f4fd"
   },
   "outputs": [],
   "source": [
    "speeddating.loc[speeddating[\"match\"]==1].groupby(\"gender\")[\"sincere\"].mean()"
   ]
  },
  {
   "cell_type": "code",
   "execution_count": null,
   "metadata": {
    "colab": {
     "base_uri": "https://localhost:8080/"
    },
    "executionInfo": {
     "elapsed": 195,
     "status": "ok",
     "timestamp": 1627364140917,
     "user": {
      "displayName": "Ivo Blohm",
      "photoUrl": "",
      "userId": "03588522102684867783"
     },
     "user_tz": -120
    },
    "id": "MqShyS2C2ADS",
    "outputId": "9d143b9f-24d6-40f3-bc80-12dbdd14ba61"
   },
   "outputs": [],
   "source": [
    "speeddating.loc[speeddating[\"match\"]==1].groupby(\"gender\")[\"intelligent\"].mean()"
   ]
  },
  {
   "cell_type": "code",
   "execution_count": null,
   "metadata": {
    "colab": {
     "base_uri": "https://localhost:8080/"
    },
    "executionInfo": {
     "elapsed": 239,
     "status": "ok",
     "timestamp": 1627364144268,
     "user": {
      "displayName": "Ivo Blohm",
      "photoUrl": "",
      "userId": "03588522102684867783"
     },
     "user_tz": -120
    },
    "id": "hGxRJpaQ2ADV",
    "outputId": "e54714fd-648f-41e4-9deb-31d988f26db0"
   },
   "outputs": [],
   "source": [
    "speeddating.loc[speeddating[\"match\"]==1].groupby(\"gender\")[\"attractive\"].mean()"
   ]
  },
  {
   "cell_type": "code",
   "execution_count": null,
   "metadata": {
    "colab": {
     "base_uri": "https://localhost:8080/"
    },
    "executionInfo": {
     "elapsed": 4,
     "status": "ok",
     "timestamp": 1627364145422,
     "user": {
      "displayName": "Ivo Blohm",
      "photoUrl": "",
      "userId": "03588522102684867783"
     },
     "user_tz": -120
    },
    "id": "bd0dZI122ADY",
    "outputId": "e275f027-9f54-49b6-83a2-b06ac8c03281"
   },
   "outputs": [],
   "source": [
    "speeddating.loc[speeddating[\"match\"]==1].groupby(\"gender\")[\"fun\"].mean()"
   ]
  },
  {
   "cell_type": "markdown",
   "metadata": {
    "id": "k5X8UjUZ2ADb"
   },
   "source": [
    "No, for matching pairs do not generally change. If at all, the observed differences become more salient and stronger."
   ]
  },
  {
   "cell_type": "markdown",
   "metadata": {
    "id": "3cpxWzSY2ADc"
   },
   "source": [
    "## 9)\tWhat is the sum of all points given away from men and women? "
   ]
  },
  {
   "cell_type": "markdown",
   "metadata": {
    "id": "OE7otDhFdofK"
   },
   "source": [
    "Create a new variable \"total_points\" in which you sum up the points for the four traits (e.g, sincere, attractive, etc.)? What can you observe? Does this offer an alternative explanation for the results?"
   ]
  },
  {
   "cell_type": "code",
   "execution_count": null,
   "metadata": {
    "colab": {
     "base_uri": "https://localhost:8080/"
    },
    "executionInfo": {
     "elapsed": 247,
     "status": "ok",
     "timestamp": 1627364171416,
     "user": {
      "displayName": "Ivo Blohm",
      "photoUrl": "",
      "userId": "03588522102684867783"
     },
     "user_tz": -120
    },
    "id": "waCqjUh62ADd",
    "outputId": "064aebed-1621-42a7-87fd-d3dbfc9e6171"
   },
   "outputs": [],
   "source": [
    "speeddating[\"total_points\"] = speeddating[\"sincere\"] + speeddating[\"intelligent\"] + speeddating[\"attractive\"]  + speeddating[\"fun\"]\n",
    "speeddating.groupby(\"gender\")[\"total_points\"].sum()"
   ]
  },
  {
   "cell_type": "markdown",
   "metadata": {
    "id": "5ugp58Rk2ADg"
   },
   "source": [
    "Men give away more points than women. This, might reflect an alternative interpretation of the results\n",
    "\n",
    "Beyond the scope of the question: We can attack that by an additional analyses. This, is particularly the case for attractiveness:"
   ]
  },
  {
   "cell_type": "code",
   "execution_count": null,
   "metadata": {
    "colab": {
     "base_uri": "https://localhost:8080/"
    },
    "executionInfo": {
     "elapsed": 204,
     "status": "ok",
     "timestamp": 1627364175925,
     "user": {
      "displayName": "Ivo Blohm",
      "photoUrl": "",
      "userId": "03588522102684867783"
     },
     "user_tz": -120
    },
    "id": "L0aZ8NIv2ADh",
    "outputId": "66131694-b244-4cd0-dbcc-621b718441e1"
   },
   "outputs": [],
   "source": [
    "speeddating.groupby(\"gender\")[\"attractive\"].sum()"
   ]
  },
  {
   "cell_type": "markdown",
   "metadata": {
    "id": "aMn3ijZq2ADq"
   },
   "source": [
    "## 10) Create a bar plot with which you compare gender differences in being \"attractive\" and \"intelligent\""
   ]
  },
  {
   "cell_type": "markdown",
   "metadata": {
    "id": "qtyx5mJzdts8"
   },
   "source": [
    "We did not cover that extensively in class but plotting is quite easy. Check the video tutorial from the pandas handson!"
   ]
  },
  {
   "cell_type": "code",
   "execution_count": null,
   "metadata": {
    "colab": {
     "base_uri": "https://localhost:8080/",
     "height": 293
    },
    "executionInfo": {
     "elapsed": 561,
     "status": "ok",
     "timestamp": 1583229843389,
     "user": {
      "displayName": "Ivo Blohm",
      "photoUrl": "",
      "userId": "03588522102684867783"
     },
     "user_tz": -60
    },
    "id": "Ozq5AerI2ADr",
    "outputId": "784052d7-b5e1-4eec-892c-e869d6a37089"
   },
   "outputs": [],
   "source": [
    "speeddating.groupby(\"gender\")[\"attractive\"].mean().plot(kind=\"bar\", x=\"gender\",y=\"attractive\")"
   ]
  },
  {
   "cell_type": "code",
   "execution_count": null,
   "metadata": {
    "colab": {
     "base_uri": "https://localhost:8080/",
     "height": 293
    },
    "executionInfo": {
     "elapsed": 521,
     "status": "ok",
     "timestamp": 1583229845740,
     "user": {
      "displayName": "Ivo Blohm",
      "photoUrl": "",
      "userId": "03588522102684867783"
     },
     "user_tz": -60
    },
    "id": "B2ot5b5m2ADv",
    "outputId": "f1236c32-1083-4706-c9fd-5ea9d567da03"
   },
   "outputs": [],
   "source": [
    "speeddating.groupby(\"gender\")[\"intelligent\"].mean().plot(kind=\"bar\", x=\"gender\",y=\"intelligent\")"
   ]
  },
  {
   "cell_type": "markdown",
   "metadata": {
    "id": "Um4w12mD2ADy"
   },
   "source": [
    "## 11) Create a scatterplot with you check correlation between being rated as \"intelligent\" and \"attractive\". How would you interpret results?"
   ]
  },
  {
   "cell_type": "markdown",
   "metadata": {
    "id": "ZDHbEG0UeBiH"
   },
   "source": [
    "change the plot type to \"scatter\" and enter the right variables"
   ]
  },
  {
   "cell_type": "code",
   "execution_count": null,
   "metadata": {
    "colab": {
     "base_uri": "https://localhost:8080/",
     "height": 296
    },
    "executionInfo": {
     "elapsed": 737,
     "status": "ok",
     "timestamp": 1583229848143,
     "user": {
      "displayName": "Ivo Blohm",
      "photoUrl": "",
      "userId": "03588522102684867783"
     },
     "user_tz": -60
    },
    "id": "MCOjqQrq2ADy",
    "outputId": "370754a8-a45c-4432-e2de-8cb50f32fbee"
   },
   "outputs": [],
   "source": [
    "speeddating.plot(kind=\"scatter\", x=\"attractive\",y=\"intelligent\")"
   ]
  },
  {
   "cell_type": "markdown",
   "metadata": {
    "id": "Bwe0qskd2AD2"
   },
   "source": [
    "Oh, there seems to be a slight negative correlation between intelligence and attractiveness. The higher intelligence the lower attractiveness... "
   ]
  },
  {
   "cell_type": "markdown",
   "metadata": {
    "id": "cHBMuAQv2AD2"
   },
   "source": [
    "## 12) Create a scatterplot with you check correlation between being rated as \"intelligent\" and \"fun\".  How would you interpret results?"
   ]
  },
  {
   "cell_type": "code",
   "execution_count": null,
   "metadata": {
    "colab": {
     "base_uri": "https://localhost:8080/",
     "height": 296
    },
    "executionInfo": {
     "elapsed": 722,
     "status": "ok",
     "timestamp": 1583229851815,
     "user": {
      "displayName": "Ivo Blohm",
      "photoUrl": "",
      "userId": "03588522102684867783"
     },
     "user_tz": -60
    },
    "id": "u_BkfZPj2AD3",
    "outputId": "ff49e013-2836-4df7-ffcf-b317262d6810"
   },
   "outputs": [],
   "source": [
    "speeddating.plot(kind=\"scatter\", x=\"fun\",y=\"intelligent\")"
   ]
  },
  {
   "cell_type": "markdown",
   "metadata": {
    "id": "e2aLEYol2AD7"
   },
   "source": [
    "Ok, intelligent people seem to be funnier :)"
   ]
  }
 ],
 "metadata": {
  "colab": {
   "name": "Speeddating Solution.ipynb",
   "provenance": [],
   "toc_visible": true
  },
  "kernelspec": {
   "display_name": "Python 3 (ipykernel)",
   "language": "python",
   "name": "python3"
  },
  "language_info": {
   "codemirror_mode": {
    "name": "ipython",
    "version": 3
   },
   "file_extension": ".py",
   "mimetype": "text/x-python",
   "name": "python",
   "nbconvert_exporter": "python",
   "pygments_lexer": "ipython3",
   "version": "3.9.10"
  }
 },
 "nbformat": 4,
 "nbformat_minor": 1
}
