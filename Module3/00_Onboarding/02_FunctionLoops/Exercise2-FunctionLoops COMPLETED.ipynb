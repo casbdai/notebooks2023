{
 "cells": [
  {
   "cell_type": "markdown",
   "metadata": {
    "id": "WdG9h_laCH81"
   },
   "source": [
    "# Assignment 2"
   ]
  },
  {
   "cell_type": "markdown",
   "metadata": {
    "id": "5mFXaMfJCMHb"
   },
   "source": [
    "In the next module, we will  use two central programming concepts: functions and for-loops. \n",
    "\n",
    "We also did use them in the previous sessions, but it is good to re-familiarize with them, because they allow us to re-use the same code again and again (while our notebook remains tidy)"
   ]
  },
  {
   "cell_type": "markdown",
   "metadata": {
    "id": "zaSMpr89Cp6S"
   },
   "source": [
    "## Functions"
   ]
  },
  {
   "cell_type": "markdown",
   "metadata": {
    "id": "WsNdNlLjJV89"
   },
   "source": [
    "### Importing Functions"
   ]
  },
  {
   "cell_type": "markdown",
   "metadata": {
    "id": "A7SMgNMsE3hS"
   },
   "source": [
    "When we import a library such as pandas, we are basically import a series of functions that we can use for analyses\n",
    "\n",
    "A famous package is numpy that allows us to import many mathematical functions. For instance here we import the function sqrt that takes the square root of a number"
   ]
  },
  {
   "cell_type": "code",
   "execution_count": null,
   "metadata": {
    "executionInfo": {
     "elapsed": 215,
     "status": "ok",
     "timestamp": 1627375526334,
     "user": {
      "displayName": "Ivo Blohm",
      "photoUrl": "",
      "userId": "03588522102684867783"
     },
     "user_tz": -120
    },
    "id": "Z3WMg2qyFEkw"
   },
   "outputs": [],
   "source": [
    "from numpy import sqrt"
   ]
  },
  {
   "cell_type": "markdown",
   "metadata": {
    "id": "eQnpeEqLCs2X"
   },
   "source": [
    "we can now use that function"
   ]
  },
  {
   "cell_type": "code",
   "execution_count": null,
   "metadata": {
    "colab": {
     "base_uri": "https://localhost:8080/"
    },
    "executionInfo": {
     "elapsed": 8,
     "status": "ok",
     "timestamp": 1627375528140,
     "user": {
      "displayName": "Ivo Blohm",
      "photoUrl": "",
      "userId": "03588522102684867783"
     },
     "user_tz": -120
    },
    "id": "Xhxpci7GITFL",
    "outputId": "522e2e7c-34c7-4ec9-8c33-95ee73f3d7b8"
   },
   "outputs": [],
   "source": [
    "sqrt(16)"
   ]
  },
  {
   "cell_type": "markdown",
   "metadata": {
    "id": "P5CM7p_zIc0-"
   },
   "source": [
    "Very frequently, we are import entire libraries that can then be assesed with an alias name. In the following example we import the library **numpy ** with the alias **np**"
   ]
  },
  {
   "cell_type": "code",
   "execution_count": null,
   "metadata": {
    "executionInfo": {
     "elapsed": 224,
     "status": "ok",
     "timestamp": 1627375530834,
     "user": {
      "displayName": "Ivo Blohm",
      "photoUrl": "",
      "userId": "03588522102684867783"
     },
     "user_tz": -120
    },
    "id": "z7zAbVmNIWVg"
   },
   "outputs": [],
   "source": [
    "import numpy as np"
   ]
  },
  {
   "cell_type": "markdown",
   "metadata": {
    "id": "wRRumEMcI1t5"
   },
   "source": [
    "We can then access the functions of that library in the following way:"
   ]
  },
  {
   "cell_type": "code",
   "execution_count": null,
   "metadata": {
    "colab": {
     "base_uri": "https://localhost:8080/"
    },
    "executionInfo": {
     "elapsed": 217,
     "status": "ok",
     "timestamp": 1627375533582,
     "user": {
      "displayName": "Ivo Blohm",
      "photoUrl": "",
      "userId": "03588522102684867783"
     },
     "user_tz": -120
    },
    "id": "2_oAXsKiIy-G",
    "outputId": "91754ff1-c83f-45cb-d950-11e116e9f4b5"
   },
   "outputs": [],
   "source": [
    "np.sqrt(16)"
   ]
  },
  {
   "cell_type": "markdown",
   "metadata": {
    "id": "YONfW2L0JBS_"
   },
   "source": [
    "Both ways are equivalent. In the first example, we only import a specific function sqrt() from the package numpy. In the second example, we import the entire numpy library (with all its functions)"
   ]
  },
  {
   "cell_type": "markdown",
   "metadata": {
    "id": "wZPgIHajJbcj"
   },
   "source": [
    "### Wring own functions"
   ]
  },
  {
   "cell_type": "markdown",
   "metadata": {
    "id": "WKuUrzlhFJoU"
   },
   "source": [
    "Besides, we can write our own functions. A function can be easily defined in the following way:"
   ]
  },
  {
   "cell_type": "markdown",
   "metadata": {
    "id": "ZsoX1R0mJdxJ"
   },
   "source": []
  },
  {
   "cell_type": "code",
   "execution_count": null,
   "metadata": {
    "executionInfo": {
     "elapsed": 206,
     "status": "ok",
     "timestamp": 1627377268413,
     "user": {
      "displayName": "Ivo Blohm",
      "photoUrl": "",
      "userId": "03588522102684867783"
     },
     "user_tz": -120
    },
    "id": "uN9kgelFC04e"
   },
   "outputs": [],
   "source": [
    "def my_function(argument1, argument2):\n",
    "  sum = argument1 + argument2\n",
    "  return sum"
   ]
  },
  {
   "cell_type": "markdown",
   "metadata": {
    "id": "SyQhXuSJDjSc"
   },
   "source": [
    "- **def** indicates python that we are going to define a function\n",
    "- **my_function** is the function name with which we can use the function\n",
    "- parentheses **()** indicate arguments; values that we can pass as inputs into the function \n",
    "- **return** reflects the value that is returned after the calculation"
   ]
  },
  {
   "cell_type": "markdown",
   "metadata": {
    "id": "-tGvE5iDFcdK"
   },
   "source": [
    "Now, we can add up two numbers with **my_function**"
   ]
  },
  {
   "cell_type": "code",
   "execution_count": null,
   "metadata": {
    "colab": {
     "base_uri": "https://localhost:8080/"
    },
    "executionInfo": {
     "elapsed": 241,
     "status": "ok",
     "timestamp": 1627377271074,
     "user": {
      "displayName": "Ivo Blohm",
      "photoUrl": "",
      "userId": "03588522102684867783"
     },
     "user_tz": -120
    },
    "id": "2LBR8KdPC-G5",
    "outputId": "4b5632d9-de86-4518-fa9c-85989f1b37c4"
   },
   "outputs": [],
   "source": [
    "my_function(3, 4)"
   ]
  },
  {
   "cell_type": "code",
   "execution_count": null,
   "metadata": {
    "colab": {
     "base_uri": "https://localhost:8080/"
    },
    "executionInfo": {
     "elapsed": 208,
     "status": "ok",
     "timestamp": 1627377273566,
     "user": {
      "displayName": "Ivo Blohm",
      "photoUrl": "",
      "userId": "03588522102684867783"
     },
     "user_tz": -120
    },
    "id": "zmuwxfCaFkyM",
    "outputId": "7830972b-8dc4-47ee-d169-bd4cb1561564"
   },
   "outputs": [],
   "source": [
    "my_function(4, 2)"
   ]
  },
  {
   "cell_type": "markdown",
   "metadata": {
    "id": "n_x6SN5xFp9-"
   },
   "source": [
    "Of course, we can define functions that contain many steps or perform an entire analysis"
   ]
  },
  {
   "cell_type": "code",
   "execution_count": null,
   "metadata": {
    "executionInfo": {
     "elapsed": 218,
     "status": "ok",
     "timestamp": 1627377275381,
     "user": {
      "displayName": "Ivo Blohm",
      "photoUrl": "",
      "userId": "03588522102684867783"
     },
     "user_tz": -120
    },
    "id": "epRrAgsjF23I"
   },
   "outputs": [],
   "source": [
    "def my_function(argument1, argument2):\n",
    "  sum = argument1 + argument2\n",
    "  product = argument1 * argument2\n",
    "  result = sum / product\n",
    "  return result"
   ]
  },
  {
   "cell_type": "code",
   "execution_count": null,
   "metadata": {
    "colab": {
     "base_uri": "https://localhost:8080/"
    },
    "executionInfo": {
     "elapsed": 213,
     "status": "ok",
     "timestamp": 1627377277956,
     "user": {
      "displayName": "Ivo Blohm",
      "photoUrl": "",
      "userId": "03588522102684867783"
     },
     "user_tz": -120
    },
    "id": "HeHJrbx5GdJU",
    "outputId": "0376eb13-efac-4833-fa58-95ebc78ca1ed"
   },
   "outputs": [],
   "source": [
    "my_function(4, 2)"
   ]
  },
  {
   "cell_type": "markdown",
   "metadata": {
    "id": "W7m92rksMgwE"
   },
   "source": [
    "Please create a formala that calculates c in the Pythagorean Theorem: \n",
    "\n",
    "![PythagoreanTheoremFigure_1000.gif](data:image/gif;base64,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)\n",
    "\n",
    "Do not forget to import a function for calculating the square root"
   ]
  },
  {
   "cell_type": "code",
   "execution_count": null,
   "metadata": {
    "executionInfo": {
     "elapsed": 265,
     "status": "ok",
     "timestamp": 1627377282442,
     "user": {
      "displayName": "Ivo Blohm",
      "photoUrl": "",
      "userId": "03588522102684867783"
     },
     "user_tz": -120
    },
    "id": "hje11RsKLNVu"
   },
   "outputs": [],
   "source": [
    "from numpy import sqrt\n",
    "def pythagoras(a,b):\n",
    "  c_2 = a*a + b*b\n",
    "  return sqrt(c_2)"
   ]
  },
  {
   "cell_type": "code",
   "execution_count": null,
   "metadata": {
    "colab": {
     "base_uri": "https://localhost:8080/"
    },
    "executionInfo": {
     "elapsed": 217,
     "status": "ok",
     "timestamp": 1627377283673,
     "user": {
      "displayName": "Ivo Blohm",
      "photoUrl": "",
      "userId": "03588522102684867783"
     },
     "user_tz": -120
    },
    "id": "7jApVeE3HngS",
    "outputId": "966ec7e8-9205-4814-e31a-f7116f5584f8"
   },
   "outputs": [],
   "source": [
    "pythagoras(3,3)"
   ]
  },
  {
   "cell_type": "markdown",
   "metadata": {
    "id": "kimXl85XRXfN"
   },
   "source": [
    "## For Loops"
   ]
  },
  {
   "cell_type": "markdown",
   "metadata": {
    "id": "kMgYn9iHRZTB"
   },
   "source": [
    "A for loop is used for iterating over a sequence of values, e.g., a python list.\n",
    "\n",
    "This means that we can repeat and automate the same tasks over and over again. Thus, it is a very powerful tool in data scientsts' toolbox.\n",
    "\n",
    "Let's make a small example. We create a python list that contains fruits: "
   ]
  },
  {
   "cell_type": "code",
   "execution_count": null,
   "metadata": {
    "executionInfo": {
     "elapsed": 230,
     "status": "ok",
     "timestamp": 1627378222911,
     "user": {
      "displayName": "Ivo Blohm",
      "photoUrl": "",
      "userId": "03588522102684867783"
     },
     "user_tz": -120
    },
    "id": "khCU-Ax6Ol7H"
   },
   "outputs": [],
   "source": [
    "fruits = [\"apple\", \"banana\", \"cherry\"]"
   ]
  },
  {
   "cell_type": "markdown",
   "metadata": {
    "id": "Wie0nNMXSTUV"
   },
   "source": [
    "A for loop takes each entry of the list and allows as to execute some action on it. In the following example, we just print out the different elements in the list:"
   ]
  },
  {
   "cell_type": "code",
   "execution_count": null,
   "metadata": {
    "colab": {
     "base_uri": "https://localhost:8080/"
    },
    "executionInfo": {
     "elapsed": 228,
     "status": "ok",
     "timestamp": 1627378298336,
     "user": {
      "displayName": "Ivo Blohm",
      "photoUrl": "",
      "userId": "03588522102684867783"
     },
     "user_tz": -120
    },
    "id": "Rf3zl9NuQGIi",
    "outputId": "f063815a-b065-408a-f5be-dfeda4a1dc73"
   },
   "outputs": [],
   "source": [
    "for fruit in fruits:\n",
    "  print(fruit)"
   ]
  },
  {
   "cell_type": "markdown",
   "metadata": {
    "id": "hGw9Z8_8Tkho"
   },
   "source": [
    "**fruit** is just a placeholder name that we are giving, we can basically give it any name. Also we can apply some manipulation to a fruits"
   ]
  },
  {
   "cell_type": "code",
   "execution_count": null,
   "metadata": {
    "colab": {
     "base_uri": "https://localhost:8080/"
    },
    "executionInfo": {
     "elapsed": 277,
     "status": "ok",
     "timestamp": 1627378392345,
     "user": {
      "displayName": "Ivo Blohm",
      "photoUrl": "",
      "userId": "03588522102684867783"
     },
     "user_tz": -120
    },
    "id": "nqUcswpxOxhK",
    "outputId": "4e54c711-9542-4cd1-e02e-55c4c78f1b31"
   },
   "outputs": [],
   "source": [
    "for x in fruits:\n",
    "  print(\"an \" + x + \" is good\")"
   ]
  },
  {
   "cell_type": "markdown",
   "metadata": {
    "id": "SwkZLmU3T7_X"
   },
   "source": [
    "The combination of functions and loops allows us to repeat a couple of actions with very little code. \n",
    "\n",
    "For instance, lets define a function that squares two numbers and apply it to a list of numbers"
   ]
  },
  {
   "cell_type": "code",
   "execution_count": null,
   "metadata": {
    "colab": {
     "base_uri": "https://localhost:8080/"
    },
    "executionInfo": {
     "elapsed": 245,
     "status": "ok",
     "timestamp": 1627377378761,
     "user": {
      "displayName": "Ivo Blohm",
      "photoUrl": "",
      "userId": "03588522102684867783"
     },
     "user_tz": -120
    },
    "id": "03J_8P-3PAbQ",
    "outputId": "f98abad5-74cb-4327-fbad-9f723e660d8d"
   },
   "outputs": [],
   "source": [
    "def square(a):\n",
    "  squared = a * a\n",
    "  return squared\n",
    "\n",
    "numbers = [1,2,3,4,5]\n",
    "\n",
    "for n in numbers:\n",
    "  print(square(n))"
   ]
  },
  {
   "cell_type": "markdown",
   "metadata": {
    "id": "NqK-VUfqQPfA"
   },
   "source": [
    "## 2) Practical Application"
   ]
  },
  {
   "cell_type": "markdown",
   "metadata": {
    "id": "1oz7pwqJUcn4"
   },
   "source": [
    "Define a List with the number 2, 3, 23, 113, and 212"
   ]
  },
  {
   "cell_type": "code",
   "execution_count": null,
   "metadata": {
    "colab": {
     "base_uri": "https://localhost:8080/"
    },
    "executionInfo": {
     "elapsed": 205,
     "status": "ok",
     "timestamp": 1627377592488,
     "user": {
      "displayName": "Ivo Blohm",
      "photoUrl": "",
      "userId": "03588522102684867783"
     },
     "user_tz": -120
    },
    "id": "t0ywTrzJQJuR",
    "outputId": "1b7862d6-02e8-4a3f-f8e1-d6110f062580"
   },
   "outputs": [],
   "source": [
    "numbers = [2,3,23,113,212]\n",
    "print(numbers)"
   ]
  },
  {
   "cell_type": "markdown",
   "metadata": {
    "id": "RU8qGprPQUVL"
   },
   "source": [
    "Define a function **add100** that adds 100 to an input value"
   ]
  },
  {
   "cell_type": "code",
   "execution_count": null,
   "metadata": {
    "colab": {
     "base_uri": "https://localhost:8080/"
    },
    "executionInfo": {
     "elapsed": 224,
     "status": "ok",
     "timestamp": 1627377656887,
     "user": {
      "displayName": "Ivo Blohm",
      "photoUrl": "",
      "userId": "03588522102684867783"
     },
     "user_tz": -120
    },
    "id": "MHDnVh6lQ4H8",
    "outputId": "fc16c0c5-7d83-49ea-a794-ebf6b038e22c"
   },
   "outputs": [],
   "source": [
    "def add100(a):\n",
    "  result = a + 100\n",
    "  return result\n",
    "\n",
    "add100(120)"
   ]
  },
  {
   "cell_type": "markdown",
   "metadata": {
    "id": "Uk2cgFTwQpiN"
   },
   "source": [
    "Loop over your list to apply to your add100() function"
   ]
  },
  {
   "cell_type": "code",
   "execution_count": null,
   "metadata": {
    "colab": {
     "base_uri": "https://localhost:8080/"
    },
    "executionInfo": {
     "elapsed": 267,
     "status": "ok",
     "timestamp": 1627377671278,
     "user": {
      "displayName": "Ivo Blohm",
      "photoUrl": "",
      "userId": "03588522102684867783"
     },
     "user_tz": -120
    },
    "id": "a30JmuBiRHzh",
    "outputId": "17514542-032c-40b3-fb92-117e3217fe6f"
   },
   "outputs": [],
   "source": [
    "for n in numbers:\n",
    "  print(add100(n))"
   ]
  }
 ],
 "metadata": {
  "colab": {
   "authorship_tag": "ABX9TyNSEWLrMRjVtLzeBSJe85Ln",
   "name": "Exercise2-FunctionLoops COMPLETED.ipynb",
   "provenance": []
  },
  "kernelspec": {
   "display_name": "Python 3 (ipykernel)",
   "language": "python",
   "name": "python3"
  },
  "language_info": {
   "codemirror_mode": {
    "name": "ipython",
    "version": 3
   },
   "file_extension": ".py",
   "mimetype": "text/x-python",
   "name": "python",
   "nbconvert_exporter": "python",
   "pygments_lexer": "ipython3",
   "version": "3.9.12"
  }
 },
 "nbformat": 4,
 "nbformat_minor": 1
}
