{
 "cells": [
  {
   "cell_type": "markdown",
   "metadata": {
    "id": "TNNeZ7zrrsUp"
   },
   "source": [
    "# SQL Hands-On"
   ]
  },
  {
   "cell_type": "markdown",
   "metadata": {
    "id": "6ZQZ3oSyr9QS"
   },
   "source": [
    "### Importing Libraries"
   ]
  },
  {
   "cell_type": "code",
   "execution_count": 1,
   "metadata": {
    "id": "nehA61uBqXmK"
   },
   "outputs": [],
   "source": [
    "import sqlalchemy as db\n",
    "import pandas as pd"
   ]
  },
  {
   "cell_type": "markdown",
   "metadata": {
    "id": "FuHPKavLsCsp"
   },
   "source": [
    "### Creating a SQL Database with SQL Alchemy"
   ]
  },
  {
   "cell_type": "markdown",
   "metadata": {
    "id": "XZBVejifsLXK"
   },
   "source": [
    "The first establish a \"database engine\". If the path directs to existing database, we can access that database. If the path directs to a database that is not yet existent, it will be created"
   ]
  },
  {
   "cell_type": "code",
   "execution_count": 2,
   "metadata": {
    "id": "g4d3UGcCsGMb"
   },
   "outputs": [],
   "source": [
    "# adapt this path to your setup\n",
    "engine = db.create_engine(\"sqlite:///acmdatabase\")"
   ]
  },
  {
   "cell_type": "markdown",
   "metadata": {
    "id": "c8hhgQMqsfQR"
   },
   "source": [
    "Then, we need to connect the created database engine"
   ]
  },
  {
   "cell_type": "code",
   "execution_count": 3,
   "metadata": {
    "id": "Qv4mr6mEsmjq"
   },
   "outputs": [
    {
     "data": {
      "text/plain": [
       "<sqlalchemy.engine.base.Connection at 0x1ca99430b50>"
      ]
     },
     "execution_count": 3,
     "metadata": {},
     "output_type": "execute_result"
    }
   ],
   "source": [
    "engine.connect()"
   ]
  },
  {
   "cell_type": "code",
   "execution_count": 4,
   "metadata": {
    "id": "p42bFZXAszUD"
   },
   "outputs": [
    {
     "data": {
      "text/plain": [
       "[]"
      ]
     },
     "execution_count": 4,
     "metadata": {},
     "output_type": "execute_result"
    }
   ],
   "source": [
    "inspector = db.inspect(engine)\n",
    "inspector.get_table_names() # the database is empty"
   ]
  },
  {
   "cell_type": "markdown",
   "metadata": {
    "id": "NOA50Ocrtw18"
   },
   "source": [
    "### Load ACM data with Pandas"
   ]
  },
  {
   "cell_type": "markdown",
   "metadata": {
    "id": "snnMm8wpt1TU"
   },
   "source": [
    "Load Excelfiles of ACM case as dataframes"
   ]
  },
  {
   "cell_type": "code",
   "execution_count": 5,
   "metadata": {
    "id": "mZt8Nxmut_Rk"
   },
   "outputs": [
    {
     "name": "stdout",
     "output_type": "stream",
     "text": [
      "<class 'pandas.core.frame.DataFrame'>\n",
      "RangeIndex: 7846 entries, 0 to 7845\n",
      "Data columns (total 17 columns):\n",
      " #   Column          Non-Null Count  Dtype         \n",
      "---  ------          --------------  -----         \n",
      " 0   DateAired       7846 non-null   datetime64[ns]\n",
      " 1   IndustryAdType  7846 non-null   object        \n",
      " 2   ProgramName     7846 non-null   object        \n",
      " 3   Spend           7846 non-null   float64       \n",
      " 4   GRP             7846 non-null   float64       \n",
      " 5   Impressions     7846 non-null   float64       \n",
      " 6   gravity         7846 non-null   float64       \n",
      " 7   relatability    7846 non-null   float64       \n",
      " 8   heart           7846 non-null   float64       \n",
      " 9   originality     7846 non-null   float64       \n",
      " 10  adrenaline      7846 non-null   float64       \n",
      " 11  smarts          7846 non-null   float64       \n",
      " 12  passion         7846 non-null   float64       \n",
      " 13  edge            7846 non-null   float64       \n",
      " 14  Country         7846 non-null   object        \n",
      " 15  State           7846 non-null   object        \n",
      " 16  GTrend          7846 non-null   int64         \n",
      "dtypes: datetime64[ns](1), float64(11), int64(1), object(4)\n",
      "memory usage: 1.0+ MB\n"
     ]
    }
   ],
   "source": [
    "survey = pd.read_excel(\"https://github.com/casbdai/notebooks2023/raw/main/Module2/SQL/TV%20Survey%20Data.xlsx\")\n",
    "survey.info()"
   ]
  },
  {
   "cell_type": "markdown",
   "metadata": {
    "id": "0C8YKc3MPmGi"
   },
   "source": [
    "Load Excelfiles of ACM case as dataframes"
   ]
  },
  {
   "cell_type": "code",
   "execution_count": 6,
   "metadata": {
    "id": "xSZQg7hHuW5t"
   },
   "outputs": [
    {
     "name": "stdout",
     "output_type": "stream",
     "text": [
      "<class 'pandas.core.frame.DataFrame'>\n",
      "RangeIndex: 7846 entries, 0 to 7845\n",
      "Data columns (total 5 columns):\n",
      " #   Column          Non-Null Count  Dtype         \n",
      "---  ------          --------------  -----         \n",
      " 0   date            7846 non-null   datetime64[ns]\n",
      " 1   IndustryAdType  7846 non-null   object        \n",
      " 2   ProgramName     7846 non-null   object        \n",
      " 3   Intentionality  7846 non-null   float64       \n",
      " 4   GTrend          7846 non-null   int64         \n",
      "dtypes: datetime64[ns](1), float64(1), int64(1), object(2)\n",
      "memory usage: 306.6+ KB\n"
     ]
    }
   ],
   "source": [
    "intentionality = pd.read_excel(\"https://github.com/casbdai/notebooks2023/raw/main/Module2/SQL/TV%20Intentionality%20Data.xlsx\")\n",
    "intentionality.info()"
   ]
  },
  {
   "cell_type": "markdown",
   "metadata": {
    "id": "1VnkiZ7BukIg"
   },
   "source": [
    "### Write loaded data into acmdatabase with Pandas"
   ]
  },
  {
   "cell_type": "markdown",
   "metadata": {
    "id": "aH16V61ovJJo"
   },
   "source": [
    "Write survey dataframe into acmdatabase using pandas"
   ]
  },
  {
   "cell_type": "code",
   "execution_count": 7,
   "metadata": {
    "id": "68VQLfmAuqu-"
   },
   "outputs": [
    {
     "data": {
      "text/plain": [
       "['survey']"
      ]
     },
     "execution_count": 7,
     "metadata": {},
     "output_type": "execute_result"
    }
   ],
   "source": [
    "survey.to_sql('survey', con=engine, if_exists=\"replace\", index=False)\n",
    "\n",
    "inspector = db.inspect(engine)\n",
    "inspector.get_table_names() #now we have created the table survey "
   ]
  },
  {
   "cell_type": "markdown",
   "metadata": {
    "id": "i7mhZB-zvPBn"
   },
   "source": [
    "Write intentionality dataframe into acmdatabase using pandas"
   ]
  },
  {
   "cell_type": "code",
   "execution_count": 8,
   "metadata": {
    "id": "JhgWxDw1vdqg"
   },
   "outputs": [
    {
     "data": {
      "text/plain": [
       "['intentionality', 'survey']"
      ]
     },
     "execution_count": 8,
     "metadata": {},
     "output_type": "execute_result"
    }
   ],
   "source": [
    "intentionality.to_sql('intentionality', con=engine, if_exists=\"replace\", index=False)\n",
    "\n",
    "inspector = db.inspect(engine)\n",
    "inspector.get_table_names() #now we have created the table intentionality"
   ]
  },
  {
   "cell_type": "markdown",
   "metadata": {
    "id": "Gs0riwYj3-Py"
   },
   "source": [
    "### Select Statements"
   ]
  },
  {
   "cell_type": "markdown",
   "metadata": {
    "id": "A1kqwtUn4THy"
   },
   "source": [
    "Select entire table"
   ]
  },
  {
   "cell_type": "code",
   "execution_count": 10,
   "metadata": {
    "id": "jvyj1AO94Bny"
   },
   "outputs": [
    {
     "data": {
      "text/html": [
       "<div>\n",
       "<style scoped>\n",
       "    .dataframe tbody tr th:only-of-type {\n",
       "        vertical-align: middle;\n",
       "    }\n",
       "\n",
       "    .dataframe tbody tr th {\n",
       "        vertical-align: top;\n",
       "    }\n",
       "\n",
       "    .dataframe thead th {\n",
       "        text-align: right;\n",
       "    }\n",
       "</style>\n",
       "<table border=\"1\" class=\"dataframe\">\n",
       "  <thead>\n",
       "    <tr style=\"text-align: right;\">\n",
       "      <th></th>\n",
       "      <th>DateAired</th>\n",
       "      <th>IndustryAdType</th>\n",
       "      <th>ProgramName</th>\n",
       "      <th>Spend</th>\n",
       "      <th>GRP</th>\n",
       "      <th>Impressions</th>\n",
       "      <th>gravity</th>\n",
       "      <th>relatability</th>\n",
       "      <th>heart</th>\n",
       "      <th>originality</th>\n",
       "      <th>adrenaline</th>\n",
       "      <th>smarts</th>\n",
       "      <th>passion</th>\n",
       "      <th>edge</th>\n",
       "      <th>Country</th>\n",
       "      <th>State</th>\n",
       "      <th>GTrend</th>\n",
       "    </tr>\n",
       "  </thead>\n",
       "  <tbody>\n",
       "    <tr>\n",
       "      <th>0</th>\n",
       "      <td>2019-04-13 00:00:00.000000</td>\n",
       "      <td>Healthy Fast Food Chain</td>\n",
       "      <td>Planet Hypothesis</td>\n",
       "      <td>147051.0</td>\n",
       "      <td>9.658</td>\n",
       "      <td>11183903.0</td>\n",
       "      <td>-1.370</td>\n",
       "      <td>0.929</td>\n",
       "      <td>-0.434</td>\n",
       "      <td>1.595</td>\n",
       "      <td>-1.561</td>\n",
       "      <td>-1.007</td>\n",
       "      <td>-0.164</td>\n",
       "      <td>4.322</td>\n",
       "      <td>United States</td>\n",
       "      <td>Delaware</td>\n",
       "      <td>47</td>\n",
       "    </tr>\n",
       "    <tr>\n",
       "      <th>1</th>\n",
       "      <td>2019-04-13 00:00:00.000000</td>\n",
       "      <td>Healthy Fast Food Chain</td>\n",
       "      <td>New Gal</td>\n",
       "      <td>387.0</td>\n",
       "      <td>0.163</td>\n",
       "      <td>188746.0</td>\n",
       "      <td>-0.938</td>\n",
       "      <td>0.880</td>\n",
       "      <td>0.450</td>\n",
       "      <td>-0.099</td>\n",
       "      <td>-1.244</td>\n",
       "      <td>-1.628</td>\n",
       "      <td>0.661</td>\n",
       "      <td>0.385</td>\n",
       "      <td>United States</td>\n",
       "      <td>Kentucky</td>\n",
       "      <td>47</td>\n",
       "    </tr>\n",
       "    <tr>\n",
       "      <th>2</th>\n",
       "      <td>2019-04-13 00:00:00.000000</td>\n",
       "      <td>Healthy Fast Food Chain</td>\n",
       "      <td>Sister Home Sellers</td>\n",
       "      <td>78814.0</td>\n",
       "      <td>5.274</td>\n",
       "      <td>6106398.0</td>\n",
       "      <td>1.501</td>\n",
       "      <td>1.109</td>\n",
       "      <td>-0.560</td>\n",
       "      <td>0.399</td>\n",
       "      <td>1.185</td>\n",
       "      <td>-0.005</td>\n",
       "      <td>-0.101</td>\n",
       "      <td>0.149</td>\n",
       "      <td>United States</td>\n",
       "      <td>Hawaii</td>\n",
       "      <td>47</td>\n",
       "    </tr>\n",
       "    <tr>\n",
       "      <th>3</th>\n",
       "      <td>2019-04-13 00:00:00.000000</td>\n",
       "      <td>Healthy Fast Food Chain</td>\n",
       "      <td>Freaky Vacations</td>\n",
       "      <td>178700.0</td>\n",
       "      <td>8.658</td>\n",
       "      <td>10026367.0</td>\n",
       "      <td>-1.483</td>\n",
       "      <td>0.036</td>\n",
       "      <td>0.390</td>\n",
       "      <td>-1.429</td>\n",
       "      <td>1.751</td>\n",
       "      <td>0.413</td>\n",
       "      <td>1.997</td>\n",
       "      <td>0.389</td>\n",
       "      <td>United States</td>\n",
       "      <td>Washington</td>\n",
       "      <td>47</td>\n",
       "    </tr>\n",
       "    <tr>\n",
       "      <th>4</th>\n",
       "      <td>2019-04-13 00:00:00.000000</td>\n",
       "      <td>Healthy Fast Food Chain</td>\n",
       "      <td>Maui Five Ten</td>\n",
       "      <td>208500.0</td>\n",
       "      <td>5.241</td>\n",
       "      <td>6068858.0</td>\n",
       "      <td>-0.479</td>\n",
       "      <td>1.473</td>\n",
       "      <td>-0.205</td>\n",
       "      <td>0.327</td>\n",
       "      <td>0.773</td>\n",
       "      <td>-0.955</td>\n",
       "      <td>2.105</td>\n",
       "      <td>-0.217</td>\n",
       "      <td>United States</td>\n",
       "      <td>Florida</td>\n",
       "      <td>47</td>\n",
       "    </tr>\n",
       "    <tr>\n",
       "      <th>...</th>\n",
       "      <td>...</td>\n",
       "      <td>...</td>\n",
       "      <td>...</td>\n",
       "      <td>...</td>\n",
       "      <td>...</td>\n",
       "      <td>...</td>\n",
       "      <td>...</td>\n",
       "      <td>...</td>\n",
       "      <td>...</td>\n",
       "      <td>...</td>\n",
       "      <td>...</td>\n",
       "      <td>...</td>\n",
       "      <td>...</td>\n",
       "      <td>...</td>\n",
       "      <td>...</td>\n",
       "      <td>...</td>\n",
       "      <td>...</td>\n",
       "    </tr>\n",
       "    <tr>\n",
       "      <th>7841</th>\n",
       "      <td>2021-05-22 00:00:00.000000</td>\n",
       "      <td>Sport Utility Vehicle Sales</td>\n",
       "      <td>Planet Hypothesis</td>\n",
       "      <td>194193.0</td>\n",
       "      <td>14.693</td>\n",
       "      <td>17105095.0</td>\n",
       "      <td>-1.279</td>\n",
       "      <td>1.420</td>\n",
       "      <td>-0.749</td>\n",
       "      <td>0.530</td>\n",
       "      <td>-1.531</td>\n",
       "      <td>-1.209</td>\n",
       "      <td>0.255</td>\n",
       "      <td>0.667</td>\n",
       "      <td>United States</td>\n",
       "      <td>Illinois</td>\n",
       "      <td>85</td>\n",
       "    </tr>\n",
       "    <tr>\n",
       "      <th>7842</th>\n",
       "      <td>2021-05-22 00:00:00.000000</td>\n",
       "      <td>Sport Utility Vehicle Sales</td>\n",
       "      <td>Waltzing with the Famous</td>\n",
       "      <td>48839.0</td>\n",
       "      <td>1.731</td>\n",
       "      <td>2014795.0</td>\n",
       "      <td>1.364</td>\n",
       "      <td>0.764</td>\n",
       "      <td>0.297</td>\n",
       "      <td>0.799</td>\n",
       "      <td>1.620</td>\n",
       "      <td>-2.017</td>\n",
       "      <td>-0.097</td>\n",
       "      <td>0.068</td>\n",
       "      <td>United States</td>\n",
       "      <td>Colorado</td>\n",
       "      <td>85</td>\n",
       "    </tr>\n",
       "    <tr>\n",
       "      <th>7843</th>\n",
       "      <td>2021-05-22 00:00:00.000000</td>\n",
       "      <td>Sport Utility Vehicle Sales</td>\n",
       "      <td>Sister Home Sellers</td>\n",
       "      <td>3000.0</td>\n",
       "      <td>1.485</td>\n",
       "      <td>1728914.0</td>\n",
       "      <td>1.670</td>\n",
       "      <td>1.376</td>\n",
       "      <td>-0.608</td>\n",
       "      <td>-0.106</td>\n",
       "      <td>0.658</td>\n",
       "      <td>-0.389</td>\n",
       "      <td>-0.124</td>\n",
       "      <td>0.043</td>\n",
       "      <td>United States</td>\n",
       "      <td>New York</td>\n",
       "      <td>85</td>\n",
       "    </tr>\n",
       "    <tr>\n",
       "      <th>7844</th>\n",
       "      <td>2021-05-22 00:00:00.000000</td>\n",
       "      <td>Sport Utility Vehicle Sales</td>\n",
       "      <td>Together Forever</td>\n",
       "      <td>38187.0</td>\n",
       "      <td>5.212</td>\n",
       "      <td>6065586.0</td>\n",
       "      <td>-0.878</td>\n",
       "      <td>0.150</td>\n",
       "      <td>-0.955</td>\n",
       "      <td>-0.505</td>\n",
       "      <td>-1.097</td>\n",
       "      <td>-1.271</td>\n",
       "      <td>-0.659</td>\n",
       "      <td>1.753</td>\n",
       "      <td>United States</td>\n",
       "      <td>Texas</td>\n",
       "      <td>85</td>\n",
       "    </tr>\n",
       "    <tr>\n",
       "      <th>7845</th>\n",
       "      <td>2021-05-22 00:00:00.000000</td>\n",
       "      <td>Sport Utility Vehicle Sales</td>\n",
       "      <td>Orlando Vice</td>\n",
       "      <td>4240.0</td>\n",
       "      <td>0.583</td>\n",
       "      <td>679495.0</td>\n",
       "      <td>-1.096</td>\n",
       "      <td>1.146</td>\n",
       "      <td>0.877</td>\n",
       "      <td>-0.305</td>\n",
       "      <td>-1.060</td>\n",
       "      <td>-1.032</td>\n",
       "      <td>0.115</td>\n",
       "      <td>1.565</td>\n",
       "      <td>United States</td>\n",
       "      <td>Texas</td>\n",
       "      <td>85</td>\n",
       "    </tr>\n",
       "  </tbody>\n",
       "</table>\n",
       "<p>7846 rows × 17 columns</p>\n",
       "</div>"
      ],
      "text/plain": [
       "                       DateAired               IndustryAdType  \\\n",
       "0     2019-04-13 00:00:00.000000      Healthy Fast Food Chain   \n",
       "1     2019-04-13 00:00:00.000000      Healthy Fast Food Chain   \n",
       "2     2019-04-13 00:00:00.000000      Healthy Fast Food Chain   \n",
       "3     2019-04-13 00:00:00.000000      Healthy Fast Food Chain   \n",
       "4     2019-04-13 00:00:00.000000      Healthy Fast Food Chain   \n",
       "...                          ...                          ...   \n",
       "7841  2021-05-22 00:00:00.000000  Sport Utility Vehicle Sales   \n",
       "7842  2021-05-22 00:00:00.000000  Sport Utility Vehicle Sales   \n",
       "7843  2021-05-22 00:00:00.000000  Sport Utility Vehicle Sales   \n",
       "7844  2021-05-22 00:00:00.000000  Sport Utility Vehicle Sales   \n",
       "7845  2021-05-22 00:00:00.000000  Sport Utility Vehicle Sales   \n",
       "\n",
       "                   ProgramName     Spend     GRP  Impressions  gravity  \\\n",
       "0            Planet Hypothesis  147051.0   9.658   11183903.0   -1.370   \n",
       "1                      New Gal     387.0   0.163     188746.0   -0.938   \n",
       "2          Sister Home Sellers   78814.0   5.274    6106398.0    1.501   \n",
       "3             Freaky Vacations  178700.0   8.658   10026367.0   -1.483   \n",
       "4                Maui Five Ten  208500.0   5.241    6068858.0   -0.479   \n",
       "...                        ...       ...     ...          ...      ...   \n",
       "7841         Planet Hypothesis  194193.0  14.693   17105095.0   -1.279   \n",
       "7842  Waltzing with the Famous   48839.0   1.731    2014795.0    1.364   \n",
       "7843       Sister Home Sellers    3000.0   1.485    1728914.0    1.670   \n",
       "7844          Together Forever   38187.0   5.212    6065586.0   -0.878   \n",
       "7845              Orlando Vice    4240.0   0.583     679495.0   -1.096   \n",
       "\n",
       "      relatability  heart  originality  adrenaline  smarts  passion   edge  \\\n",
       "0            0.929 -0.434        1.595      -1.561  -1.007   -0.164  4.322   \n",
       "1            0.880  0.450       -0.099      -1.244  -1.628    0.661  0.385   \n",
       "2            1.109 -0.560        0.399       1.185  -0.005   -0.101  0.149   \n",
       "3            0.036  0.390       -1.429       1.751   0.413    1.997  0.389   \n",
       "4            1.473 -0.205        0.327       0.773  -0.955    2.105 -0.217   \n",
       "...            ...    ...          ...         ...     ...      ...    ...   \n",
       "7841         1.420 -0.749        0.530      -1.531  -1.209    0.255  0.667   \n",
       "7842         0.764  0.297        0.799       1.620  -2.017   -0.097  0.068   \n",
       "7843         1.376 -0.608       -0.106       0.658  -0.389   -0.124  0.043   \n",
       "7844         0.150 -0.955       -0.505      -1.097  -1.271   -0.659  1.753   \n",
       "7845         1.146  0.877       -0.305      -1.060  -1.032    0.115  1.565   \n",
       "\n",
       "            Country       State  GTrend  \n",
       "0     United States    Delaware      47  \n",
       "1     United States    Kentucky      47  \n",
       "2     United States      Hawaii      47  \n",
       "3     United States  Washington      47  \n",
       "4     United States     Florida      47  \n",
       "...             ...         ...     ...  \n",
       "7841  United States    Illinois      85  \n",
       "7842  United States    Colorado      85  \n",
       "7843  United States    New York      85  \n",
       "7844  United States       Texas      85  \n",
       "7845  United States       Texas      85  \n",
       "\n",
       "[7846 rows x 17 columns]"
      ]
     },
     "execution_count": 10,
     "metadata": {},
     "output_type": "execute_result"
    }
   ],
   "source": [
    "pd.read_sql(db.text(\"SELECT * FROM survey;\"), engine.connect())\n"
   ]
  },
  {
   "cell_type": "markdown",
   "metadata": {
    "id": "1_8gQI297CA6"
   },
   "source": [
    "Select Variables \"GRP\" and \"ProgramName\" from table survey"
   ]
  },
  {
   "cell_type": "code",
   "execution_count": null,
   "metadata": {
    "id": "YBa5DVfw4dKC"
   },
   "outputs": [],
   "source": [
    "pd.read_sql(\"SELECT GRP, ProgramName FROM survey;\", engine)"
   ]
  },
  {
   "cell_type": "markdown",
   "metadata": {
    "id": "tBCwmXYr6_E7"
   },
   "source": [
    "Select the variables \"gravity\", \"relatability\" and \"edge\" from survey"
   ]
  },
  {
   "cell_type": "code",
   "execution_count": null,
   "metadata": {
    "id": "yMC5JYYq7Xq6"
   },
   "outputs": [],
   "source": [
    "pd.read_sql(db.text(\"SELECT gravity, relatability, edge FROM survey;\"), engine.connect())"
   ]
  },
  {
   "cell_type": "markdown",
   "metadata": {
    "id": "pMhFFUIR7bMV"
   },
   "source": [
    "Select all variables from table intentionality"
   ]
  },
  {
   "cell_type": "code",
   "execution_count": null,
   "metadata": {
    "id": "qN_muakg7iJa"
   },
   "outputs": [],
   "source": [
    "pd.read_sql(db.text(\"SELECT * FROM intentionality;\"), engine.connect())"
   ]
  },
  {
   "cell_type": "markdown",
   "metadata": {
    "id": "pd7ivLAp8xhk"
   },
   "source": [
    "### Aliases "
   ]
  },
  {
   "cell_type": "markdown",
   "metadata": {
    "id": "elyMlDb7866t"
   },
   "source": [
    "Using aliases, i.e., \"AS\" we can rename single or all variables in our SQL query"
   ]
  },
  {
   "cell_type": "code",
   "execution_count": null,
   "metadata": {
    "id": "yTK2TirD8agL"
   },
   "outputs": [],
   "source": [
    "pd.read_sql(db.text(\"SELECT GRP AS 'Gross Rate Point', ProgramName AS Program FROM survey;\"), engine.connect())"
   ]
  },
  {
   "cell_type": "markdown",
   "metadata": {
    "id": "YKiTr2H39sbF"
   },
   "source": [
    "From the table intentionality select the variables \"Program Name\" and \"Intenationality\". you want the variable names to be all caps (e.g., PROGRAM NAME)"
   ]
  },
  {
   "cell_type": "code",
   "execution_count": null,
   "metadata": {
    "id": "D47j-p3BEWiR"
   },
   "outputs": [],
   "source": [
    "pd.read_sql(db.text(\"SELECT ProgramName AS 'PROGRAM NAME', Intentionality AS INTENTIONALITY FROM intentionality;\"), engine.connect())"
   ]
  },
  {
   "cell_type": "markdown",
   "metadata": {
    "id": "0iKAAH9x-guH"
   },
   "source": [
    "### Where-Clauses"
   ]
  },
  {
   "cell_type": "markdown",
   "metadata": {
    "id": "lT2lpCml-kQ8"
   },
   "source": [
    "With where clauses, you can make specific selections of the data, comparable to .loc() in Pandas"
   ]
  },
  {
   "cell_type": "code",
   "execution_count": null,
   "metadata": {
    "id": "LwAbBcgD-wiW"
   },
   "outputs": [],
   "source": [
    "pd.read_sql(db.text(\"SELECT ProgramName, Spend, DateAired FROM survey WHERE ProgramName='See and Sold';\"), engine.connect())"
   ]
  },
  {
   "cell_type": "markdown",
   "metadata": {
    "id": "g4ov3qkdD6H7"
   },
   "source": [
    "You can use all kind of boolean operators: AND  OR  >  <  =  != "
   ]
  },
  {
   "cell_type": "code",
   "execution_count": null,
   "metadata": {
    "id": "tltiM3etC4Tx"
   },
   "outputs": [],
   "source": [
    "pd.read_sql(db.text(\"SELECT ProgramName, Spend FROM survey WHERE ProgramName='See and Sold' AND Spend > 40;\"), engine.connect())"
   ]
  },
  {
   "cell_type": "markdown",
   "metadata": {
    "id": "WE6__1KFEdY8"
   },
   "source": [
    "Select all programs with an intentionality score of bigger than 0.5 from table intentionality "
   ]
  },
  {
   "cell_type": "code",
   "execution_count": null,
   "metadata": {
    "id": "AcmMVSatEr8b"
   },
   "outputs": [],
   "source": [
    "pd.read_sql(db.text(\"SELECT ProgramName, Intentionality FROM intentionality WHERE Intentionality > 0.5;\"), engine.connect())"
   ]
  },
  {
   "cell_type": "markdown",
   "metadata": {
    "id": "yQG5FJncFrkw"
   },
   "source": [
    "Select the \"gravity\" and \"edge\" variables for the programs \"See and Sold\" and \"New Gal\" from the table survey"
   ]
  },
  {
   "cell_type": "code",
   "execution_count": null,
   "metadata": {
    "id": "gMab7gYUJdP9"
   },
   "outputs": [],
   "source": [
    "pd.read_sql(db.text(\"SELECT edge, gravity, ProgramName FROM survey WHERE ProgramName='See and Sold' OR ProgramName = 'New Gal';\"), engine.connect())"
   ]
  },
  {
   "cell_type": "markdown",
   "metadata": {
    "id": "4vFgrFODH_Aa"
   },
   "source": [
    "### Selecting Data from Multiple Tables - Where SQL can become complicated :)"
   ]
  },
  {
   "cell_type": "markdown",
   "metadata": {
    "id": "yA8tSvESIQj0"
   },
   "source": [
    "First try"
   ]
  },
  {
   "cell_type": "code",
   "execution_count": null,
   "metadata": {
    "id": "hDcMAXgRISmc"
   },
   "outputs": [],
   "source": [
    "pd.read_sql(db.text(\"SELECT A.GRP, B.Intentionality FROM survey A, intentionality B WHERE A.ProgramName = B.ProgramName;\"), engine.connect())"
   ]
  },
  {
   "cell_type": "markdown",
   "metadata": {
    "id": "IUoh6aDEIe2m"
   },
   "source": [
    "Better Try - We need to apply the where clause to all three criteria in the two data sets"
   ]
  },
  {
   "cell_type": "code",
   "execution_count": null,
   "metadata": {
    "id": "yRwpACY-GXnp"
   },
   "outputs": [],
   "source": [
    "pd.read_sql(db.text(\"SELECT A.GRP, B.Intentionality FROM survey A, intentionality B WHERE A.ProgramName = B.ProgramName AND A.DateAired=B.date AND A.IndustryAdType = B.IndustryAdType;\"), engine.connect())"
   ]
  },
  {
   "cell_type": "markdown",
   "metadata": {
    "id": "ZTZs9v27J-nc"
   },
   "source": [
    "This is equivalent to an inner join - we will look at that in greater detail in Pandas :)"
   ]
  }
 ],
 "metadata": {
  "colab": {
   "collapsed_sections": [],
   "name": "Handson_SQL_COMPLETED.ipynb",
   "provenance": []
  },
  "kernelspec": {
   "display_name": "Python 3 (ipykernel)",
   "language": "python",
   "name": "python3"
  },
  "language_info": {
   "codemirror_mode": {
    "name": "ipython",
    "version": 3
   },
   "file_extension": ".py",
   "mimetype": "text/x-python",
   "name": "python",
   "nbconvert_exporter": "python",
   "pygments_lexer": "ipython3",
   "version": "3.9.10"
  }
 },
 "nbformat": 4,
 "nbformat_minor": 1
}
